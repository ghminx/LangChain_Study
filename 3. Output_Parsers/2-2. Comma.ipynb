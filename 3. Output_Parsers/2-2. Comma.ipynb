{
 "cells": [
  {
   "cell_type": "markdown",
   "metadata": {},
   "source": [
    "### **CommaSeparatedListOutputParser**"
   ]
  },
  {
   "cell_type": "markdown",
   "metadata": {},
   "source": [
    "`CommaSeparatedListOutputParser`를 사용하여, 모델이 생성한 텍스트에서 쉼표(,)로 구분된 항목을 추출하여 리스트 형태로 정리하여 파싱\n",
    "\n",
    "모델의 출력을 구조화된 데이터 형태로 변환할 수 있으며, 이후 처리 과정에서 데이터를 더 편리하게 활용할 수 있음\n",
    "\n",
    "- 모델의 출력이 \",\" 로 분리될수있게 하는 프롬프트 가이드를 제공하는것임"
   ]
  },
  {
   "cell_type": "code",
   "execution_count": null,
   "metadata": {},
   "outputs": [
    {
     "name": "stdout",
     "output_type": "stream",
     "text": [
      "Your response should be a list of comma separated values, eg: `foo, bar, baz` or `foo,bar,baz`\n"
     ]
    }
   ],
   "source": [
    "from langchain_core.output_parsers import CommaSeparatedListOutputParser\n",
    "\n",
    "# 콤마 구분 리스트 파서 \n",
    "output_parser = CommaSeparatedListOutputParser()\n",
    "\n",
    "# 출력 지침(프롬프트)\n",
    "format_instructions = output_parser.get_format_instructions()\n",
    "\n",
    "print(format_instructions)"
   ]
  },
  {
   "cell_type": "code",
   "execution_count": 36,
   "metadata": {},
   "outputs": [
    {
     "data": {
      "text/plain": [
       "'경복궁, 남산, 불국사, 제주도, 설악산 \\n'"
      ]
     },
     "execution_count": 36,
     "metadata": {},
     "output_type": "execute_result"
    }
   ],
   "source": [
    "from langchain_core.prompts import PromptTemplate\n",
    "from langchain_core.output_parsers import StrOutputParser\n",
    "from langchain_groq import ChatGroq\n",
    "\n",
    "# 프롬프트 템플릿\n",
    "prompt = PromptTemplate(\n",
    "    template=\"List five {input}.\\n{format_instructions}\",\n",
    "\n",
    "    # 입력 변수\n",
    "    input_variables=[\"input\"],\n",
    "\n",
    "    # 부분 변수\n",
    "    partial_variables={\"format_instructions\": format_instructions}\n",
    ")\n",
    "\n",
    "llm = ChatGroq(model = 'gemma2-9b-it',\n",
    "               temperature=0)\n",
    "\n",
    "chain = prompt | llm | StrOutputParser()\n",
    "\n",
    "\n",
    "response = chain.invoke({'input' : '대한민국 관광명소'})\n",
    "response"
   ]
  }
 ],
 "metadata": {
  "kernelspec": {
   "display_name": "chain",
   "language": "python",
   "name": "python3"
  },
  "language_info": {
   "codemirror_mode": {
    "name": "ipython",
    "version": 3
   },
   "file_extension": ".py",
   "mimetype": "text/x-python",
   "name": "python",
   "nbconvert_exporter": "python",
   "pygments_lexer": "ipython3",
   "version": "3.12.0"
  }
 },
 "nbformat": 4,
 "nbformat_minor": 2
}
