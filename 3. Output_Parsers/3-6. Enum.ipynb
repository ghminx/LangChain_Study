{
 "cells": [
  {
   "cell_type": "markdown",
   "metadata": {},
   "source": [
    "### **EnumOutputParser**\n",
    "\n",
    "#### 열거형 (Enum) 데이터를 처리하는 특수한 파서, 사전 정의된 옵션들 중에서만 선택할 수 있도록 제한하는 파서\n",
    "\n",
    "- 제한된 선택지 중에서만 응답을 받아야 할 때\n",
    "- 카테고리 분류가 필요한 경우\n",
    "- 응답의 일관성이 중요한 경우\n",
    "- 오류 가능성을 최소화해야 하는 상황"
   ]
  },
  {
   "cell_type": "code",
   "execution_count": 6,
   "metadata": {},
   "outputs": [],
   "source": [
    "from langchain.output_parsers.enum import EnumOutputParser\n",
    "from enum import Enum\n",
    "\n",
    "class Emotion(Enum):\n",
    "    POSITIVE = 'Positive'\n",
    "    NEGATIVE = 'Negative'\n",
    "    NEUTRAL = 'Neutral'\n",
    "    \n",
    "# EnumOutputParser 정의\n",
    "parser = EnumOutputParser(enum=Emotion)"
   ]
  },
  {
   "cell_type": "code",
   "execution_count": 8,
   "metadata": {},
   "outputs": [
    {
     "data": {
      "text/plain": [
       "<Emotion.NEUTRAL: 'Neutral'>"
      ]
     },
     "execution_count": 8,
     "metadata": {},
     "output_type": "execute_result"
    }
   ],
   "source": [
    "from langchain_core.prompts import PromptTemplate\n",
    "from langchain_groq import ChatGroq\n",
    "\n",
    "prompt = PromptTemplate.from_template(\n",
    "    '''\n",
    "    입력된 텍스트의 감정을 분석하고, 결과를 'Positive','Negative' 'Neutral',단어 중 하나로 나타내세요.\n",
    "\n",
    "    # Steps\n",
    "\n",
    "    1. 텍스트의 전반적인 어조와 의미를 분석합니다.\n",
    "    2. 어조가 긍정적인 경우 'Positive'을 선택하고, 부정적인 경우 'Negative'을 선택합니다. 중립인경우 'Neutral'을 선택합니다.\n",
    "\n",
    "    # Output Format\n",
    "\n",
    "    한 단어로 결과를 나타내되, 'Positive' 또는 'Negative', 'Neutral'만 사용합니다.\n",
    "    \n",
    "    input:\n",
    "    {input}\n",
    "    \n",
    "    Instruct:\n",
    "    {Instruct}\n",
    "    '''\n",
    ")\n",
    "\n",
    "prompt = prompt.partial(Instruct = parser.get_format_instructions())\n",
    "\n",
    "llm = ChatGroq(model = 'gemma2-9b-it')\n",
    "\n",
    "chain = prompt | llm | parser\n",
    "\n",
    "response = chain.invoke({\"input\": \"음 좋은거 같기도 안좋은거같기도 애매하네요\"})\n",
    "response"
   ]
  },
  {
   "cell_type": "code",
   "execution_count": 46,
   "metadata": {},
   "outputs": [
    {
     "data": {
      "text/plain": [
       "'부정'"
      ]
     },
     "execution_count": 46,
     "metadata": {},
     "output_type": "execute_result"
    }
   ],
   "source": [
    "response.value"
   ]
  },
  {
   "cell_type": "code",
   "execution_count": 52,
   "metadata": {},
   "outputs": [
    {
     "data": {
      "text/plain": [
       "'Negative \\n'"
      ]
     },
     "execution_count": 52,
     "metadata": {},
     "output_type": "execute_result"
    }
   ],
   "source": [
    "from langchain_core.prompts import PromptTemplate\n",
    "from langchain_groq import ChatGroq\n",
    "\n",
    "prompt = PromptTemplate.from_template(\n",
    "    '''\n",
    "    입력된 텍스트의 감정을 분석하고, 결과를 '긍정' 또는 '부정' 단어 중 하나로 나타내세요.\n",
    "\n",
    "    # Steps\n",
    "\n",
    "    1. 텍스트의 전반적인 어조와 의미를 분석합니다.\n",
    "    2. 어조가 긍정적인 경우 'Positive'을 선택하고, 부정적인 경우 'Negative'을 선택합니다.\n",
    "\n",
    "    # Output Format\n",
    "\n",
    "    한 단어로 결과를 나타내되, 'Positive' 또는 'Negative'만 사용합니다.\n",
    "\n",
    "    # Examples\n",
    "\n",
    "    입력: \"오늘 날씨가 정말 좋네요!\"\n",
    "    출력: \"Positive\"\n",
    "\n",
    "    입력: \"내 기분이 별로 안 좋아.\"\n",
    "    출력: \"Negative\"\n",
    "\n",
    "    # Notes\n",
    "\n",
    "    - 감정이 명확하지 않더라도 두 가지 중 가장 적합한 것으로 선택해야 합니다. \n",
    "    - 맥락을 중요시합니다. 예를 들어, 비꼬는 어조일 경우에도 본래 의도를 파악해야 합니다.\n",
    "    \n",
    "    \n",
    "    Q :\n",
    "    {Q}\n",
    "    '''\n",
    ")\n",
    "\n",
    "llm = ChatGroq(model = 'gemma2-9b-it')\n",
    "\n",
    "chain = prompt | llm\n",
    "\n",
    "chain.invoke(\"아 진짜 집에 가고싶어요 너무 힘들어요 집 보내주세요\").content"
   ]
  },
  {
   "cell_type": "code",
   "execution_count": 2,
   "metadata": {},
   "outputs": [
    {
     "name": "stdout",
     "output_type": "stream",
     "text": [
      "Color.RED\n",
      "RED\n",
      "red\n"
     ]
    }
   ],
   "source": [
    "from enum import Enum\n",
    "\n",
    "class Color(Enum):\n",
    "    RED = 'red'\n",
    "    GREEN = 'green'\n",
    "    BLUE = 'blue'\n",
    "\n",
    "# 사용 예시\n",
    "print(Color.RED)      # Color.RED\n",
    "print(Color.RED.name) # 'RED'\n",
    "print(Color.RED.value) # 1"
   ]
  }
 ],
 "metadata": {
  "kernelspec": {
   "display_name": "nlp",
   "language": "python",
   "name": "python3"
  },
  "language_info": {
   "codemirror_mode": {
    "name": "ipython",
    "version": 3
   },
   "file_extension": ".py",
   "mimetype": "text/x-python",
   "name": "python",
   "nbconvert_exporter": "python",
   "pygments_lexer": "ipython3",
   "version": "3.11.11"
  }
 },
 "nbformat": 4,
 "nbformat_minor": 2
}
