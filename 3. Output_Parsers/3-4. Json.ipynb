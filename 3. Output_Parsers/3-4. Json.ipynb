{
 "cells": [
  {
   "cell_type": "markdown",
   "metadata": {},
   "source": [
    "### **JSON 출력 파서(JsonOutputParser)**\n",
    "\n",
    "사용자가 원하는 JSON 스키마를 지정, 그 스키마에 맞게 LLM에서 데이터를 조회하여 결과 도출 \n",
    "\n",
    "테스트 해보니 JsonOutputParser, PydanticOutputParser는 거의 같은거같음 Pydantic은 dict()을 해주면 Json과 같음"
   ]
  },
  {
   "cell_type": "code",
   "execution_count": null,
   "metadata": {},
   "outputs": [],
   "source": [
    "from langchain_core.output_parsers import JsonOutputParser, PydanticOutputParser\n",
    "from langchain_core.prompts import ChatPromptTemplate, PromptTemplate\n",
    "from pydantic import BaseModel, Field\n",
    "from langchain_groq import ChatGroq"
   ]
  },
  {
   "cell_type": "code",
   "execution_count": null,
   "metadata": {},
   "outputs": [],
   "source": [
    "# 출력 구조 정의\n",
    "class Topic(BaseModel):\n",
    "    description: str = Field(description=\"주제에 대한 간략한 설명\")\n",
    "    hashtags: str = Field(description=\"해시태그 형식의 키워드(2개 이상\")"
   ]
  },
  {
   "cell_type": "markdown",
   "metadata": {},
   "source": [
    "### **ChatPromptTemplate**"
   ]
  },
  {
   "cell_type": "code",
   "execution_count": null,
   "metadata": {},
   "outputs": [],
   "source": [
    "# 출력 파서 정의\n",
    "parser = JsonOutputParser(pydantic_object=Topic)\n",
    "\n",
    "# 질의 작성\n",
    "question = \"지구 온난화의 심각성 대해 알려주세요.\"\n",
    "\n",
    "prompt = ChatPromptTemplate.from_messages([\n",
    "    ('system', '당신은 사용자의 질문에 대답하는 어시스턴트 입니다 간결하게 답변해주세요'),\n",
    "    ('user', '#Format: {format_instructions}\\n\\n{question}')]\n",
    ")\n",
    "\n",
    "prompt = prompt.partial(format_instructions=parser.get_format_instructions())\n",
    "\n",
    "llm = ChatGroq(model = 'gemma2-9b-it')\n",
    "\n",
    "chain = prompt | llm | parser\n",
    "\n",
    "chain.invoke(question)"
   ]
  },
  {
   "cell_type": "markdown",
   "metadata": {},
   "source": [
    "### **PromptTemplate.from_template**"
   ]
  },
  {
   "cell_type": "code",
   "execution_count": null,
   "metadata": {},
   "outputs": [],
   "source": [
    "# 출력 파서 정의\n",
    "parser = JsonOutputParser(pydantic_object=Topic)\n",
    "\n",
    "# 질의 작성\n",
    "question = \"지구 온난화의 심각성 대해 알려주세요.\"\n",
    "\n",
    "prompt = PromptTemplate.from_template(\n",
    "    \"\"\"\n",
    "    당신은 사용자에게 친절하게 답변해주는 AI입니다. 질문에 간결하게 답변해주세요'    \n",
    "    \n",
    "    #Format: {format_instructions}\n",
    "    \n",
    "    Question : {question}\n",
    "    \"\"\"\n",
    ")\n",
    "\n",
    "prompt = prompt.partial(format_instructions=parser.get_format_instructions())\n",
    "\n",
    "chain = prompt | llm | parser\n",
    "\n",
    "chain.invoke({'question': question})"
   ]
  },
  {
   "cell_type": "markdown",
   "metadata": {},
   "source": [
    "### **PromptTemplate**"
   ]
  },
  {
   "cell_type": "code",
   "execution_count": null,
   "metadata": {},
   "outputs": [],
   "source": [
    "prompt = PromptTemplate(\n",
    "    template = '사용자의 질문에 친절하게 답변해주는 어시스턴트 입니다. 간결하게 답변해주세요\\n\\n#Format: {format_instructions}\\n\\n{question}',\n",
    "    input_variables = ['question'],\n",
    "    partial_variables={'format_instructions': parser.get_format_instructions()}\n",
    ")\n",
    "\n",
    "chain = prompt | llm | parser\n",
    "\n",
    "chain.invoke('지구 온난화의 심각성 대해 알려주세요.')"
   ]
  },
  {
   "cell_type": "markdown",
   "metadata": {},
   "source": [
    "### **Pydantic 없이 사용**"
   ]
  },
  {
   "cell_type": "code",
   "execution_count": null,
   "metadata": {},
   "outputs": [
    {
     "data": {
      "text/plain": [
       "{'description': '지구 온난화는 지구 평균 기온이 오랜 시간 동안 상승하는 현상을 말합니다. 주로 인간 활동으로 인해 발생하는 온실가스 배출이 원인이며, 해수면 상승, 극심한 기후 현상, 생물 다양성 감소 등 심각한 영향을 미치고 있습니다.',\n",
       " 'hashtags': ['#지구온난화', '#온실가스', '#기후변화', '#환경문제', '#지속가능성']}"
      ]
     },
     "execution_count": 20,
     "metadata": {},
     "output_type": "execute_result"
    }
   ],
   "source": [
    "\n",
    "parser = JsonOutputParser()\n",
    "\n",
    "question = \"지구 온난화에 대해 알려주세요. 온난화에 대한 설명은 `description`에, 관련 키워드는 `hashtags`에 담아주세요.\"\n",
    "\n",
    "prompt = PromptTemplate.from_template(\n",
    "    \"\"\"\n",
    "    당신은 사용자에게 친절하게 답변해주는 AI입니다. 질문에 간결하게 답변해주세요'    \n",
    "    \n",
    "    #Format: {format_instructions}\n",
    "    \n",
    "    Question : {question}\n",
    "    \"\"\"\n",
    ")\n",
    "\n",
    "prompt = prompt.partial(format_instructions=parser.get_format_instructions())\n",
    "\n",
    "llm = ChatGroq(model = 'gemma2-9b-it')\n",
    "\n",
    "chain = prompt | llm | parser\n",
    "\n",
    "chain.invoke(question)"
   ]
  },
  {
   "cell_type": "code",
   "execution_count": null,
   "metadata": {},
   "outputs": [
    {
     "name": "stdout",
     "output_type": "stream",
     "text": [
      "{'description': '지구 온난화는 지구의 평균 기온이 장기간 증가하는 현상으로, 대기 중 온실가스 증가로 인해 발생합니다. 이는 해빙, 해수면 상승, 기후 변화 등 심각한 환경 문제를 야기합니다.', 'hashtags': ['#지구온난화', '#온실가스', '#기후변화', '#환경문제', '#해빙', '#해수면상승']}\n"
     ]
    }
   ],
   "source": [
    "from langchain_core.prompts import ChatPromptTemplate\n",
    "\n",
    "# 질의 작성\n",
    "question = \"지구 온난화에 대해 알려주세요. 온난화에 대한 설명은 `description`에, 관련 키워드는 `hashtags`에 담아주세요.\"\n",
    "\n",
    "# JSON 출력 파서 초기화\n",
    "parser = JsonOutputParser()\n",
    "\n",
    "# 프롬프트 템플릿을 설정합니다.\n",
    "prompt = ChatPromptTemplate.from_messages(\n",
    "    [\n",
    "        (\"system\", \"당신은 친절한 AI 어시스턴트 입니다. 질문에 간결하게 답변하세요.\"),\n",
    "        (\"user\", \"#Format: {format_instructions}\\n\\n#Question: {question}\"),\n",
    "    ]\n",
    ")\n",
    "\n",
    "# 지시사항을 프롬프트에 주입합니다.\n",
    "prompt = prompt.partial(format_instructions=parser.get_format_instructions())\n",
    "\n",
    "# 프롬프트, 모델, 파서를 연결하는 체인 생성\n",
    "chain = prompt | llm | parser\n",
    "\n",
    "# 체인을 호출하여 쿼리 실행\n",
    "response = chain.invoke({\"question\": question})\n",
    "\n",
    "# 출력을 확인합니다.\n",
    "print(response)"
   ]
  }
 ],
 "metadata": {
  "kernelspec": {
   "display_name": "nlp",
   "language": "python",
   "name": "python3"
  },
  "language_info": {
   "codemirror_mode": {
    "name": "ipython",
    "version": 3
   },
   "file_extension": ".py",
   "mimetype": "text/x-python",
   "name": "python",
   "nbconvert_exporter": "python",
   "pygments_lexer": "ipython3",
   "version": "3.11.11"
  }
 },
 "nbformat": 4,
 "nbformat_minor": 2
}
