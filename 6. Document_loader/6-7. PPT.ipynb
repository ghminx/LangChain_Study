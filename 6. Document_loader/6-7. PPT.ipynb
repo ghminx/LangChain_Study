{
 "cells": [
  {
   "cell_type": "markdown",
   "id": "d156bac4",
   "metadata": {},
   "source": [
    "### **Microsoft PowerPoint**\n",
    "\n"
   ]
  },
  {
   "cell_type": "code",
   "execution_count": null,
   "id": "e6ebfb54",
   "metadata": {},
   "outputs": [],
   "source": [
    "# 패키지 설치\n",
    "# !pip install -qU unstructured python-pptx"
   ]
  },
  {
   "cell_type": "code",
   "execution_count": 1,
   "id": "c0ab6d40",
   "metadata": {},
   "outputs": [
    {
     "name": "stdout",
     "output_type": "stream",
     "text": [
      "1\n"
     ]
    }
   ],
   "source": [
    "from langchain_community.document_loaders import UnstructuredPowerPointLoader\n",
    "\n",
    "# UnstructuredPowerPointLoader 생성\n",
    "loader = UnstructuredPowerPointLoader(\"./data/sample-ppt.pptx\")\n",
    "\n",
    "# 데이터 로드\n",
    "docs = loader.load()\n",
    "\n",
    "# 로드한 문서의 개수 출력\n",
    "print(len(docs))"
   ]
  },
  {
   "cell_type": "code",
   "execution_count": 2,
   "id": "37db9965",
   "metadata": {},
   "outputs": [
    {
     "name": "stdout",
     "output_type": "stream",
     "text": [
      "17\n"
     ]
    }
   ],
   "source": [
    "# UnstructuredPowerPointLoader 생성\n",
    "loader = UnstructuredPowerPointLoader(\"./data/sample-ppt.pptx\", mode=\"elements\")\n",
    "\n",
    "# 데이터 로드\n",
    "docs = loader.load()\n",
    "\n",
    "print(len(docs))"
   ]
  },
  {
   "cell_type": "code",
   "execution_count": 3,
   "id": "e88d528b",
   "metadata": {},
   "outputs": [
    {
     "name": "stdout",
     "output_type": "stream",
     "text": [
      "랭체인 한국어 튜토리얼\n"
     ]
    }
   ],
   "source": [
    "print(docs[0].page_content)"
   ]
  },
  {
   "cell_type": "code",
   "execution_count": 4,
   "id": "1a14ebf5",
   "metadata": {},
   "outputs": [
    {
     "data": {
      "text/plain": [
       "{'source': './data/sample-ppt.pptx',\n",
       " 'category_depth': 0,\n",
       " 'file_directory': './data',\n",
       " 'filename': 'sample-ppt.pptx',\n",
       " 'last_modified': '2025-03-07T23:09:42',\n",
       " 'page_number': 1,\n",
       " 'languages': ['kor'],\n",
       " 'filetype': 'application/vnd.openxmlformats-officedocument.presentationml.presentation',\n",
       " 'category': 'Title',\n",
       " 'element_id': '784918cd25f6cbe0084401b85fe2f3d8'}"
      ]
     },
     "execution_count": 4,
     "metadata": {},
     "output_type": "execute_result"
    }
   ],
   "source": [
    "docs[0].metadata"
   ]
  }
 ],
 "metadata": {
  "kernelspec": {
   "display_name": "nlp",
   "language": "python",
   "name": "python3"
  },
  "language_info": {
   "codemirror_mode": {
    "name": "ipython",
    "version": 3
   },
   "file_extension": ".py",
   "mimetype": "text/x-python",
   "name": "python",
   "nbconvert_exporter": "python",
   "pygments_lexer": "ipython3",
   "version": "3.11.11"
  }
 },
 "nbformat": 4,
 "nbformat_minor": 5
}
