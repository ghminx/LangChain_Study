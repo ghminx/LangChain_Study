{
 "cells": [
  {
   "cell_type": "markdown",
   "id": "9bdc99ef",
   "metadata": {},
   "source": [
    "### **WebBaseLoader**\n",
    "\n",
    "`WebBaseLoader` 는 웹 기반 문서 로더\n",
    "\n",
    "`bs4` 라이브러리를 사용하여 웹 페이지를 파싱\n",
    "\n",
    "- `bs4.SoupStrainer` 를 사용하여 파싱할 요소를 지정\n",
    "- `bs_kwargs` 매개변수를 사용하여 `bs4.SoupStrainer` 의 추가적인 인수를 지정\n",
    "\n",
    "**참고**\n",
    "\n",
    "- [API 도큐먼트](https://api.python.langchain.com/en/latest/document_loaders/langchain_community.document_loaders.web_base.WebBaseLoader.html)"
   ]
  },
  {
   "cell_type": "markdown",
   "id": "70f625ba",
   "metadata": {},
   "source": [
    "### **1. 특정 태그의 클래스만을 이용해서 가져오기**"
   ]
  },
  {
   "cell_type": "code",
   "execution_count": null,
   "id": "6c035b53",
   "metadata": {},
   "outputs": [
    {
     "name": "stdout",
     "output_type": "stream",
     "text": [
      "문서의 수: 1\n"
     ]
    },
    {
     "data": {
      "text/plain": [
       "[Document(metadata={'source': 'https://news.sbs.co.kr/news/endPage.do?news_id=N1008023036&plink=ORI&cooper=NAVER'}, page_content='\\n\\n▲ 배우 김수현\\n\\n MBC 예능 프로그램 \\'굿데이\\'가 고(故) 김새론이 미성년자였던 시절부터 교제했다는 의혹이 불거진 배우 김수현의 출연 분량을 편집하기로 결정했습니다. \\n  \\n \\'굿데이\\' 제작진은 오늘(17일) 배포한 입장문에서 \"출연자 논란의 위중함을 인지하고, 시청자 반응을 우선으로 살피며 제작을 이어가고 있다\"며 \"제작진은 김수현 씨 출연분은 최대한 편집하기로 결정한 상황\"이라고 밝혔습니다. \\n  \\n 이어 \"출연자 관련 논란이 앞으로 지속되는 한, 좋은 뜻으로 시작한 \\'굿데이\\'의 목적 그리고 진심으로 함께한 출연자들의 마음, 공감하고 응원해 주신 시청자들의 사랑도 계속 훼손될 수 있다고 판단했다\"고 설명했습니다. \\n  \\n 김수현은 지난 10일 유튜브 채널 \\'가로세로연구소\\'(이하 \\'가세연\\')가 고(故) 김새론 유족과의 통화를 인용해 김수현이 2015년 당시 15세였던 김새론과 6년간 교제했다고 주장하면서 논란에 휩싸였습니다. \\n  \\n 연일 파장이 커지면서 김수현이 출연하는 예능 프로그램 \\'굿데이\\' 시청자 게시판에는 김수현의 하차 요구가 빗발쳤으나, 김수현은 지난 13일 진행된 \\'굿데이\\' 녹화에 참여한 것으로 알려져 시청자들의 거센 항의를 받았습니다. \\n  \\n 지난 16일 방송된 \\'굿데이\\' 5회에서 김수현은 개인 출연 분량은 편집됐지만, 출연진의 단체 샷 등에 함께 등장했습니다. \\n  \\n 제작진은 \"16일 방송된 5회는 (중략) 김수현 씨의 출연 부분을 급박하게 편집하여 재입고한 버전이다. 기존 회차보다 방송 분량도 10분 정도 짧았고 디테일도 미흡했다\"고 설명했습니다. \\n  \\n 또한 지난 13일 촬영을 예정대로 진행한 이유에 관해서는 \"분량 삭제를 염두에 두고, 다른 출연자들과 최대한 겹치지 않도록 녹음 및 스케치 촬영을 진행했다\"며 이날 진행한 김수현의 개별 녹음 과정은 방송하지 않을 예정이라고 덧붙였습니다. \\n  \\n 김수현 소속사 골드메달리스트는 측은 김새론과의 교제를 부인하다가, 지난 14일 교제한 것은 맞지만 김새론이 미성년자였던 시절부터 사귄 것은 아니라는 입장을 밝혔습니다. \\n  \\n (사진=코브픽쳐스 제공, 연합뉴스)\\n ')]"
      ]
     },
     "execution_count": 15,
     "metadata": {},
     "output_type": "execute_result"
    }
   ],
   "source": [
    "import bs4\n",
    "from langchain_community.document_loaders import WebBaseLoader\n",
    "\n",
    "# 뉴스기사 내용을 로드합니다.\n",
    "loader = WebBaseLoader(\n",
    "    web_paths=(\"https://news.sbs.co.kr/news/endPage.do?news_id=N1008023036&plink=ORI&cooper=NAVER\",),\n",
    "    bs_kwargs=dict(\n",
    "        parse_only=bs4.SoupStrainer(\n",
    "            \"div\",\n",
    "            attrs={\"class\": [\"text_area\"]},\n",
    "            \n",
    "        )\n",
    "    ),\n",
    "    header_template={\n",
    "        \"User_Agent\": \"Mozilla/5.0 (Windows NT 10.0; Win64; x64) AppleWebKit/537.36 (KHTML, like Gecko) Chrome/102.0.0.0 Safari/537.36\",\n",
    "    },\n",
    ")\n",
    "\n",
    "docs = loader.load()\n",
    "print(f\"문서의 수: {len(docs)}\")\n",
    "docs"
   ]
  },
  {
   "cell_type": "markdown",
   "id": "4828320f",
   "metadata": {},
   "source": [
    "### **2. 여러 태그의 클래스를 이용해서 가져오기**"
   ]
  },
  {
   "cell_type": "code",
   "execution_count": null,
   "id": "3ce76e16",
   "metadata": {},
   "outputs": [
    {
     "name": "stdout",
     "output_type": "stream",
     "text": [
      "문서의 수: 1\n"
     ]
    },
    {
     "data": {
      "text/plain": [
       "[Document(metadata={'source': 'https://news.sbs.co.kr/news/endPage.do?news_id=N1008023036&plink=ORI&cooper=NAVER'}, page_content='\\'굿데이\\' 제작진 \"김수현 최대한 편집…논란 위중함 인지\"\\n\\n▲ 배우 김수현\\n\\n MBC 예능 프로그램 \\'굿데이\\'가 고(故) 김새론이 미성년자였던 시절부터 교제했다는 의혹이 불거진 배우 김수현의 출연 분량을 편집하기로 결정했습니다. \\n  \\n \\'굿데이\\' 제작진은 오늘(17일) 배포한 입장문에서 \"출연자 논란의 위중함을 인지하고, 시청자 반응을 우선으로 살피며 제작을 이어가고 있다\"며 \"제작진은 김수현 씨 출연분은 최대한 편집하기로 결정한 상황\"이라고 밝혔습니다. \\n  \\n 이어 \"출연자 관련 논란이 앞으로 지속되는 한, 좋은 뜻으로 시작한 \\'굿데이\\'의 목적 그리고 진심으로 함께한 출연자들의 마음, 공감하고 응원해 주신 시청자들의 사랑도 계속 훼손될 수 있다고 판단했다\"고 설명했습니다. \\n  \\n 김수현은 지난 10일 유튜브 채널 \\'가로세로연구소\\'(이하 \\'가세연\\')가 고(故) 김새론 유족과의 통화를 인용해 김수현이 2015년 당시 15세였던 김새론과 6년간 교제했다고 주장하면서 논란에 휩싸였습니다. \\n  \\n 연일 파장이 커지면서 김수현이 출연하는 예능 프로그램 \\'굿데이\\' 시청자 게시판에는 김수현의 하차 요구가 빗발쳤으나, 김수현은 지난 13일 진행된 \\'굿데이\\' 녹화에 참여한 것으로 알려져 시청자들의 거센 항의를 받았습니다. \\n  \\n 지난 16일 방송된 \\'굿데이\\' 5회에서 김수현은 개인 출연 분량은 편집됐지만, 출연진의 단체 샷 등에 함께 등장했습니다. \\n  \\n 제작진은 \"16일 방송된 5회는 (중략) 김수현 씨의 출연 부분을 급박하게 편집하여 재입고한 버전이다. 기존 회차보다 방송 분량도 10분 정도 짧았고 디테일도 미흡했다\"고 설명했습니다. \\n  \\n 또한 지난 13일 촬영을 예정대로 진행한 이유에 관해서는 \"분량 삭제를 염두에 두고, 다른 출연자들과 최대한 겹치지 않도록 녹음 및 스케치 촬영을 진행했다\"며 이날 진행한 김수현의 개별 녹음 과정은 방송하지 않을 예정이라고 덧붙였습니다. \\n  \\n 김수현 소속사 골드메달리스트는 측은 김새론과의 교제를 부인하다가, 지난 14일 교제한 것은 맞지만 김새론이 미성년자였던 시절부터 사귄 것은 아니라는 입장을 밝혔습니다. \\n  \\n (사진=코브픽쳐스 제공, 연합뉴스)\\n ')]"
      ]
     },
     "execution_count": 18,
     "metadata": {},
     "output_type": "execute_result"
    }
   ],
   "source": [
    "import bs4\n",
    "from langchain_community.document_loaders import WebBaseLoader\n",
    "\n",
    "# 뉴스기사 내용을 로드합니다.\n",
    "loader = WebBaseLoader(\n",
    "    web_paths=(\"https://news.sbs.co.kr/news/endPage.do?news_id=N1008023036&plink=ORI&cooper=NAVER\",),\n",
    "    bs_kwargs=dict(\n",
    "        parse_only=bs4.SoupStrainer(\n",
    "            [\"div\", \"h1\"],\n",
    "            attrs={\"class\": [\"text_area\", \"article_main_tit\"]},\n",
    "            \n",
    "        )\n",
    "    ),\n",
    "    header_template={\n",
    "        \"User_Agent\": \"Mozilla/5.0 (Windows NT 10.0; Win64; x64) AppleWebKit/537.36 (KHTML, like Gecko) Chrome/102.0.0.0 Safari/537.36\",\n",
    "    },\n",
    ")\n",
    "\n",
    "docs = loader.load()\n",
    "print(f\"문서의 수: {len(docs)}\")\n",
    "docs"
   ]
  },
  {
   "cell_type": "markdown",
   "id": "6be79ce8",
   "metadata": {},
   "source": [
    "### **3. 특정 태그를 지정하지 않고 클래스 만으로 가져오기**"
   ]
  },
  {
   "cell_type": "code",
   "execution_count": 21,
   "id": "8268e538",
   "metadata": {},
   "outputs": [
    {
     "name": "stdout",
     "output_type": "stream",
     "text": [
      "문서의 수: 1\n"
     ]
    },
    {
     "data": {
      "text/plain": [
       "[Document(metadata={'source': 'https://news.sbs.co.kr/news/endPage.do?news_id=N1008023036&plink=ORI&cooper=NAVER'}, page_content='이 시각 인기기사')]"
      ]
     },
     "execution_count": 21,
     "metadata": {},
     "output_type": "execute_result"
    }
   ],
   "source": [
    "import bs4\n",
    "from langchain_community.document_loaders import WebBaseLoader\n",
    "\n",
    "# 뉴스기사 내용을 로드합니다.\n",
    "loader = WebBaseLoader(\n",
    "    web_paths=(\"https://news.sbs.co.kr/news/endPage.do?news_id=N1008023036&plink=ORI&cooper=NAVER\",),\n",
    "    bs_kwargs=dict(\n",
    "        parse_only=bs4.SoupStrainer(\n",
    "            class_=(\"tit_recent\")\n",
    "            \n",
    "        )\n",
    "    ),\n",
    "    header_template={\n",
    "        \"User_Agent\": \"Mozilla/5.0 (Windows NT 10.0; Win64; x64) AppleWebKit/537.36 (KHTML, like Gecko) Chrome/102.0.0.0 Safari/537.36\",\n",
    "    },\n",
    ")\n",
    "\n",
    "docs = loader.load()\n",
    "print(f\"문서의 수: {len(docs)}\")\n",
    "docs"
   ]
  },
  {
   "cell_type": "markdown",
   "id": "509f6456",
   "metadata": {},
   "source": [
    "**SSL 인증 오류를 우회하기 위해, `\"verify\"` 옵션을 설정**"
   ]
  },
  {
   "cell_type": "code",
   "execution_count": 23,
   "id": "86fe1cc5",
   "metadata": {},
   "outputs": [
    {
     "data": {
      "text/plain": [
       "[Document(metadata={'source': 'https://news.sbs.co.kr/news/endPage.do?news_id=N1008023036&plink=ORI&cooper=NAVER'}, page_content='이 시각 인기기사')]"
      ]
     },
     "execution_count": 23,
     "metadata": {},
     "output_type": "execute_result"
    }
   ],
   "source": [
    "# ssl 인증 우회\n",
    "loader.requests_kwargs = {\"verify\": True}\n",
    "\n",
    "# 데이터 로드\n",
    "docs = loader.load()\n",
    "\n",
    "docs"
   ]
  },
  {
   "cell_type": "markdown",
   "id": "df1569c8",
   "metadata": {},
   "source": [
    "### **여러 페이지 로드**\n",
    "\n",
    "리스트, 튜플 중에 묶으면 됨"
   ]
  },
  {
   "cell_type": "code",
   "execution_count": null,
   "id": "61817858",
   "metadata": {},
   "outputs": [
    {
     "name": "stdout",
     "output_type": "stream",
     "text": [
      "2\n"
     ]
    }
   ],
   "source": [
    "loader = WebBaseLoader(\n",
    "    web_paths=[\n",
    "        \"https://n.news.naver.com/article/437/0000378416\",\n",
    "        \"https://n.news.naver.com/mnews/hotissue/article/092/0002340014?type=series&cid=2000063\",\n",
    "    ],\n",
    "    bs_kwargs=dict(\n",
    "        parse_only=bs4.SoupStrainer(\n",
    "            \"div\",\n",
    "            attrs={\"class\": [\"newsct_article _article_body\", \"media_end_head_title\"]},\n",
    "        )\n",
    "    ),\n",
    "    header_template={\n",
    "        \"User-Agent\": \"Mozilla/5.0 (Windows NT 10.0; Win64; x64) AppleWebKit/537.36 (KHTML, like Gecko) Chrome/102.0.0.0 Safari/537.36\",\n",
    "    },\n",
    ")\n",
    "\n",
    "# 데이터 로드\n",
    "docs = loader.load()\n",
    "\n",
    "# 문서 수 확인\n",
    "print(len(docs))"
   ]
  },
  {
   "cell_type": "code",
   "execution_count": null,
   "id": "b3c00dc9",
   "metadata": {},
   "outputs": [],
   "source": [
    "print(docs[0].page_content[:500])\n",
    "print(\"===\" * 10)\n",
    "print(docs[1].page_content[:500])"
   ]
  },
  {
   "cell_type": "markdown",
   "id": "20c355fc",
   "metadata": {},
   "source": [
    "여러 URL을 동시에 스크래핑하면 스크래핑 과정을 가속화\n",
    "\n",
    "동시 요청에는 합리적인 제한이 있으며, 기본값은 초당 2회입니다. 서버 부하에 대해 걱정하지 않거나, 스크래핑하는 서버를 제어하는 경우라면 `requests_per_second` 매개변수를 변경하여 최대 동시 요청 수를 늘릴 수 있습니다. 이 방법은 스크래핑 속도를 높일 수 있지만, 서버로부터 차단될 수 있으므로 주의해야 합니다."
   ]
  },
  {
   "cell_type": "code",
   "execution_count": null,
   "id": "7b2e0824",
   "metadata": {},
   "outputs": [],
   "source": [
    "# jupyter notebook 에서만 실행(asyncio)\n",
    "import nest_asyncio\n",
    "\n",
    "nest_asyncio.apply()"
   ]
  },
  {
   "cell_type": "code",
   "execution_count": null,
   "id": "61980942",
   "metadata": {},
   "outputs": [],
   "source": [
    "# 초당 요청 수 설정\n",
    "loader.requests_per_second = 1\n",
    "\n",
    "# 비동기 로드\n",
    "docs = loader.aload()"
   ]
  },
  {
   "cell_type": "code",
   "execution_count": null,
   "id": "a2b40dcf",
   "metadata": {},
   "outputs": [],
   "source": [
    "# 결과 출력\n",
    "docs"
   ]
  },
  {
   "cell_type": "markdown",
   "id": "66c2831a",
   "metadata": {},
   "source": [
    "### **프록시 사용**\n",
    "\n",
    "IP 차단을 우회하기 위해 때때로 프록시를 사용할 필요가 있을 수 있음 \n",
    "\n",
    "프록시를 사용하려면 로더(및 그 아래의 `requests`)에 프록시 딕셔너리를 전달"
   ]
  },
  {
   "cell_type": "code",
   "execution_count": null,
   "id": "efa9df6d",
   "metadata": {},
   "outputs": [],
   "source": [
    "loader = WebBaseLoader(\n",
    "    \"https://www.google.com/search?q=parrots\",\n",
    "    proxies={\n",
    "        \"http\": \"http://{username}:{password}:@proxy.service.com:6666/\",\n",
    "        \"https\": \"https://{username}:{password}:@proxy.service.com:6666/\",\n",
    "    },\n",
    "    # 웹 기반 로더 초기화\n",
    "    # 프록시 설정\n",
    ")\n",
    "\n",
    "# 문서 로드\n",
    "docs = loader.load()"
   ]
  }
 ],
 "metadata": {
  "kernelspec": {
   "display_name": "nlp",
   "language": "python",
   "name": "python3"
  },
  "language_info": {
   "codemirror_mode": {
    "name": "ipython",
    "version": 3
   },
   "file_extension": ".py",
   "mimetype": "text/x-python",
   "name": "python",
   "nbconvert_exporter": "python",
   "pygments_lexer": "ipython3",
   "version": "3.11.11"
  }
 },
 "nbformat": 4,
 "nbformat_minor": 5
}
