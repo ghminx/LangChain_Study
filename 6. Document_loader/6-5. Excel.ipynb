{
 "cells": [
  {
   "cell_type": "markdown",
   "metadata": {},
   "source": [
    "### **Excel**\n",
    "\n",
    "`UnstructuredExcelLoader`는 `Microsoft Excel` 파일을 로드하는 데 사용 \n",
    "\n",
    "이 로더는 `.xlsx` 및 `.xls` 파일 사용 가능능\n",
    "\n",
    "`\"elements\"` 모드에서 로더를 사용하는 경우, 문서 메타데이터의 `text_as_html` 키 아래에서 Excel 파일의 HTML 표현이 제공"
   ]
  },
  {
   "cell_type": "code",
   "execution_count": 7,
   "metadata": {},
   "outputs": [
    {
     "name": "stdout",
     "output_type": "stream",
     "text": [
      "1\n"
     ]
    },
    {
     "data": {
      "text/plain": [
       "'PassengerId Survived Pclass Name Sex Age SibSp Parch Ticket Fare Cabin Embarked 1 0 3 Braund, Mr. Ow'"
      ]
     },
     "execution_count": 7,
     "metadata": {},
     "output_type": "execute_result"
    }
   ],
   "source": [
    "from langchain_community.document_loaders import UnstructuredExcelLoader\n",
    "\n",
    "# UnstructuredExcelLoader 생성\n",
    "loader = UnstructuredExcelLoader(\"./data/titanic.xlsx\", mode=\"elements\")\n",
    "\n",
    "# 문서 로드\n",
    "docs = loader.load()\n",
    "\n",
    "# 문서 길이 출력\n",
    "print(len(docs))\n",
    "\n",
    "docs[0].page_content[:100]"
   ]
  }
 ],
 "metadata": {
  "kernelspec": {
   "display_name": "nlp",
   "language": "python",
   "name": "python3"
  },
  "language_info": {
   "codemirror_mode": {
    "name": "ipython",
    "version": 3
   },
   "file_extension": ".py",
   "mimetype": "text/x-python",
   "name": "python",
   "nbconvert_exporter": "python",
   "pygments_lexer": "ipython3",
   "version": "3.11.11"
  }
 },
 "nbformat": 4,
 "nbformat_minor": 2
}
