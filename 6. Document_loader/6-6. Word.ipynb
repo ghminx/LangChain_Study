{
 "cells": [
  {
   "cell_type": "markdown",
   "id": "7d7a0833",
   "metadata": {},
   "source": [
    "### **Microsoft Word**\n",
    "#### **Docx2txtLoader**\n",
    "\n",
    "`Docx2txt`를 사용하여 .docx 파일 로드"
   ]
  },
  {
   "cell_type": "code",
   "execution_count": 1,
   "id": "8f81065c",
   "metadata": {},
   "outputs": [
    {
     "name": "stdout",
     "output_type": "stream",
     "text": [
      "1\n"
     ]
    }
   ],
   "source": [
    "# 설치\n",
    "# !pip install -qU docx2txt\n",
    "\n",
    "from langchain_community.document_loaders import Docx2txtLoader\n",
    "\n",
    "loader = Docx2txtLoader(\"./data/sample-word-document.docx\")  # 문서 로더 초기화\n",
    "\n",
    "docs = loader.load()  # 문서 로딩\n",
    "\n",
    "print(len(docs))"
   ]
  }
 ],
 "metadata": {
  "kernelspec": {
   "display_name": "nlp",
   "language": "python",
   "name": "python3"
  },
  "language_info": {
   "codemirror_mode": {
    "name": "ipython",
    "version": 3
   },
   "file_extension": ".py",
   "mimetype": "text/x-python",
   "name": "python",
   "nbconvert_exporter": "python",
   "pygments_lexer": "ipython3",
   "version": "3.11.11"
  }
 },
 "nbformat": 4,
 "nbformat_minor": 5
}
