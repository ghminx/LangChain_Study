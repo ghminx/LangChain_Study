{
 "cells": [
  {
   "cell_type": "markdown",
   "metadata": {},
   "source": [
    "### **직렬화(Serialization)**\n",
    "\n",
    "- 모델을 저장 가능한 형식으로 변환하는 과정\n",
    "\n",
    "#### **목적**\n",
    "- 모델 재사용 (재훈련 없이)\n",
    "- 모델 배포 및 공유 용이\n",
    "- 계산 리소스 절약\n",
    "\n",
    "#### **장점**\n",
    "- 빠른 모델 로딩\n",
    "- 버전 관리 가능\n",
    "- 다양한 환경에서 사용 가능\n",
    "- 모델 직렬화는 AI 개발 및 배포 과정에서 중요한 단계로, 효율적인 모델 관리와 재사용을 가능하게 합니다."
   ]
  },
  {
   "cell_type": "code",
   "execution_count": 16,
   "metadata": {},
   "outputs": [
    {
     "name": "stdout",
     "output_type": "stream",
     "text": [
      "ChatGroq: True\n"
     ]
    },
    {
     "data": {
      "text/plain": [
       "True"
      ]
     },
     "execution_count": 16,
     "metadata": {},
     "output_type": "execute_result"
    }
   ],
   "source": [
    "import os\n",
    "from langchain_groq import ChatGroq\n",
    "from langchain.prompts import PromptTemplate\n",
    "\n",
    "prompt = PromptTemplate.from_template(\"{fruit}의 색상이 무엇입니까?\")\n",
    "\n",
    "# 직렬화가 여부 확인\n",
    "print(f\"ChatGroq: {ChatGroq.is_lc_serializable()}\")\n",
    "\n",
    "llm = ChatGroq(model = 'gemma2-9b-it')\n",
    "\n",
    "chain = prompt | llm\n",
    "\n",
    "# 체인 직렬화 여부 확인\n",
    "chain.is_lc_serializable()"
   ]
  },
  {
   "cell_type": "markdown",
   "metadata": {},
   "source": [
    "### **Chain 직렬화(dumps, dumpd)**\n",
    "\n",
    "- 직렬화 가능한 객체를 Dict Or JSON 형식으로 저장 \n",
    "\n",
    "#### **직렬화 방법**\n",
    "객체의 속성 및 데이터를 키-값 쌍으로 저장하여 딕셔너리 형태로 변환\n",
    "\n",
    "이러한 직렬화 방식은 객체를 쉽게 저장하고 전송할 수 있게 하며, 다양한 환경에서 객체를 재구성할 수 있도록 함\n",
    "\n",
    "\n",
    "`dumpd`: 객체를 딕셔너리로 직렬화\n",
    "\n",
    "\n",
    "`dumps`: 객체를 JSON 문자열로 직렬화"
   ]
  },
  {
   "cell_type": "code",
   "execution_count": 19,
   "metadata": {},
   "outputs": [
    {
     "name": "stdout",
     "output_type": "stream",
     "text": [
      "{'lc': 1, 'type': 'constructor', 'id': ['langchain', 'schema', 'runnable', 'RunnableSequence'], 'kwargs': {'first': {'lc': 1, 'type': 'constructor', 'id': ['langchain', 'prompts', 'prompt', 'PromptTemplate'], 'kwargs': {'input_variables': ['fruit'], 'template': '{fruit}의 색상이 무엇입니까?', 'template_format': 'f-string'}, 'name': 'PromptTemplate'}, 'last': {'lc': 1, 'type': 'constructor', 'id': ['langchain_groq', 'chat_models', 'ChatGroq'], 'kwargs': {'model_name': 'gemma2-9b-it', 'temperature': 0.7, 'groq_api_key': {'lc': 1, 'type': 'secret', 'id': ['GROQ_API_KEY']}, 'max_retries': 2, 'n': 1}, 'name': 'ChatGroq'}}, 'name': 'RunnableSequence'}\n"
     ]
    },
    {
     "data": {
      "text/plain": [
       "dict"
      ]
     },
     "execution_count": 19,
     "metadata": {},
     "output_type": "execute_result"
    }
   ],
   "source": [
    "from langchain_core.load import dumpd\n",
    "\n",
    "dumpd_chain = dumpd(chain)\n",
    "\n",
    "print(dumpd_chain)\n",
    "type(dumpd_chain)"
   ]
  },
  {
   "cell_type": "code",
   "execution_count": 21,
   "metadata": {},
   "outputs": [
    {
     "name": "stdout",
     "output_type": "stream",
     "text": [
      "{\"lc\": 1, \"type\": \"constructor\", \"id\": [\"langchain\", \"schema\", \"runnable\", \"RunnableSequence\"], \"kwargs\": {\"first\": {\"lc\": 1, \"type\": \"constructor\", \"id\": [\"langchain\", \"prompts\", \"prompt\", \"PromptTemplate\"], \"kwargs\": {\"input_variables\": [\"fruit\"], \"template\": \"{fruit}\\uc758 \\uc0c9\\uc0c1\\uc774 \\ubb34\\uc5c7\\uc785\\ub2c8\\uae4c?\", \"template_format\": \"f-string\"}, \"name\": \"PromptTemplate\"}, \"last\": {\"lc\": 1, \"type\": \"constructor\", \"id\": [\"langchain_groq\", \"chat_models\", \"ChatGroq\"], \"kwargs\": {\"model_name\": \"gemma2-9b-it\", \"temperature\": 0.7, \"groq_api_key\": {\"lc\": 1, \"type\": \"secret\", \"id\": [\"GROQ_API_KEY\"]}, \"max_retries\": 2, \"n\": 1}, \"name\": \"ChatGroq\"}}, \"name\": \"RunnableSequence\"}\n"
     ]
    },
    {
     "data": {
      "text/plain": [
       "str"
      ]
     },
     "execution_count": 21,
     "metadata": {},
     "output_type": "execute_result"
    }
   ],
   "source": [
    "from langchain_core.load import dumps\n",
    "\n",
    "dumps_chain = dumps(chain)\n",
    "\n",
    "print(dumps_chain)\n",
    "type(dumps_chain)"
   ]
  },
  {
   "cell_type": "markdown",
   "metadata": {},
   "source": [
    "### **Save and Load**\n",
    "\n",
    "#### **Pickle**\n",
    "\n",
    "Pickle 파일은 Python 객체를 바이너리 형태로 직렬화하는 포맷\n",
    "\n",
    "- Python 전용 (다른 언어와 호환 불가)\n",
    "- 대부분의 Python 데이터 타입 지원 (리스트, 딕셔너리, 클래스 등)\n",
    "- 객체의 상태와 구조를 그대로 보존\n",
    "\n",
    "```bash\n",
    "pickle.dump(): 객체를 파일에 저장\n",
    "pickle.load(): 파일에서 객체 로드\n",
    "```"
   ]
  },
  {
   "cell_type": "code",
   "execution_count": null,
   "metadata": {},
   "outputs": [
    {
     "data": {
      "text/plain": [
       "{'lc': 1,\n",
       " 'type': 'constructor',\n",
       " 'id': ['langchain', 'schema', 'runnable', 'RunnableSequence'],\n",
       " 'kwargs': {'first': {'lc': 1,\n",
       "   'type': 'constructor',\n",
       "   'id': ['langchain', 'prompts', 'prompt', 'PromptTemplate'],\n",
       "   'kwargs': {'input_variables': ['fruit'],\n",
       "    'template': '{fruit}의 색상이 무엇입니까?',\n",
       "    'template_format': 'f-string'},\n",
       "   'name': 'PromptTemplate'},\n",
       "  'last': {'lc': 1,\n",
       "   'type': 'constructor',\n",
       "   'id': ['langchain_groq', 'chat_models', 'ChatGroq'],\n",
       "   'kwargs': {'model_name': 'gemma2-9b-it',\n",
       "    'temperature': 0.7,\n",
       "    'groq_api_key': {'lc': 1, 'type': 'secret', 'id': ['GROQ_API_KEY']},\n",
       "    'max_retries': 2,\n",
       "    'n': 1},\n",
       "   'name': 'ChatGroq'}},\n",
       " 'name': 'RunnableSequence'}"
      ]
     },
     "execution_count": 31,
     "metadata": {},
     "output_type": "execute_result"
    }
   ],
   "source": [
    "import pickle\n",
    "\n",
    "# pickle로 저장  바이너리 모드이기 떄문에(wb)\n",
    "with open('pickle/chain.pkl', 'wb') as f:\n",
    "    pickle.dump(dumpd_chain, f)\n",
    "\n",
    "# pickle 불러오기\n",
    "with open('pickle/chain.pkl', 'rb') as f:\n",
    "    pickle_chain = pickle.load(f)\n",
    "    \n",
    "pickle_chain"
   ]
  },
  {
   "cell_type": "code",
   "execution_count": null,
   "metadata": {},
   "outputs": [
    {
     "name": "stdout",
     "output_type": "stream",
     "text": [
      "사과는 일반적으로 **빨강** , **초록** , **노랑** 색상으로 주로 볼 수 있습니다. \n",
      "\n",
      "하지만 품종에 따라 다양한 색상을 가질 수 있습니다. 예를 들어, \n",
      "\n",
      "* **빨간색 사과**:  포도색 사과, 벌플 사과\n",
      "* **초록색 사과**: 그린 사과\n",
      "* **노란색 사과**: 골든 딜리시어스 사과\n",
      "\n",
      "등이 있습니다.  \n",
      "\n"
     ]
    }
   ],
   "source": [
    "# 직렬화된 체인을 다시 로드\n",
    "from langchain_core.load import load\n",
    "\n",
    "# pickle 불러오기\n",
    "with open('pickle/chain.pkl', 'rb') as f:\n",
    "    pickle_chain = pickle.load(f)\n",
    "    \n",
    "chain_loaded = load(pickle_chain)\n",
    "response = chain_loaded.invoke('사과')\n",
    "print(response.content)"
   ]
  },
  {
   "cell_type": "code",
   "execution_count": 43,
   "metadata": {},
   "outputs": [
    {
     "name": "stdout",
     "output_type": "stream",
     "text": [
      "사과의 색상은 다양합니다. 🍎\n",
      "\n",
      "가장 흔한 색상은 **빨강**, **초록색**, **노랑색**입니다. \n",
      "\n",
      "하지만, 그 외에도 **주황색**, **연분홍색**, ** PURPLE** 등의 색상을 가진 사과도 있습니다. \n",
      "\n",
      "어떤 사과의 색상이 가장 좋다고 생각하시나요? 🤔\n",
      "\n"
     ]
    }
   ],
   "source": [
    "import json\n",
    "\n",
    "# json으로 저장\n",
    "with open('pickle/chain.json', 'w') as f:\n",
    "    json.dump(dumpd_chain, f)\n",
    "\n",
    "# json 불러오기\n",
    "with open('pickle/chain.json', 'r') as f:\n",
    "    json_chain = json.load(f)\n",
    "    # langchain_core.load.load 함수로 로드\n",
    "    chain_loaded_json = load(json_chain)\n",
    "    \n",
    "response = chain_loaded_json.invoke('사과')\n",
    "print(response.content)"
   ]
  }
 ],
 "metadata": {
  "kernelspec": {
   "display_name": "nlp",
   "language": "python",
   "name": "python3"
  },
  "language_info": {
   "codemirror_mode": {
    "name": "ipython",
    "version": 3
   },
   "file_extension": ".py",
   "mimetype": "text/x-python",
   "name": "python",
   "nbconvert_exporter": "python",
   "pygments_lexer": "ipython3",
   "version": "3.11.11"
  }
 },
 "nbformat": 4,
 "nbformat_minor": 2
}
