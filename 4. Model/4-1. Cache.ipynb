{
 "cells": [
  {
   "cell_type": "markdown",
   "metadata": {},
   "source": [
    "### **캐싱(Caching)**\n",
    "\n",
    "LangChain은 LLM을 위한 선택적 캐싱 레이어를 제공.\n",
    "\n",
    "- 동일한 질문에 대한 답변을 공간에 저장을 해두고 꺼내씀\n",
    "- 동일한 완료를 여러 번 요청하는 경우 LLM 공급자에 대한 **API 호출 횟수를 줄여 비용을 절감**할 수 있음.\n",
    "- LLM 제공업체에 대한 **API 호출 횟수를 줄여 애플리케이션의 속도를 높일 수** 있음."
   ]
  },
  {
   "cell_type": "markdown",
   "metadata": {},
   "source": [
    "### **기본 사용**"
   ]
  },
  {
   "cell_type": "code",
   "execution_count": 1,
   "metadata": {},
   "outputs": [
    {
     "name": "stdout",
     "output_type": "stream",
     "text": [
      "## 일본의 음식 문화: 맛과 예술의 조화\n",
      "\n",
      "일본 음식 문화는 단순히 먹는 것을 넘어 **예술적이고 정교한 경험**을 제공합니다. \n",
      "\n",
      "**1. \"和食\" (와쇼쿠) - 조화와 균형:**\n",
      "\n",
      "* 일본 음식은 **\"와쇼쿠\"**라고 불리고, 맛, 색깔, 향, 질감 등의 **5가지 요소의 조화**를 중시합니다.\n",
      "* 밥, 국, 반찬의 조합으로 구성된 **\"정식\" (정려)**은 균형 잡힌 영양을 제공합니다.\n",
      "\n",
      "**2. 지역별 특색:**\n",
      "\n",
      "* 일본은 **다양한 지역**으로 나뉘어 각 지역마다 **풍부한 음식 문화와 특색**을 자랑합니다.\n",
      "* 예를 들어, **도쿄**는 현대적인 음식 트렌드를 선도하는 반면, **오사카**는 폭넓은 다양성과 맛집으로 유명합니다.\n",
      "* **교토**는 전통적인 요리와 차 문화를 체험할 수 있는 곳입니다.\n",
      "\n",
      "**3. 핵심 가치:**\n",
      "\n",
      "* **신선함**: 일본인들은 신선한 재료를 사용하는 것을 매우 중시합니다.\n",
      "* **순수함**: 일본 음식은 과도한 양념 사용을 피하고 재료의 본연의 맛을 끌어냅니다.\n",
      "* **예술성**: 요리는 예술적 감각으로 표현되며, 음식의 외형과 정돈에도 신경을 씁니다.\n",
      "\n",
      "**4. 대표 음식:**\n",
      "\n",
      "* **스시 (Sushi)**: 익힌 밥과 다양한 어류, 해산물, 야채를 곁들인 요리로 세계적으로 유명합니다.\n",
      "* **라멘 (Ramen)**: 국물, 면, 叉肉, 계란, 야채 등이 들어간 일본식 국수입니다.\n",
      "* ** tempura (てんぷら)**: 바삭하게 구운 해산물이나 채소요리입니다.\n",
      "* **카레 (カレー)**: 일본식 카레는 감칠맛이 깊고, 쌀과 함께 즐기는 전통적인 요리입니다.\n",
      "* **타코야키 (たこ焼き)**: 옥수수 가루와 꼬리말이 넣어진 반죽을 구워 만든 길거리 음식입니다.\n",
      "\n",
      "**5. 문화적 습관:**\n",
      "\n",
      "* **箸 (하시)**: 일본인들은 젓가락을 사용하여 음식을 섭취합니다.\n",
      "* **お茶 (오차)**: 차는 일본 문화에서 중요한 역할을 하며, 다양한 종류의 차가 있습니다.\n",
      "* **禮儀 (라이기)**: 일본 음식 문화에서는 예절을 중요하게 생각하며, 식사 자체도 예절을 포함하는 문화입니다.\n",
      "\n",
      "\n",
      "일본의 음식 문화는 단순히 맛있는 음식을 즐기는 것을 넘어, **지역의 역사, 문화, 철학을 느낄 수 있는 특별한 경험**을 제공합니다.\n",
      "\n",
      "CPU times: total: 781 ms\n",
      "Wall time: 2.87 s\n"
     ]
    }
   ],
   "source": [
    "%%time\n",
    "from langchain_core.prompts import PromptTemplate\n",
    "from langchain_groq import ChatGroq\n",
    "\n",
    "llm = ChatGroq(model = 'gemma2-9b-it')\n",
    "\n",
    "prompt = PromptTemplate.from_template(\"{country}의 음식 문화에 대해서 알려줘.\")\n",
    "\n",
    "chain = prompt | llm\n",
    "\n",
    "response = chain.invoke({'country' : '일본'}).content\n",
    "print(response)"
   ]
  },
  {
   "cell_type": "markdown",
   "metadata": {},
   "source": [
    "### **InMemoryCache**\n",
    "\n",
    "인메모리 캐시를 사용하여 동일 질문에 대한 답변을 저장, 캐시에 저장된 답변을 반환함\n",
    "\n",
    " %%time : 실행 시간 측정\n"
   ]
  },
  {
   "cell_type": "code",
   "execution_count": null,
   "metadata": {},
   "outputs": [],
   "source": [
    "%%time\n",
    "from langchain.globals import set_llm_cache\n",
    "from langchain.cache import InMemoryCache\n",
    "\n",
    "# 인메모리 캐시 사용\n",
    "set_llm_cache(InMemoryCache())"
   ]
  },
  {
   "cell_type": "code",
   "execution_count": null,
   "metadata": {},
   "outputs": [],
   "source": [
    "%%time\n",
    "# 체인 실행\n",
    "response = chain.invoke({'country' : '일본'}).content\n",
    "print(response)"
   ]
  },
  {
   "cell_type": "markdown",
   "metadata": {},
   "source": [
    "### **SQLite Cache**\n",
    "\n",
    "프로그램이 종료 되더라도 메모리에 저장되어있음"
   ]
  },
  {
   "cell_type": "code",
   "execution_count": 2,
   "metadata": {},
   "outputs": [],
   "source": [
    "from langchain_community.cache import SQLiteCache\n",
    "from langchain_core.globals import set_llm_cache\n",
    "import os \n",
    "\n",
    "# 캐시 디렉토리 생성 \n",
    "if not os.path.exists('cache'):\n",
    "    os.mkdir('cache')\n",
    "\n",
    "# SQLite 캐시 사용\n",
    "set_llm_cache(SQLiteCache('cache/llm_cache.db'))"
   ]
  },
  {
   "cell_type": "code",
   "execution_count": 3,
   "metadata": {},
   "outputs": [
    {
     "name": "stdout",
     "output_type": "stream",
     "text": [
      "## 일본 음식 문화: 맛과 예술의 조화\n",
      "\n",
      "일본 음식은 단순히 맛있을 뿐 아니라, 깊은 역사와 철학이 담겨 있는 예술입니다. \n",
      "\n",
      "**1. 기본 원칙:**\n",
      "\n",
      "* **신선함:** 일본 음식은 신선한 재료를 사용하는 것을 강조합니다. 계절에 맞는 재료를 사용하고, 오늘 젓는 밥과 아침에 갓 짠 젓갈을 즐기는 문화가 있습니다.\n",
      "* **균형:** 메뉴는 밥, 국, 밑반찬으로 구성되어 영양 균형을 맞춥니다. 각 요리의 맛과 색깔도 균형 있게 잡히도록 노력합니다.\n",
      "* **미학:** 음식은 단순히 먹기 위한 것이 아니라, 맛과 아름다움을 동시에 추구합니다. 접시에 올리는 모양, 색깔, 재료의 조합까지 예술적으로 표현합니다.\n",
      "\n",
      "**2. 주요 요리:**\n",
      "\n",
      "* **Sushi (초밥):** 가장 대표적인 일본 음식으로, 신선한 생선을 밥에 말아 먹습니다. 다양한 종류의 초밥이 있으며, 맛과 기술이 중요합니다.\n",
      "* **Ramen (라멘):** 일본 대표적인 국수요리로, 육수에 면과 다양한 토핑을 곁들입니다. 각 지역마다 특색있는 맛과 종류가 있습니다.\n",
      "* **Tempura (튀김):** 해산물이나 야채를 얇은 반죽에 입혀 기름에 튀긴 요리입니다. 바삭하고 부드러운 식감이 특징입니다.\n",
      "* **Udon (우동):** 굵은 면을 뜨겁게 삶아 국물이나 소스를 곁들여 먹는 국수요리입니다.\n",
      "* **Soba (소바):** 얇고 약간 섬유질이 많은 면을 끓는 물에 삶아 국물이나 소스와 함께 먹는 국수요리입니다.\n",
      "\n",
      "**3. 술 문화:**\n",
      "\n",
      "* ** Sake (사케):** 쌀로 만든 일본 전통 술로, 다양한 종류와 맛이 있습니다. 온도에 따라 맛이 달라지기도 합니다.\n",
      "* **Shochu (쇼츄):** 벼, 감자, 고구마 등 다양한 재료를 증류하여 만든 일본 전통 술입니다.\n",
      "\n",
      "**4. 예절:**\n",
      "\n",
      "* 식사 전 후에는 손을 씻고, 음식을 먹을 때는 젓가락의 예절을 지킵니다.\n",
      "* 주변 사람들에게 배려하는 마음을 가지고, 소음을 줄여 먹습니다.\n",
      "* 음식을 먹기 전에 술을 마시는 것이 일반적입니다.\n",
      "\n",
      "**5. 일본 음식의 매력:**\n",
      "\n",
      "일본 음식은 맛을 즐기는 것뿐 아니라, 문화와 예술을 경험하는 것과 같습니다. 깊은 역사와 철학, 그리고 신선한 재료와 예술적인 조화가 일본 음식을 특별하게 만듭니다.\n",
      "\n",
      "**더 알아보기:**\n",
      "\n",
      "* 일본의 계절 음식 (Washoku): https://www.japan.travel/en/culture/food/\n",
      "* 일본 음식 예절 (Etiquette): https://www.japan-guide.com/e/e2006.html\n",
      "\n",
      "\n",
      "\n",
      "CPU times: total: 0 ns\n",
      "Wall time: 3 ms\n"
     ]
    }
   ],
   "source": [
    "%%time\n",
    "response = chain.invoke({'country' : '일본'}).content\n",
    "print(response)"
   ]
  },
  {
   "cell_type": "markdown",
   "metadata": {},
   "source": [
    "### **SQLite에 저장되었는지 확인해보기**"
   ]
  },
  {
   "cell_type": "code",
   "execution_count": 53,
   "metadata": {},
   "outputs": [
    {
     "name": "stdout",
     "output_type": "stream",
     "text": [
      "📌 저장된 테이블 목록: [('full_llm_cache',), ('full_md5_llm_cache',)]\n",
      "📌 테이블 컬럼 정보: [(0, 'prompt', 'VARCHAR', 1, None, 1), (1, 'llm', 'VARCHAR', 1, None, 2), (2, 'idx', 'INTEGER', 1, None, 3), (3, 'response', 'VARCHAR', 0, None, 0)]\n"
     ]
    }
   ],
   "source": [
    "import sqlite3\n",
    "\n",
    "# SQLite 데이터베이스 파일 연결\n",
    "conn = sqlite3.connect('cache/llm_cache.db')\n",
    "cursor = conn.cursor()\n",
    "\n",
    "# 저장된 테이블 목록 확인\n",
    "cursor.execute(\"SELECT name FROM sqlite_master WHERE type='table';\")\n",
    "tables = cursor.fetchall()\n",
    "print(\"📌 저장된 테이블 목록:\", tables)\n",
    "\n",
    "# 올바른 테이블 이름 확인 (기본적으로 'langchain_cache' 사용)\n",
    "table_name = [i[0] for i in tables][0]\n",
    "\n",
    "# 테이블의 컬럼 확인\n",
    "cursor.execute(f\"PRAGMA table_info({table_name});\")\n",
    "columns = cursor.fetchall()\n",
    "print(\"📌 테이블 컬럼 정보:\", columns)\n",
    "\n",
    "# 캐시 데이터 조회\n",
    "cursor.execute(f\"SELECT * FROM {table_name};\")\n",
    "rows = cursor.fetchall()\n",
    "\n",
    "# 연결 종료\n",
    "conn.close()"
   ]
  },
  {
   "cell_type": "code",
   "execution_count": 55,
   "metadata": {},
   "outputs": [
    {
     "name": "stdout",
     "output_type": "stream",
     "text": [
      "## 일본 음식 문화: 맛과 예술의 조화\n",
      "\n",
      "일본 음식은 단순히 맛있을 뿐 아니라, 깊은 역사와 철학이 담겨 있는 예술입니다. \n",
      "\n",
      "**1. 기본 원칙:**\n",
      "\n",
      "* **신선함:** 일본 음식은 신선한 재료를 사용하는 것을 강조합니다. 계절에 맞는 재료를 사용하고, 오늘 젓는 밥과 아침에 갓 짠 젓갈을 즐기는 문화가 있습니다.\n",
      "* **균형:** 메뉴는 밥, 국, 밑반찬으로 구성되어 영양 균형을 맞춥니다. 각 요리의 맛과 색깔도 균형 있게 잡히도록 노력합니다.\n",
      "* **미학:** 음식은 단순히 먹기 위한 것이 아니라, 맛과 아름다움을 동시에 추구합니다. 접시에 올리는 모양, 색깔, 재료의 조합까지 예술적으로 표현합니다.\n",
      "\n",
      "**2. 주요 요리:**\n",
      "\n",
      "* **Sushi (초밥):** 가장 대표적인 일본 음식으로, 신선한 생선을 밥에 말아 먹습니다. 다양한 종류의 초밥이 있으며, 맛과 기술이 중요합니다.\n",
      "* **Ramen (라멘):** 일본 대표적인 국수요리로, 육수에 면과 다양한 토핑을 곁들입니다. 각 지역마다 특색있는 맛과 종류가 있습니다.\n",
      "* **Tempura (튀김):** 해산물이나 야채를 얇은 반죽에 입혀 기름에 튀긴 요리입니다. 바삭하고 부드러운 식감이 특징입니다.\n",
      "* **Udon (우동):** 굵은 면을 뜨겁게 삶아 국물이나 소스를 곁들여 먹는 국수요리입니다.\n",
      "* **Soba (소바):** 얇고 약간 섬유질이 많은 면을 끓는 물에 삶아 국물이나 소스와 함께 먹는 국수요리입니다.\n",
      "\n",
      "**3. 술 문화:**\n",
      "\n",
      "* ** Sake (사케):** 쌀로 만든 일본 전통 술로, 다양한 종류와 맛이 있습니다. 온도에 따라 맛이 달라지기도 합니다.\n",
      "* **Shochu (쇼츄):** 벼, 감자, 고구마 등 다양한 재료를 증류하여 만든 일본 전통 술입니다.\n",
      "\n",
      "**4. 예절:**\n",
      "\n",
      "* 식사 전 후에는 손을 씻고, 음식을 먹을 때는 젓가락의 예절을 지킵니다.\n",
      "* 주변 사람들에게 배려하는 마음을 가지고, 소음을 줄여 먹습니다.\n",
      "* 음식을 먹기 전에 술을 마시는 것이 일반적입니다.\n",
      "\n",
      "**5. 일본 음식의 매력:**\n",
      "\n",
      "일본 음식은 맛을 즐기는 것뿐 아니라, 문화와 예술을 경험하는 것과 같습니다. 깊은 역사와 철학, 그리고 신선한 재료와 예술적인 조화가 일본 음식을 특별하게 만듭니다.\n",
      "\n",
      "**더 알아보기:**\n",
      "\n",
      "* 일본의 계절 음식 (Washoku): https://www.japan.travel/en/culture/food/\n",
      "* 일본 음식 예절 (Etiquette): https://www.japan-guide.com/e/e2006.html\n",
      "\n",
      "\n",
      "\n"
     ]
    }
   ],
   "source": [
    "import json\n",
    "\n",
    "# JSON을 파이썬 객체로 변환 후 디코딩\n",
    "decoded_data = json.loads(rows[0][3])\n",
    "\n",
    "# 디코딩된 결과 출력\n",
    "print(decoded_data['kwargs']['text'])"
   ]
  }
 ],
 "metadata": {
  "kernelspec": {
   "display_name": "nlp",
   "language": "python",
   "name": "python3"
  },
  "language_info": {
   "codemirror_mode": {
    "name": "ipython",
    "version": 3
   },
   "file_extension": ".py",
   "mimetype": "text/x-python",
   "name": "python",
   "nbconvert_exporter": "python",
   "pygments_lexer": "ipython3",
   "version": "3.11.11"
  }
 },
 "nbformat": 4,
 "nbformat_minor": 2
}
