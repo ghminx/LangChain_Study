{
 "cells": [
  {
   "cell_type": "markdown",
   "id": "15421774",
   "metadata": {},
   "source": [
    "### **Google AI chat models (gemini-pro)**\n",
    "\n",
    "Google AI의 `gemini`와 `gemini-vision` 모델 사용 방법 \n",
    "\n",
    "`ChatGoogleGenerativeAI` 클래스를 사용\n"
   ]
  },
  {
   "cell_type": "code",
   "execution_count": null,
   "id": "f5aa0991",
   "metadata": {},
   "outputs": [],
   "source": [
    "# !pip install -qU langchain-google-genai"
   ]
  },
  {
   "cell_type": "code",
   "execution_count": 2,
   "id": "588610e5",
   "metadata": {},
   "outputs": [
    {
     "name": "stdout",
     "output_type": "stream",
     "text": [
      "자연어 처리(Natural Language Processing, NLP)는 컴퓨터가 인간의 언어(자연어)를 이해하고, 생성하고, 처리할 수 있도록 하는 인공지능 분야입니다. 쉽게 말해, **컴퓨터가 사람의 말을 알아듣고, 대답하고, 글을 쓸 수 있게 만드는 기술**이라고 할 수 있습니다.\n",
      "\n",
      "**핵심 목표:**\n",
      "\n",
      "*   **이해 (Understanding):** 텍스트나 음성 데이터를 분석하여 의미, 의도, 맥락을 파악합니다.\n",
      "*   **생성 (Generation):** 컴퓨터가 자연어 텍스트나 음성을 만들어냅니다.\n",
      "*   **처리 (Processing):** 언어 데이터를 다양한 방식으로 가공하고 활용합니다.\n",
      "\n",
      "**주요 기술 및 분야:**\n",
      "\n",
      "*   **텍스트 분석:** 단어 빈도 분석, 감성 분석, 주제 모델링 등 텍스트의 특징을 파악합니다.\n",
      "*   **자연어 이해 (NLU):** 문장의 의미를 파악하고, 의도를 추론합니다. (예: 챗봇의 질문 이해)\n",
      "*   **자연어 생성 (NLG):** 컴퓨터가 자연스러운 문장을 만들어냅니다. (예: 기사 자동 생성, 챗봇 답변)\n",
      "*   **기계 번역:** 한 언어에서 다른 언어로 텍스트를 번역합니다.\n",
      "*   **음성 인식:** 음성 데이터를 텍스트로 변환합니다.\n",
      "*   **음성 합성:** 텍스트를 음성으로 변환합니다.*   **질의 응답 (QA):** 질문에 대한 답변을 찾아 제공합니다.\n",
      "*   **정보 추출:** 텍스트에서 특정 정보를 찾아냅니다.\n",
      "\n",
      "**활용 분야:**\n",
      "\n",
      "*   **챗봇 및 가상 비서:** 고객 응대, 정보 제공, 업무 자동화 등\n",
      "*   **번역 서비스:** 구글 번역, 파파고 등\n",
      "*   **검색 엔진:** 검색어 이해 및 관련 정보 제공\n",
      "*   **소셜 미디어 분석:** 여론 분석, 감성 분석\n",
      "*   **스팸 메일 필터링:** 스팸 메일 자동 분류\n",
      "*   **자동 요약:** 긴 텍스트를 요약\n",
      "*   **의료 분야:** 의료 기록 분석, 질병 진단 보조 등\n",
      "*   **금융 분야:** 리스크 관리, 사기 탐지 등\n",
      "\n",
      "**최근 동향:**\n",
      "\n",
      "*   **딥러닝:** 딥러닝 모델(특히, Transformer 기반 모델)의 발전으로 NLP 성능이 획기적으로 향상되었습니다. (예: GPT, BERT 등)\n",
      "*   **대규모 언어 모델 (LLM):** 방대한 양의 텍스트 데이터를 학습한 LLM은 다양한 자연어 처리 task에서 뛰어난 성능을 보입니다.\n",
      "*   **멀티모달 NLP:** 텍스트, 이미지, 음성 등 여러 모달리티를 함께 처리하는 기술이 발전하고 있습니다.\n",
      "\n",
      "**간단하게 요약하면:**\n",
      "\n",
      "자연어 처리는 컴퓨터가 사람의 언어를 이해하고 사용할 수 있도록 하는 기술입니다. 챗봇, 번역, 검색 등 다양한 분야에서 활용되며, 딥러닝의 발전으로 더욱 강력해지고 있습니다."
     ]
    }
   ],
   "source": [
    "from langchain_google_genai import ChatGoogleGenerativeAI\n",
    "\n",
    "# ChatGoogleGenerativeAI 언어 모델을 초기화합니다.\n",
    "llm = ChatGoogleGenerativeAI(model=\"gemini-2.0-flash-lite\")\n",
    "\n",
    "# 프롬프트를 전달하여 결과를 생성합니다.\n",
    "answer = llm.stream(\"자연어처리에 대해서 간략히 설명해 줘\")\n",
    "\n",
    "for chunk in answer:\n",
    "    print(chunk.content, end = '', flush = True)"
   ]
  },
  {
   "cell_type": "code",
   "execution_count": null,
   "id": "d4b53238",
   "metadata": {},
   "outputs": [],
   "source": [
    "from langchain_core.prompts import PromptTemplate\n",
    "\n",
    "# ChatGoogleGenerativeAI 언어 모델을 초기화합니다.\n",
    "model = ChatGoogleGenerativeAI(\n",
    "    model=\"gemini-2.0-flash-lite\",  # 사용할 모델을 지정합니다.\n",
    ")\n",
    "\n",
    "# 프롬프트를 생성합니다.\n",
    "prompt = PromptTemplate.from_template(\n",
    "    \"예/아니오 질문에 대답하세요. {question}는 과일입니까?\"\n",
    ")\n",
    "\n",
    "# 체인을 생성합니다.\n",
    "chain = prompt | model\n",
    "\n",
    "reponse = chain.stream(question=\"바나나\")\n",
    "\n",
    "for chunk in reponse:\n",
    "    print(chunk.content, end = '', flush = True)"
   ]
  },
  {
   "cell_type": "markdown",
   "id": "477cd3ed",
   "metadata": {},
   "source": [
    "## Safety Settings\n",
    "\n",
    "Gemini 모델에는 기본 안전 설정(Satety Settings) 이 있지만, 이를 재정의할 수 있습니다.\n",
    "\n",
    "만약 모델로부터 많은 \"Safety Warnings\"를 받고 있다면, 모델의 `safety_settings` 속성을 조정해 볼 수 있습니다.\n",
    "\n",
    "Google의 [Safety Setting Types](https://ai.google.dev/api/python/google/generativeai/types/SafetySettingDict) 문서에서는 사용 가능한 카테고리와 임계값에 대한 열거형 정보를 제공합니다.\n",
    "\n",
    "이 문서에는 콘텐츠 필터링 및 안전 설정과 관련된 다양한 카테고리와 해당 임계값이 정의되어 있어, 개발자들이 생성형 AI 모델을 활용할 때 적절한 안전 설정을 선택하고 적용하는 데 도움을 줍니다.\n",
    "\n",
    "이를 통해 개발자들은 모델이 생성하는 콘텐츠의 안전성과 적절성을 보장하고, 사용자에게 유해하거나 부적절한 내용이 노출되는 것을 방지할 수 있습니다."
   ]
  },
  {
   "cell_type": "code",
   "execution_count": null,
   "id": "2dcad41d",
   "metadata": {},
   "outputs": [],
   "source": [
    "from langchain_google_genai import (\n",
    "    ChatGoogleGenerativeAI,\n",
    "    HarmBlockThreshold,\n",
    "    HarmCategory,\n",
    ")\n",
    "\n",
    "llm = ChatGoogleGenerativeAI(\n",
    "    # 사용할 모델을 \"gemini-pro\"로 지정합니다.\n",
    "    model=\"gemini-1.5-pro-latest\",\n",
    "    safety_settings={\n",
    "        # 위험한 콘텐츠에 대한 차단 임계값을 설정합니다.\n",
    "        # 이 경우 위험한 콘텐츠를 차단하지 않도록 설정되어 있습니다. (그럼에도 기본적인 차단이 있을 수 있습니다.)\n",
    "        HarmCategory.HARM_CATEGORY_SEXUALLY_EXPLICIT: HarmBlockThreshold.BLOCK_NONE,\n",
    "        HarmCategory.HARM_CATEGORY_HATE_SPEECH: HarmBlockThreshold.BLOCK_NONE,\n",
    "        HarmCategory.HARM_CATEGORY_HARASSMENT: HarmBlockThreshold.BLOCK_NONE,\n",
    "        HarmCategory.HARM_CATEGORY_DANGEROUS_CONTENT: HarmBlockThreshold.BLOCK_NONE,\n",
    "    },\n",
    ")"
   ]
  },
  {
   "cell_type": "markdown",
   "id": "515e3df1",
   "metadata": {},
   "source": [
    "## Batch 단위 실행\n"
   ]
  },
  {
   "cell_type": "code",
   "execution_count": null,
   "id": "3dca2dbf",
   "metadata": {},
   "outputs": [],
   "source": [
    "from langchain_google_genai import ChatGoogleGenerativeAI\n",
    "\n",
    "llm = ChatGoogleGenerativeAI(\n",
    "    # 사용할 모델을 \"gemini-pro\"로 지정합니다.\n",
    "    model=\"gemini-1.5-pro-latest\",\n",
    ")\n",
    "\n",
    "results = llm.batch(\n",
    "    [\n",
    "        \"대한민국의 수도는?\",\n",
    "        \"대한민국의 주요 관광지 5곳을 나열하세요\",\n",
    "    ]\n",
    ")\n",
    "\n",
    "for res in results:\n",
    "    # 각 결과의 내용을 출력합니다.\n",
    "    print(res.content)"
   ]
  },
  {
   "cell_type": "markdown",
   "id": "c499663d",
   "metadata": {},
   "source": [
    "## Multimodal 모델\n",
    "\n",
    "`langchain-teddynote` 에서 구현한 멀티모달 모델에 `gemini-1.5-pro` 모델을 활용하여 이미지를 텍스트로 변환 가능합니다."
   ]
  },
  {
   "cell_type": "code",
   "execution_count": null,
   "id": "ddbe79bb",
   "metadata": {},
   "outputs": [],
   "source": [
    "from langchain_teddynote.models import MultiModal\n",
    "from langchain_teddynote.messages import stream_response\n",
    "\n",
    "# 객체 생성\n",
    "gemini = ChatGoogleGenerativeAI(model=\"gemini-1.5-pro-latest\")\n",
    "\n",
    "system_prompt = (\n",
    "    \"당신은 시인입니다. 당신의 임무는 주어진 이미지를 가지고 시를 작성하는 것입니다.\"\n",
    ")\n",
    "\n",
    "user_prompt = \"다음의 이미지에 대한 시를 작성해주세요.\"\n",
    "\n",
    "# 멀티모달 객체 생성\n",
    "multimodal_gemini = MultiModal(\n",
    "    llm, system_prompt=system_prompt, user_prompt=user_prompt\n",
    ")"
   ]
  },
  {
   "cell_type": "code",
   "execution_count": null,
   "id": "37f33aad",
   "metadata": {},
   "outputs": [],
   "source": [
    "# 샘플 이미지 경로(파일의 경로, URL 등)를 지정합니다.\n",
    "IMAGE_URL = \"images/jeju-beach.jpg\"\n",
    "\n",
    "# 이미지 파일로 부터 질의\n",
    "answer = multimodal_gemini.stream(IMAGE_URL)\n",
    "\n",
    "# 스트리밍 방식으로 각 토큰을 출력합니다. (실시간 출력)\n",
    "stream_response(answer)"
   ]
  }
 ],
 "metadata": {
  "kernelspec": {
   "display_name": "nlp",
   "language": "python",
   "name": "python3"
  },
  "language_info": {
   "codemirror_mode": {
    "name": "ipython",
    "version": 3
   },
   "file_extension": ".py",
   "mimetype": "text/x-python",
   "name": "python",
   "nbconvert_exporter": "python",
   "pygments_lexer": "ipython3",
   "version": "3.11.11"
  }
 },
 "nbformat": 4,
 "nbformat_minor": 5
}
