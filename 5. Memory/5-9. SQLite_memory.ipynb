{
 "cells": [
  {
   "cell_type": "markdown",
   "id": "7f0f6c99",
   "metadata": {},
   "source": [
    "### **SQLAlchemy를 활용한 채팅 기록 저장**\n",
    "\n",
    "\n",
    "- `SQL (Structured Query Language)`: 관계형 데이터베이스(`RDBMS`)에서 데이터를 관리하는 언어\n",
    "\n",
    "- `SQLAlchemy`: `Python용` 오픈 소스 SQL 툴킷 및 ORM(Object-Relational Mapper).\n",
    "\n",
    "- `SQLChatMessageHistory`: `SQLAlchemy를` 이용해 채팅 기록을 저장하는 클래스.\n",
    "\n",
    "- `SQLite` 외의 데이터베이스를 사용하려면 해당 DB 드라이버 설치 필요.\n",
    "\n",
    "\n",
    "**db파일에 히스토리를 저장하여 사용자가 채팅을 떠나도 대화 내용을 기억 할 수 있게 함**"
   ]
  },
  {
   "cell_type": "markdown",
   "id": "cf70c391",
   "metadata": {},
   "source": [
    "### **사용방법**\n",
    "\n",
    "\n",
    "1. `session_id` - 사용자 이름, 이메일, 채팅 ID 등과 같은 세션의 고유 식별자.\n",
    "\n",
    "2. `connection` - 데이터베이스 연결을 지정하는 문자열, 이 문자열은 SQLAlchemy의 create_engine 함수에 전달\n"
   ]
  },
  {
   "cell_type": "code",
   "execution_count": 1,
   "id": "1559ba17",
   "metadata": {},
   "outputs": [],
   "source": [
    "from langchain_community.chat_message_histories import SQLChatMessageHistory\n",
    "\n",
    "# SQLChatMessageHistory 객체를 생성하고 세션 ID와 데이터베이스 연결 파일을 설정\n",
    "chat_message_history = SQLChatMessageHistory(\n",
    "    session_id=\"sql_history\", connection=\"sqlite:///sqlite_test.db\"\n",
    ")"
   ]
  },
  {
   "cell_type": "code",
   "execution_count": 2,
   "id": "28a4c2f8",
   "metadata": {},
   "outputs": [],
   "source": [
    "# 사용자 메시지를 추가합니다.\n",
    "chat_message_history.add_user_message(\n",
    "    \"안녕 나는 AI개발을 하고있어 회사를 다니는 동시에 대학원에서 공부중이야\"\n",
    ")\n",
    "# AI 메시지를 추가합니다.\n",
    "chat_message_history.add_ai_message(\"안녕 반가워 나도 잘 부탁해\")"
   ]
  },
  {
   "cell_type": "markdown",
   "id": "0c3f65a6",
   "metadata": {},
   "source": [
    "- 저장된 대화내용을 확인합니다. `chat_message_history.messages`\n"
   ]
  },
  {
   "cell_type": "code",
   "execution_count": null,
   "id": "0ab596bb",
   "metadata": {},
   "outputs": [
    {
     "data": {
      "text/plain": [
       "[HumanMessage(content='안녕 나는 AI개발을 하고있어 회사를 다니는 동시에 대학원에서 공부중이야', additional_kwargs={}, response_metadata={}),\n",
       " AIMessage(content='안녕 반가워 나도 잘 부탁해', additional_kwargs={}, response_metadata={})]"
      ]
     },
     "execution_count": 3,
     "metadata": {},
     "output_type": "execute_result"
    }
   ],
   "source": [
    "# 채팅 메시지 히스토리리\n",
    "chat_message_history.messages"
   ]
  },
  {
   "cell_type": "markdown",
   "id": "c5494cca",
   "metadata": {},
   "source": [
    "### **Chain 에 적용**\n",
    "\n",
    "메세지를  `LCEL Runnables` 와 결합"
   ]
  },
  {
   "cell_type": "code",
   "execution_count": 5,
   "id": "6f7b9d9a",
   "metadata": {},
   "outputs": [],
   "source": [
    "from langchain_core.prompts import ChatPromptTemplate, MessagesPlaceholder\n",
    "from langchain_core.runnables.history import RunnableWithMessageHistory\n",
    "from langchain_openai import ChatOpenAI\n",
    "from langchain_core.output_parsers import StrOutputParser"
   ]
  },
  {
   "cell_type": "code",
   "execution_count": 6,
   "id": "3e67d5be",
   "metadata": {},
   "outputs": [],
   "source": [
    "prompt = ChatPromptTemplate.from_messages(\n",
    "    [\n",
    "        # 시스템 메시지\n",
    "        (\"system\", \"You are a helpful assistant.\"),\n",
    "        # 대화 기록을 위한 Placeholder\n",
    "        MessagesPlaceholder(variable_name=\"chat_history\"),\n",
    "        (\"human\", \"{question}\"),  # 질문\n",
    "    ]\n",
    ")\n",
    "\n",
    "# chain 을 생성합니다.\n",
    "chain = prompt | ChatOpenAI(model_name=\"gpt-4o-mini\") | StrOutputParser()"
   ]
  },
  {
   "cell_type": "code",
   "execution_count": 9,
   "id": "f976f3e6",
   "metadata": {},
   "outputs": [],
   "source": [
    "# sqlite db 에서 대화내용을 가져오는 함수\n",
    "def get_chat_history(user_id, conversation_id):\n",
    "    return SQLChatMessageHistory(\n",
    "        table_name=user_id,\n",
    "        session_id=conversation_id,\n",
    "        connection=\"sqlite:///sqlite_test.db\",\n",
    "    )"
   ]
  },
  {
   "cell_type": "markdown",
   "id": "430bb737",
   "metadata": {},
   "source": [
    "`config_fields` 를 설정합니다. 이는 대화정보를 조회할 때 참고 정보로 활용합니다.\n",
    "\n",
    "- `user_id`: 사용자 ID\n",
    "- `conversation_id`: 대화 ID"
   ]
  },
  {
   "cell_type": "code",
   "execution_count": null,
   "id": "cf962546",
   "metadata": {},
   "outputs": [],
   "source": [
    "from langchain_core.runnables.utils import ConfigurableFieldSpec\n",
    "\n",
    "config_fields = [\n",
    "    ConfigurableFieldSpec(\n",
    "        id=\"user_id\",\n",
    "        annotation=str,\n",
    "        name=\"User ID\",\n",
    "        description=\"Unique identifier for a user.\",\n",
    "        default=\"\",\n",
    "        is_shared=True,\n",
    "    ),\n",
    "    ConfigurableFieldSpec(\n",
    "        id=\"conversation_id\",\n",
    "        annotation=str,\n",
    "        name=\"Conversation ID\",\n",
    "        description=\"Unique identifier for a conversation.\",\n",
    "        default=\"\",\n",
    "        is_shared=True,\n",
    "    ),\n",
    "]"
   ]
  },
  {
   "cell_type": "code",
   "execution_count": null,
   "id": "2a17596c",
   "metadata": {},
   "outputs": [],
   "source": [
    "chain_with_history = RunnableWithMessageHistory(\n",
    "    chain,\n",
    "    get_chat_history,  # 대화 기록을 가져오는 함수를 설정합니다.\n",
    "    input_messages_key=\"question\",  # 입력 메시지의 키를 \"question\"으로 설정\n",
    "    history_messages_key=\"chat_history\",  # 대화 기록 메시지의 키를 \"history\"로 설정\n",
    "    history_factory_config=config_fields,  # 대화 기록 조회시 참고할 파라미터를 설정합니다.\n",
    ")"
   ]
  },
  {
   "cell_type": "markdown",
   "id": "65b4a446",
   "metadata": {},
   "source": [
    "- `\"configurable\"` 키 아래에 `\"user_id\"`, `\"conversation_id\"` key-value 쌍을 설정합니다.\n"
   ]
  },
  {
   "cell_type": "code",
   "execution_count": null,
   "id": "34ed9aa6",
   "metadata": {},
   "outputs": [],
   "source": [
    "# config 설정\n",
    "config = {\"configurable\": {\"user_id\": \"user1\", \"conversation_id\": \"conversation1\"}}"
   ]
  },
  {
   "cell_type": "markdown",
   "id": "2081063d",
   "metadata": {},
   "source": [
    "질문에 이름을 물어보는 질문을 해보겠습니다. 이전에 저장한 대화가 있다면, 올바르게 답할 것입니다.\n",
    "\n",
    "- `chain_with_history` 객체의 `invoke` 메서드를 호출하여 질문에 대한 답변을 생성합니다.\n",
    "- `invoke` 메서드에는 질문 딕셔너리와 `config` 설정이 전달됩니다.\n"
   ]
  },
  {
   "cell_type": "code",
   "execution_count": null,
   "id": "2514f160",
   "metadata": {},
   "outputs": [],
   "source": [
    "# 질문과 config 를 전달하여 실행합니다.\n",
    "chain_with_history.invoke({\"question\": \"안녕 반가워, 내 이름은 테디야\"}, config)"
   ]
  },
  {
   "cell_type": "code",
   "execution_count": null,
   "id": "9a949cde",
   "metadata": {},
   "outputs": [],
   "source": [
    "# 후속 질문을 실해합니다.\n",
    "chain_with_history.invoke({\"question\": \"내 이름이 뭐라고?\"}, config)"
   ]
  },
  {
   "cell_type": "markdown",
   "id": "1ae95e6c",
   "metadata": {},
   "source": [
    "이번에는 같은 `user_id` 를 가지지만 `conversion_id` 가 다른 값을 가지도록 설정합니다."
   ]
  },
  {
   "cell_type": "code",
   "execution_count": null,
   "id": "2d1fe631",
   "metadata": {},
   "outputs": [],
   "source": [
    "# config 설정\n",
    "config = {\"configurable\": {\"user_id\": \"user1\", \"conversation_id\": \"conversation2\"}}\n",
    "\n",
    "# 질문과 config 를 전달하여 실행합니다.\n",
    "chain_with_history.invoke({\"question\": \"내 이름이 뭐라고?\"}, config)"
   ]
  }
 ],
 "metadata": {
  "kernelspec": {
   "display_name": "nlp",
   "language": "python",
   "name": "python3"
  },
  "language_info": {
   "codemirror_mode": {
    "name": "ipython",
    "version": 3
   },
   "file_extension": ".py",
   "mimetype": "text/x-python",
   "name": "python",
   "nbconvert_exporter": "python",
   "pygments_lexer": "ipython3",
   "version": "3.11.11"
  }
 },
 "nbformat": 4,
 "nbformat_minor": 5
}
