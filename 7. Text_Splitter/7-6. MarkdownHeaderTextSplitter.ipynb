{
 "cells": [
  {
   "cell_type": "markdown",
   "id": "821fbdd7",
   "metadata": {},
   "source": [
    "### **MarkdownHeaderTextSplitter란?**  \n",
    "\n",
    "마크다운 문서를 효율적으로 다루기 위해 **헤더(제목)를 기준으로 내용을 분할하는 도구**다. 문서의 구조를 유지하면서도 의미 있는 단위로 나누는 것이 목적임.  \n",
    "\n",
    "---\n",
    "\n",
    "### **🧐 왜 필요할까?**  \n",
    "\n",
    "✔ **문서의 구조를 쉽게 파악** – 문서가 어떻게 구성되어 있는지 한눈에 보기 쉬움.  \n",
    "✔ **관련된 내용끼리 묶기** – 같은 주제 아래 있는 내용을 하나의 그룹(청크)으로 만들어 관리할 수 있음.  \n",
    "✔ **텍스트 검색·분석에 유리** – 특정 주제에 대한 정보를 빠르게 찾거나, AI 모델이 더 정확한 벡터 표현을 생성하는 데 도움을 줌.  \n",
    "\n",
    "---\n",
    "\n",
    "### **🔍 어떻게 작동할까?**  \n",
    "\n",
    "1️⃣ 마크다운 문서의 **헤더(`#`, `##`, `###` 등)를 감지**  \n",
    "2️⃣ 헤더를 기준으로 해당 **섹션의 내용을 분할**  \n",
    "3️⃣ 각 헤더와 그 아래의 **내용을 하나의 블록(청크)으로 저장**  \n",
    "\n",
    "예를 들어, 아래와 같은 마크다운 문서가 있다면:  \n",
    "\n",
    "```markdown\n",
    "# 개요  \n",
    "이 문서는 마크다운을 다루는 방법을 설명함.  \n",
    "\n",
    "## 기본 문법  \n",
    "마크다운에서는 `#`을 사용하여 제목을 만들 수 있음.  \n",
    "\n",
    "## 고급 기능  \n",
    "표, 코드 블록 등의 기능을 활용할 수 있음.\n",
    "```\n",
    "\n",
    "📌 **MarkdownHeaderTextSplitter를 사용하면 다음과 같이 분할됨.**  \n",
    "\n",
    "1️⃣ **개요** → \"이 문서는 마크다운을 다루는 방법을 설명함.\"  \n",
    "2️⃣ **기본 문법** → \"마크다운에서는 `#`을 사용하여 제목을 만들 수 있음.\"  \n",
    "3️⃣ **고급 기능** → \"표, 코드 블록 등의 기능을 활용할 수 있음.\"  \n",
    "\n",
    "---\n",
    "\n",
    "### **🛠 어디에 활용할 수 있을까?**  \n",
    "\n",
    "✅ **문서 검색 시스템** – 헤더별로 문서를 나누면 검색 정확도가 향상됨.  \n",
    "✅ **AI 기반 요약·분석** – AI가 문서의 각 부분을 개별적으로 분석하는 데 도움을 줌.  \n",
    "✅ **지식 관리 시스템** – 마크다운 문서를 체계적으로 정리하여 활용하는 데 유용함.  \n",
    "\n",
    "---\n",
    "\n",
    "### **🎯 한 줄 요약**  \n",
    "\n",
    "**MarkdownHeaderTextSplitter**는 마크다운 문서를 **헤더 단위로 나누어 관리하는 도구**임. 문서의 맥락을 유지하면서"
   ]
  },
  {
   "cell_type": "code",
   "execution_count": 1,
   "id": "af2fce82",
   "metadata": {},
   "outputs": [
    {
     "name": "stdout",
     "output_type": "stream",
     "text": [
      "# Title\n",
      "\n",
      "## 1. SubTitle\n",
      "\n",
      "Hi this is Jim\n",
      "\n",
      "Hi this is Joe\n",
      "\n",
      "### 1-1. Sub-SubTitle \n",
      "\n",
      "Hi this is Lance \n",
      "\n",
      "## 2. Baz\n",
      "\n",
      "Hi this is Molly\n"
     ]
    }
   ],
   "source": [
    "from langchain_text_splitters import MarkdownHeaderTextSplitter\n",
    "\n",
    "markdown_document = \"# Title\\n\\n## 1. SubTitle\\n\\nHi this is Jim\\n\\nHi this is Joe\\n\\n### 1-1. Sub-SubTitle \\n\\nHi this is Lance \\n\\n## 2. Baz\\n\\nHi this is Molly\"\n",
    "print(markdown_document)"
   ]
  },
  {
   "cell_type": "code",
   "execution_count": null,
   "id": "d4cf02f0",
   "metadata": {},
   "outputs": [],
   "source": [
    "headers_to_split_on = [  # 문서를 분할할 헤더 레벨과 해당 레벨의 이름을 정의\n",
    "    (\n",
    "        \"#\",\n",
    "        \"Header 1\",\n",
    "    ),  # 헤더 레벨 1은 '#'로 표시되며, 'Header 1'이라는 이름을 가집니다.\n",
    "    (\n",
    "        \"##\",\n",
    "        \"Header 2\",\n",
    "    ),  # 헤더 레벨 2는 '##'로 표시되며, 'Header 2'라는 이름을 가집니다.\n",
    "    (\n",
    "        \"###\",\n",
    "        \"Header 3\",\n",
    "    ),  # 헤더 레벨 3은 '###'로 표시되며, 'Header 3'이라는 이름을 가집니다.\n",
    "]\n",
    "\n",
    "# 마크다운 헤더를 기준으로 텍스트를 분할하는 MarkdownHeaderTextSplitter 객체를 생성\n",
    "markdown_splitter = MarkdownHeaderTextSplitter(headers_to_split_on=headers_to_split_on)\n",
    "# markdown_document를 헤더를 기준으로 분할하여 md_header_splits에 저장\n",
    "md_header_splits = markdown_splitter.split_text(markdown_document)\n",
    "# 분할된 결과를 출력\n",
    "for header in md_header_splits:\n",
    "    print(f\"{header.page_content}\")\n",
    "    print(f\"{header.metadata}\", end=\"\\n=====================\\n\")"
   ]
  },
  {
   "cell_type": "markdown",
   "id": "eca626e1",
   "metadata": {},
   "source": [
    "# Title\n",
    "\n",
    "## 1. SubTitle\n",
    "\n",
    "Hi this is Jim\n",
    "\n",
    "Hi this is Joe\n",
    "\n",
    "### 1-1. Sub-SubTitle \n",
    "\n",
    "Hi this is Lance \n",
    "\n",
    "## 2. Baz\n",
    "\n",
    "Hi this is Molly"
   ]
  },
  {
   "cell_type": "markdown",
   "id": "cdd4bf3f",
   "metadata": {},
   "source": [
    "기본적으로 `MarkdownHeaderTextSplitter`는 분할되는 헤더를 출력 청크의 내용에서 제거\n",
    "\n",
    "이는 `strip_headers = False`로 설정하여 비활성화할 수 있음\n"
   ]
  },
  {
   "cell_type": "code",
   "execution_count": null,
   "id": "942acf87",
   "metadata": {},
   "outputs": [],
   "source": [
    "markdown_splitter = MarkdownHeaderTextSplitter(\n",
    "    # 분할할 헤더를 지정\n",
    "    headers_to_split_on=headers_to_split_on,\n",
    "    # 헤더를 제거하지 않도록 설정\n",
    "    strip_headers=False,\n",
    ")\n",
    "# 마크다운 문서를 헤더를 기준으로 분할\n",
    "md_header_splits = markdown_splitter.split_text(markdown_document)\n",
    "# 분할된 결과를 출력\n",
    "for header in md_header_splits:\n",
    "    print(f\"{header.page_content}\")\n",
    "    print(f\"{header.metadata}\", end=\"\\n=====================\\n\")"
   ]
  },
  {
   "cell_type": "markdown",
   "id": "9184ecb2",
   "metadata": {},
   "source": [
    "각 마크다운 그룹 내에서는 원하는 텍스트 분할기(text splitter)를 적용할 수 있음\n"
   ]
  },
  {
   "cell_type": "code",
   "execution_count": null,
   "id": "1d8e99ee",
   "metadata": {},
   "outputs": [],
   "source": [
    "from langchain_text_splitters import RecursiveCharacterTextSplitter\n",
    "\n",
    "markdown_document = \"# Intro \\n\\n## History \\n\\nMarkdown[9] is a lightweight markup language for creating formatted text using a plain-text editor. John Gruber created Markdown in 2004 as a markup language that is appealing to human readers in its source code form.[9] \\n\\nMarkdown is widely used in blogging, instant messaging, online forums, collaborative software, documentation pages, and readme files. \\n\\n## Rise and divergence \\n\\nAs Markdown popularity grew rapidly, many Markdown implementations appeared, driven mostly by the need for \\n\\nadditional features such as tables, footnotes, definition lists,[note 1] and Markdown inside HTML blocks. \\n\\n#### Standardization \\n\\nFrom 2012, a group of people, including Jeff Atwood and John MacFarlane, launched what Atwood characterised as a standardisation effort. \\n\\n# Implementations \\n\\nImplementations of Markdown are available for over a dozen programming languages.\"\n",
    "print(markdown_document)"
   ]
  },
  {
   "cell_type": "markdown",
   "id": "93f8615c",
   "metadata": {},
   "source": [
    "먼저, `MarkdownHeaderTextSplitter` 사용하여 마크다운 문서를 헤더를 기준으로 분할\n"
   ]
  },
  {
   "cell_type": "code",
   "execution_count": null,
   "id": "bbaa36a9",
   "metadata": {},
   "outputs": [],
   "source": [
    "headers_to_split_on = [\n",
    "    (\"#\", \"Header 1\"),  # 분할할 헤더 레벨과 해당 레벨의 이름을 지정\n",
    "    # (\"##\", \"Header 2\"),\n",
    "]\n",
    "\n",
    "# Markdown 문서를 헤더 레벨에 따라 분할\n",
    "markdown_splitter = MarkdownHeaderTextSplitter(\n",
    "    headers_to_split_on=headers_to_split_on, strip_headers=False\n",
    ")\n",
    "md_header_splits = markdown_splitter.split_text(markdown_document)\n",
    "# 분할된 결과를 출력\n",
    "for header in md_header_splits:\n",
    "    print(f\"{header.page_content}\")\n",
    "    print(f\"{header.metadata}\", end=\"\\n=====================\\n\")"
   ]
  },
  {
   "cell_type": "markdown",
   "id": "3d7d0e15",
   "metadata": {},
   "source": [
    "이전의 `MarkdownHeaderTextSplitter` 로 분할된 결과를 다시 `RecursiveCharacterTextSplitter` 로 분할\n"
   ]
  },
  {
   "cell_type": "code",
   "execution_count": null,
   "id": "3f9cd8ce",
   "metadata": {},
   "outputs": [],
   "source": [
    "chunk_size = 200  # 분할된 청크의 크기를 지정\n",
    "chunk_overlap = 20  # 분할된 청크 간의 중복되는 문자 수를 지정\n",
    "text_splitter = RecursiveCharacterTextSplitter(\n",
    "    chunk_size=chunk_size, chunk_overlap=chunk_overlap\n",
    ")\n",
    "\n",
    "# 문서를 문자 단위로 분할\n",
    "splits = text_splitter.split_documents(md_header_splits)\n",
    "# 분할된 결과를 출력\n",
    "for header in splits:\n",
    "    print(f\"{header.page_content}\")\n",
    "    print(f\"{header.metadata}\", end=\"\\n=====================\\n\")"
   ]
  }
 ],
 "metadata": {
  "kernelspec": {
   "display_name": "nlp",
   "language": "python",
   "name": "python3"
  },
  "language_info": {
   "codemirror_mode": {
    "name": "ipython",
    "version": 3
   },
   "file_extension": ".py",
   "mimetype": "text/x-python",
   "name": "python",
   "nbconvert_exporter": "python",
   "pygments_lexer": "ipython3",
   "version": "3.11.11"
  }
 },
 "nbformat": 4,
 "nbformat_minor": 5
}
