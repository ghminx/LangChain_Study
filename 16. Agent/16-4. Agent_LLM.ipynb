{
 "cells": [
  {
   "cell_type": "markdown",
   "metadata": {},
   "source": [
    "### **여러가지 LLM을 사용한 Tool Calling Agent**\n",
    "\n",
    "`Anthropic`, `Google Gemini`, `Together.ai`, `Ollama`, `Mistral`과 같은 더 광범위한 공급자 구현을 지원"
   ]
  },
  {
   "cell_type": "code",
   "execution_count": 1,
   "metadata": {},
   "outputs": [
    {
     "name": "stdout",
     "output_type": "stream",
     "text": [
      "도구 이름: search_news\n",
      "도구 설명: Search Google News by input keyword\n"
     ]
    }
   ],
   "source": [
    "from langchain.tools import tool\n",
    "from typing import List, Dict\n",
    "from langchain_teddynote.tools import GoogleNews\n",
    "\n",
    "\n",
    "# 도구 정의\n",
    "@tool\n",
    "def search_news(query: str) -> List[Dict[str, str]]:\n",
    "    \"\"\"Search Google News by input keyword\"\"\"\n",
    "    news_tool = GoogleNews()\n",
    "    return news_tool.search_by_keyword(query, k=5)\n",
    "\n",
    "\n",
    "print(f\"도구 이름: {search_news.name}\")\n",
    "print(f\"도구 설명: {search_news.description}\")\n",
    "\n",
    "# tools 정의\n",
    "tools = [search_news]"
   ]
  },
  {
   "cell_type": "markdown",
   "metadata": {},
   "source": [
    "### **Agent Prompts**"
   ]
  },
  {
   "cell_type": "code",
   "execution_count": 8,
   "metadata": {},
   "outputs": [],
   "source": [
    "from langchain_core.prompts import ChatPromptTemplate\n",
    "from langchain.agents import create_tool_calling_agent\n",
    "\n",
    "# 프롬프트 생성\n",
    "prompt = ChatPromptTemplate.from_messages(\n",
    "    [\n",
    "        (\n",
    "            \"system\",\n",
    "            \"You are a helpful assistant. \"\n",
    "            \"Make sure to use the `search_news` tool for searching keyword related news.\",\n",
    "        ),\n",
    "        (\"placeholder\", \"{chat_history}\"),\n",
    "        (\"human\", \"{input}\"),\n",
    "        (\"placeholder\", \"{agent_scratchpad}\"),\n",
    "    ]\n",
    ")"
   ]
  },
  {
   "cell_type": "code",
   "execution_count": 9,
   "metadata": {},
   "outputs": [],
   "source": [
    "from langchain_google_genai import ChatGoogleGenerativeAI\n",
    "from langchain_openai import ChatOpenAI\n",
    "from langchain_ollama import ChatOllama\n",
    "import os\n",
    "\n",
    "# GPT-4o-mini\n",
    "gpt = ChatOpenAI(model=\"gpt-4o-mini\")\n",
    "\n",
    "# Gemini-1.5-pro-latest\n",
    "gemini = ChatGoogleGenerativeAI(model=\"gemini-1.5-pro\", temperature=0)\n",
    "\n",
    "# # Llama-3.1-70B-Instruct-Turbo\n",
    "# llama = ChatOpenAI(\n",
    "#     base_url=\"https://api.together.xyz/v1\",\n",
    "#     api_key=os.environ[\"TOGETHER_API_KEY\"],\n",
    "#     model=\"meta-llama/Meta-Llama-3.1-70B-Instruct-Turbo\",\n",
    "# )\n",
    "\n",
    "# Llama-3.1\n",
    "ollama = ChatOllama(model=\"llama3.1\", temperature=0)\n",
    "\n",
    "# Qwen2.5 7B (한글 성능 괜찮은 편)\n",
    "qwen = ChatOllama(\n",
    "    model=\"qwen2.5:7b\",\n",
    ")"
   ]
  },
  {
   "cell_type": "code",
   "execution_count": 10,
   "metadata": {},
   "outputs": [],
   "source": [
    "from langchain.agents import create_tool_calling_agent\n",
    "\n",
    "# Agent 생성\n",
    "gpt_agent = create_tool_calling_agent(gpt, tools, prompt)\n",
    "gemini_agent = create_tool_calling_agent(gemini, tools, prompt)\n",
    "# llama_agent = create_tool_calling_agent(llama, tools, prompt)\n",
    "ollama_agent = create_tool_calling_agent(ollama, tools, prompt)\n",
    "qwen_agent = create_tool_calling_agent(qwen, tools, prompt)"
   ]
  },
  {
   "cell_type": "code",
   "execution_count": 11,
   "metadata": {},
   "outputs": [
    {
     "name": "stdout",
     "output_type": "stream",
     "text": [
      "\n",
      "\n",
      "\u001b[1m> Entering new AgentExecutor chain...\u001b[0m\n",
      "\u001b[32;1m\u001b[1;3m\n",
      "Invoking: `search_news` with `{'query': 'AI 投资'}`\n",
      "\n",
      "\n",
      "\u001b[0m\u001b[36;1m\u001b[1;3m[{'url': 'https://news.google.com/rss/articles/CBMia0FVX3lxTE1IdjVHZDF4S1Qzc2w1QnNpVC10U0hhY1M0UnJET1hMdmdCeFJmZXR0RHJaX1VxR1hQNmhsV3p5T052NTZWRm9PZGtEX0hleUdmZktEd2gtUm02YllKNzhGdGlNTm9HRjFsdDBB?oc=5', 'content': '中 휴머노이드 로봇 기업 푸리에, 1500억원 투자 유치 - 로봇신문사'}, {'url': 'https://news.google.com/rss/articles/CBMiVkFVX3lxTFBTb0RYWF9pcjQ5dkhLMVdobDFGZmstU0RkSGM0S2gtdEo4RVpaUGRuQlpyaUd0S1haRjNyYkx1aHYyM25HSjVpaHVWMEpkei1zOU1CVndB?oc=5', 'content': '비트코인이 안전자산? 가격과 명성에서 금과 경쟁… VVIP ‘안전자산 포트폴리오’에 관심 [AI 프리즘*금융상품 투자자 뉴스] - 서울경제'}, {'url': 'https://news.google.com/rss/articles/CBMiVEFVX3lxTFA1N3BGTnBFWk0xS0hpRlZUNnR1UDdfaEJoM0ZRYU5fWk83dUtibVdTQUpMc2tjMXJMcnZDZWJDVDdEUW1Pakowb3N2TjlCWkhpVW5ibA?oc=5', 'content': '엔비디아 CEO \"AI 에이전트 수조 달러 산업 될 것\" 전망 - BeInCrypto Korea'}, {'url': 'https://news.google.com/rss/articles/CBMiTEFVX3lxTE4xRjlaX3JlajFQMU9YTEZmUzVJMDNNWTRVc3lPMFYwczE2MFFKcTdwTzBOU1E1YllfTnlGT25sTkRKVERCQWR4Yk9hQWY?oc=5', 'content': '중기부 “2024년 벤처투자 11.9조원, 감소추세 벗어나 반등” - 벤처스퀘어'}, {'url': 'https://news.google.com/rss/articles/CBMiX0FVX3lxTE1SZXY4eWtEd05Td1k1d2xaQllnc0VMMjlMODJ2SEVyMnNhTHlxeGpneXdrUXRvcWczTS1RY09KbFplWXZxWGZnY2tQbFBvOW1DRWYta3AxWTVfblRhUkdZ?oc=5', 'content': \"소프트뱅크, '삼성·SKT 찜한' 퍼플렉시티AI 투자 추진 - 더구루\"}]\u001b[0m\u001b[32;1m\u001b[1;3m여기 AI 투자와 관련된 몇 개의 뉴스를 찾았습니다.\n",
      "\n",
      "1. [중 휴머노이드 로봇 기업 푸리에, 1500억원 투자 유치](https://news.google.com/rss/articles/CBMia0FVX3lxTE1IdjVHZDF4S1Qzc2w1QnNpVC10U0hhY1M0UnJET1hMdmdCeFJmZXR0RHJaX1VxR1hQNmhsV3p5T052NTZWRm9PZGtEX0hleUdmZktEd2gtUm02YllKNzhGdGlNTm9HRjFsdDBB?oc=5)\n",
      "   \n",
      "2. [비트코인이 안전자산? 가격과 명성에서 금과 경쟁… VVIP ‘안전자산 포트폴리오’에 관심](https://news.google.com/rss/articles/CBMiVkFVX3lxTFBTb0RYWF9pcjQ5dkhLMVdobDFGZmstU0RkSGM0S2gtdEo4RVpaUGRuQlpyaUd0S1haRjNyYkx1aHYyM25HSjVpaHVWMEpkei1zOU1CVndB?oc=5)\n",
      "   \n",
      "3. [엔비디아 CEO \"AI 에이전트 수조 달러 산업 될 것\" 전망](https://news.google.com/rss/articles/CBMiVEFVX3lxTFA1N3BGTnBFWk0xS0hpRlZUNnR1UDdfaEJoM0ZRYU5fWk83dUtibVdTQUpMc2tjMXJMcnZDZWJDVDdEUW1Pakowb3N2TjlCWkhpVW5ibA?oc=5)\n",
      "   \n",
      "4. [중기부 “2024년 벤처투자 11.9조원, 감소추세 벗어나 반등”](https://news.google.com/rss/articles/CBMiTEFVX3lxTE4xRjlaX3JlajFQMU9YTEZmUzVJMDNNWTRVc3lPMFYwczE2MFFKcTdwTzBOU1E1YllfTnlGT25sTkRKVERCQWR4Yk9hQWY?oc=5)\n",
      "   \n",
      "5. [소프트뱅크, '삼성·SKT 찜한' 퍼플렉시티AI 투자 추진](https://news.google.com/rss/articles/CBMiX0FVX3lxTE1SZXY4eWtEd05Td1k1d2xaQllnc0VMMjlMODJ2SEVyMnNhTHlxeGpneXdrUXRvcWczTS1RY09KbFplWXZxWGZnY2tQbFBvOW1DRWYta3AxWTVfblRhUkdZ?oc=5)\n",
      "\n",
      "이 뉴스들은 AI 기술, 투자 동향 등에 대해 다루고 있으니 참고해주세요.\u001b[0m\n",
      "\n",
      "\u001b[1m> Finished chain.\u001b[0m\n",
      "Agent 실행 결과:\n",
      "여기 AI 투자와 관련된 몇 개의 뉴스를 찾았습니다.\n",
      "\n",
      "1. [중 휴머노이드 로봇 기업 푸리에, 1500억원 투자 유치](https://news.google.com/rss/articles/CBMia0FVX3lxTE1IdjVHZDF4S1Qzc2w1QnNpVC10U0hhY1M0UnJET1hMdmdCeFJmZXR0RHJaX1VxR1hQNmhsV3p5T052NTZWRm9PZGtEX0hleUdmZktEd2gtUm02YllKNzhGdGlNTm9HRjFsdDBB?oc=5)\n",
      "   \n",
      "2. [비트코인이 안전자산? 가격과 명성에서 금과 경쟁… VVIP ‘안전자산 포트폴리오’에 관심](https://news.google.com/rss/articles/CBMiVkFVX3lxTFBTb0RYWF9pcjQ5dkhLMVdobDFGZmstU0RkSGM0S2gtdEo4RVpaUGRuQlpyaUd0S1haRjNyYkx1aHYyM25HSjVpaHVWMEpkei1zOU1CVndB?oc=5)\n",
      "   \n",
      "3. [엔비디아 CEO \"AI 에이전트 수조 달러 산업 될 것\" 전망](https://news.google.com/rss/articles/CBMiVEFVX3lxTFA1N3BGTnBFWk0xS0hpRlZUNnR1UDdfaEJoM0ZRYU5fWk83dUtibVdTQUpMc2tjMXJMcnZDZWJDVDdEUW1Pakowb3N2TjlCWkhpVW5ibA?oc=5)\n",
      "   \n",
      "4. [중기부 “2024년 벤처투자 11.9조원, 감소추세 벗어나 반등”](https://news.google.com/rss/articles/CBMiTEFVX3lxTE4xRjlaX3JlajFQMU9YTEZmUzVJMDNNWTRVc3lPMFYwczE2MFFKcTdwTzBOU1E1YllfTnlGT25sTkRKVERCQWR4Yk9hQWY?oc=5)\n",
      "   \n",
      "5. [소프트뱅크, '삼성·SKT 찜한' 퍼플렉시티AI 투자 추진](https://news.google.com/rss/articles/CBMiX0FVX3lxTE1SZXY4eWtEd05Td1k1d2xaQllnc0VMMjlMODJ2SEVyMnNhTHlxeGpneXdrUXRvcWczTS1RY09KbFplWXZxWGZnY2tQbFBvOW1DRWYta3AxWTVfblRhUkdZ?oc=5)\n",
      "\n",
      "이 뉴스들은 AI 기술, 투자 동향 등에 대해 다루고 있으니 참고해주세요.\n"
     ]
    }
   ],
   "source": [
    "from langchain.agents import AgentExecutor\n",
    "\n",
    "# gpt_agent 실행\n",
    "agent_executor = AgentExecutor(\n",
    "    agent=qwen_agent,\n",
    "    tools=tools,\n",
    "    verbose=True,\n",
    "    handle_parsing_errors=True,\n",
    ")\n",
    "\n",
    "result = agent_executor.invoke({\"input\": \"AI 투자와 관련된 뉴스를 검색해 주세요.\"})\n",
    "\n",
    "print(\"Agent 실행 결과:\")\n",
    "print(result[\"output\"])"
   ]
  },
  {
   "cell_type": "code",
   "execution_count": 12,
   "metadata": {},
   "outputs": [],
   "source": [
    "def execute_agent(llm, tools, input_text, label):\n",
    "    agent = create_tool_calling_agent(llm, tools, prompt)\n",
    "    executor = AgentExecutor(agent=agent, tools=tools, verbose=False)\n",
    "    result = executor.invoke({\"input\": input_text})\n",
    "    print(f\"[{label}] 결과입니다.\")\n",
    "    if isinstance(result[\"output\"], list) and len(result[\"output\"]) > 0:\n",
    "        for item in result[\"output\"]:\n",
    "            if \"text\" in item:\n",
    "                print(item[\"text\"])\n",
    "    elif isinstance(result[\"output\"], str):\n",
    "        print(result[\"output\"])\n",
    "    else:\n",
    "        print(result[\"output\"])"
   ]
  },
  {
   "cell_type": "code",
   "execution_count": 13,
   "metadata": {},
   "outputs": [
    {
     "name": "stdout",
     "output_type": "stream",
     "text": [
      "[gemini] 결과입니다.\n",
      "🌟 **AI 투자 소식** 🌟\n",
      "\n",
      "🚀 최근 AI 분야의 투자 열기가 뜨겁습니다! 📈\n",
      "\n",
      "1️⃣ **오픈AI**, 무려 **400억 달러** 투자를 유치하며 최근 5개월 사이에 기업 가치를 두 배로 끌어올렸습니다! [자세히 보기](https://news.google.com/rss/articles/CBMiU0FVX3lxTE5DaDRFcGh4Z25NZDZKS3ZkSXFMOGs0RmkzcEFJZlBMaGVCVHJRZlV6b1NnVk9ydWQ0eVBNZFBQOUlMY05CY0hCTVZpLXlkTEFrWUJ3?oc=5) 🔥\n",
      "\n",
      "2️⃣ 투자 앱 **핀트**가 미국에서 프리미엄 투자전략 상품 출시를 발표했어요! [더 알아보기](https://news.google.com/rss/articles/CBMiW0FVX3lxTE9OcFFfVE1VcWxWaEdsQV8xV19tcnRlUTdXTDRVdy0tWHRiOTVybVoyQjRORGVLbGpDbVNteElrTS1EU3ozMzJvZHJXSUNaVmxnOVhncFZGd2xjelHSAWBBVV95cUxOdEY2NWlxejFSWjgwU3FPakhkcTNyUHVFRURTY2JMcTVXSjFzcnZPSXdieS05N19LV1BRS1U5RkRfM05ORUNMeW5iVjVEVWZ1cVZtZlp0c3h0QUhrcEJqQlk?oc=5) 💼\n",
      "\n",
      "3️⃣ **뤼튼테크놀로지스**가 1080억원 규모의 시리즈B 투자 유치를 완료했습니다! [눈여겨보세요](https://news.google.com/rss/articles/CBMiakFVX3lxTE8xeTBoWWYwaFJCRFBNXzgyXzN0V3hyM1VjNlVVYzJZaDRGQndRUmpMeFR5bGJTdlZwWFRrYVkwMXpnMUxSQnRXM0k3cWp3UWY5YXlMZHoxdmNxXzhHNTlPQi1md0hXc3VqYXc?oc=5) 📊\n",
      "\n",
      "4️⃣ 정부가 AI 인프라를 구축하면 기업들이 AI 투자에 나설 것이라는 전망도 나왔습니다. 중국의 자율주행 상용화에 박차를 가할 예정입니다. [더 보기](https://news.google.com/rss/articles/CBMiU0FVX3lxTE5VbHRJMGw5RmY0V0tKMHlyTnBJazE1NVlITVVWVGxLdldYZ1BjX2hISEs1M0dBYWZ3YmpJVDdPOXhrR29KeF9mejRtSVpZajNrQkFr?oc=5) 🚘\n",
      "\n",
      "5️⃣ 하지만 최근 **SK텔레콤**의 연구에 의하면 AI 투자 성과가 불투명하다는 지적도 나왔습니다. 해외 투자사들은 수익성 저해 우려를 하고 있다고 합니다. [자세한 내용](https://news.google.com/rss/articles/CBMic0FVX3lxTE1yLURHQVUyUmUwbGNxWTgzenNqTHFyVWNzVGJFU1RyV2ExeEhYTWgxUWhNREliNU85aW1MS3lWalVDdGRLQm5XS3czNzBsZnR6OEVETGxWQllfYzlGQTViQWxHX3h1OWpWekNyU21nZzdxSGc?oc=5) 😟\n",
      "\n",
      "#AI #Investment #Technology #Innovation #Business #NewsUpdate\n"
     ]
    }
   ],
   "source": [
    "query = (\n",
    "    \"AI 투자와 관련된 뉴스를 검색하고, 결과를 Instagram 게시글 형식으로 작성해 주세요.\"\n",
    ")\n",
    "\n",
    "# gpt\n",
    "execute_agent(gpt, tools, query, \"gemini\")"
   ]
  }
 ],
 "metadata": {
  "kernelspec": {
   "display_name": "nlp",
   "language": "python",
   "name": "python3"
  },
  "language_info": {
   "codemirror_mode": {
    "name": "ipython",
    "version": 3
   },
   "file_extension": ".py",
   "mimetype": "text/x-python",
   "name": "python",
   "nbconvert_exporter": "python",
   "pygments_lexer": "ipython3",
   "version": "3.11.11"
  }
 },
 "nbformat": 4,
 "nbformat_minor": 2
}
