{
 "cells": [
  {
   "cell_type": "markdown",
   "metadata": {},
   "source": [
    "### **LLM Bind Tools**\n",
    "\n",
    "- LLM에 Tools 적용\n",
    "\n",
    "**참고**\n",
    "- 도구를 정의할 때 `@tool` 데코레이터를 사용하여 도구를 정의\n",
    "- docstring 은 가급적 영어로 작성하는 것을 권장"
   ]
  },
  {
   "cell_type": "code",
   "execution_count": 3,
   "metadata": {},
   "outputs": [],
   "source": [
    "import re\n",
    "import requests\n",
    "from bs4 import BeautifulSoup\n",
    "from langchain_openai import ChatOpenAI\n",
    "from langchain.agents import tool\n",
    "\n",
    "a = [1, 2, 3, 4, 5]\n",
    "a"
   ]
  },
  {
   "cell_type": "code",
   "execution_count": 3,
   "metadata": {},
   "outputs": [],
   "source": [
    "# 단어의 길이 반환\n",
    "@tool\n",
    "def get_word_length(word: str) -> int:\n",
    "    \"\"\"Returns the length of a word.\"\"\"\n",
    "    return len(word)\n",
    "\n",
    "# 두 숫자를 더함\n",
    "@tool\n",
    "def add_function(a: float, b: float) -> float:\n",
    "    \"\"\"Adds two numbers together.\"\"\"\n",
    "    return a + b\n",
    "\n",
    "# 네이버 뉴스 크롤링\n",
    "@tool\n",
    "def naver_news_crawl(news_url: str) -> str:\n",
    "    \"\"\"Crawls a 네이버 (naver.com) news article and returns the body content.\"\"\"\n",
    "    # HTTP GET 요청 보내기\n",
    "    response = requests.get(news_url)\n",
    "\n",
    "    # 요청이 성공했는지 확인\n",
    "    if response.status_code == 200:\n",
    "        # BeautifulSoup을 사용하여 HTML 파싱\n",
    "        soup = BeautifulSoup(response.text, \"html.parser\")\n",
    "\n",
    "        # 원하는 정보 추출\n",
    "        title = soup.find(\"h2\", id=\"title_area\").get_text()\n",
    "        content = soup.find(\"div\", id=\"contents\").get_text()\n",
    "        cleaned_title = re.sub(r\"\\n{2,}\", \"\\n\", title)\n",
    "        cleaned_content = re.sub(r\"\\n{2,}\", \"\\n\", content)\n",
    "    else:\n",
    "        print(f\"HTTP 요청 실패. 응답 코드: {response.status_code}\")\n",
    "\n",
    "    return f\"{cleaned_title}\\n{cleaned_content}\"\n",
    "\n",
    "\n",
    "tools = [get_word_length, add_function, naver_news_crawl]"
   ]
  },
  {
   "cell_type": "markdown",
   "metadata": {},
   "source": [
    "### **bind_tools() 로 LLM 에 도구 바인딩**\n",
    "\n",
    "- name : 도구 이름\n",
    "- args : 도구에 전달되는 인자"
   ]
  },
  {
   "cell_type": "code",
   "execution_count": 4,
   "metadata": {},
   "outputs": [],
   "source": [
    "from langchain_openai import ChatOpenAI\n",
    "\n",
    "# 모델 생성\n",
    "llm = ChatOpenAI(model=\"gpt-4o-mini\", temperature=0)\n",
    "\n",
    "# 도구 바인딩\n",
    "llm_with_tools = llm.bind_tools(tools)"
   ]
  },
  {
   "cell_type": "code",
   "execution_count": 5,
   "metadata": {},
   "outputs": [
    {
     "data": {
      "text/plain": [
       "[{'name': 'add_function',\n",
       "  'args': {'a': 3, 'b': 2},\n",
       "  'id': 'call_c9GzzYUw2vOQfutSWkfmTP4w',\n",
       "  'type': 'tool_call'}]"
      ]
     },
     "execution_count": 5,
     "metadata": {},
     "output_type": "execute_result"
    }
   ],
   "source": [
    "llm_with_tools.invoke(\"what is 3 + 2?\").tool_calls"
   ]
  },
  {
   "cell_type": "code",
   "execution_count": 6,
   "metadata": {},
   "outputs": [
    {
     "data": {
      "text/plain": [
       "[{'args': {'word': 'teddynote'}, 'type': 'get_word_length'}]"
      ]
     },
     "execution_count": 6,
     "metadata": {},
     "output_type": "execute_result"
    }
   ],
   "source": [
    "from langchain_core.output_parsers.openai_tools import JsonOutputToolsParser\n",
    "\n",
    "# 도구 바인딩 + 도구 파서\n",
    "chain = llm_with_tools | JsonOutputToolsParser(tools=tools)\n",
    "\n",
    "# 실행 결과\n",
    "tool_call_results = chain.invoke(\"What is the length of the word 'teddynote'?\")\n",
    "tool_call_results"
   ]
  },
  {
   "cell_type": "code",
   "execution_count": 7,
   "metadata": {},
   "outputs": [
    {
     "name": "stdout",
     "output_type": "stream",
     "text": [
      "[{'args': {'word': 'teddynote'}, 'type': 'get_word_length'}]\n",
      "\n",
      "==========\n",
      "\n"
     ]
    },
    {
     "data": {
      "text/plain": [
       "{'args': {'word': 'teddynote'}, 'type': 'get_word_length'}"
      ]
     },
     "execution_count": 7,
     "metadata": {},
     "output_type": "execute_result"
    }
   ],
   "source": [
    "print(tool_call_results, end=\"\\n\\n==========\\n\\n\")\n",
    "\n",
    "# 첫 번째 도구 호출 결과\n",
    "single_result = tool_call_results[0]\n",
    "\n",
    "single_result"
   ]
  },
  {
   "cell_type": "code",
   "execution_count": 8,
   "metadata": {},
   "outputs": [
    {
     "name": "stdout",
     "output_type": "stream",
     "text": [
      "name='get_word_length' description='Returns the length of a word.' args_schema=<class 'langchain_core.utils.pydantic.get_word_length'> func=<function get_word_length at 0x0000022461FA9800>\n",
      "\n",
      "[실행도구] get_word_length [Argument] {'word': 'teddynote'}\n",
      "[실행결과] 9\n"
     ]
    }
   ],
   "source": [
    "def execute_tool_calls(tool_call_results):\n",
    "    \"\"\"\n",
    "    도구 호출 결과를 실행하는 함수\n",
    "\n",
    "    :param tool_call_results: 도구 호출 결과 리스트\n",
    "    :param tools: 사용 가능한 도구 리스트\n",
    "    \"\"\"\n",
    "    # 도구 호출 결과 리스트를 순회\n",
    "    for tool_call_result in tool_call_results:\n",
    "        \n",
    "        # 도구의 이름과 인자를 추출\n",
    "        tool_name = tool_call_result[\"type\"]  # 도구의 이름(함수명)\n",
    "        tool_args = tool_call_result[\"args\"]  # 도구에 전달되는 인자\n",
    "\n",
    "        # 도구 이름과 일치하는 도구를 찾아 실행\n",
    "        # next() 함수를 사용하여 일치하는 첫 번째 도구를 찾습니다.\n",
    "        matching_tool = next((tool for tool in tools if tool.name == tool_name), None)\n",
    "        print(matching_tool, end=\"\\n\\n\")\n",
    "        if matching_tool:\n",
    "            # 일치하는 도구를 찾았다면 해당 도구를 실행\n",
    "            result = matching_tool.invoke(tool_args)\n",
    "            # 실행 결과를 출력\n",
    "            print(f\"[실행도구] {tool_name} [Argument] {tool_args}\\n[실행결과] {result}\")\n",
    "        else:\n",
    "            # 일치하는 도구를 찾지 못했다면 경고 메시지를 출력\n",
    "            print(f\"경고: {tool_name}에 해당하는 도구를 찾을 수 없습니다.\")\n",
    "\n",
    "\n",
    "# 도구 호출 실행\n",
    "# 이전에 얻은 tool_call_results를 인자로 전달하여 함수를 실행\n",
    "execute_tool_calls(tool_call_results)"
   ]
  },
  {
   "cell_type": "code",
   "execution_count": 9,
   "metadata": {},
   "outputs": [
    {
     "name": "stdout",
     "output_type": "stream",
     "text": [
      "name='get_word_length' description='Returns the length of a word.' args_schema=<class 'langchain_core.utils.pydantic.get_word_length'> func=<function get_word_length at 0x0000022461FA9800>\n",
      "\n",
      "[실행도구] get_word_length [Argument] {'word': 'teddynote'}\n",
      "[실행결과] 9\n"
     ]
    }
   ],
   "source": [
    "from langchain_core.output_parsers.openai_tools import JsonOutputToolsParser\n",
    "\n",
    "# bind_tools + Parser + Execution\n",
    "chain = llm_with_tools | JsonOutputToolsParser(tools=tools) | execute_tool_calls\n",
    "\n",
    "chain.invoke(\"What is the length of the word 'teddynote'?\")"
   ]
  }
 ],
 "metadata": {
  "kernelspec": {
   "display_name": "nlp",
   "language": "python",
   "name": "python3"
  },
  "language_info": {
   "codemirror_mode": {
    "name": "ipython",
    "version": 3
   },
   "file_extension": ".py",
   "mimetype": "text/x-python",
   "name": "python",
   "nbconvert_exporter": "python",
   "pygments_lexer": "ipython3",
   "version": "3.11.11"
  }
 },
 "nbformat": 4,
 "nbformat_minor": 2
}
