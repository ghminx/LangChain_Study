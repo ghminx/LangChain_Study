{
 "cells": [
  {
   "cell_type": "markdown",
   "metadata": {},
   "source": [
    "### **AI Agent**\n",
    "\n",
    "> **Agent**는 **스스로 판단해서 행동을 결정하는 AI 시스템**\n",
    "\n",
    "일반적인 LLM은 정해진 프롬프트에 따라 한 번만 응답하지만,  \n",
    "**Agent는 여러 단계로 추론**하면서 **외부 도구를 호출하거나, 정보를 수집하고, 그 결과를 바탕으로 다시 행동을 결정** 함\n",
    "\n",
    "#### **Agent의 구성요소**\n",
    "\n",
    "| 구성요소 | 설명 |\n",
    "|----------|------|\n",
    "| **LLM (Think)** | 주어진 목표를 이해하고, 어떤 행동을 할지 판단 |\n",
    "| **Tools (Act)** | 계산기, 검색엔진, 데이터베이스 질의 등 실행 가능한 도구 |\n",
    "| **Memory (Optional)** | 이전 대화나 작업 결과를 기억 |\n",
    "| **Planner/Executor** | (고급) 작업을 계획하고 순차적으로 실행 |\n",
    "\n",
    "\n",
    "### **tools**\n",
    "\n",
    "> **Tools는 Agent가 사용할 수 있는 “실제 기능”.**\n",
    "\n",
    "- 계산기\n",
    "- 웹 검색\n",
    "- 데이터베이스 질의\n",
    "- API 호출\n",
    "- 사전 정의된 파이썬 함수\n",
    "\n",
    "Agent가 직접 실행할 수 있도록 연결해주는 \"인터페이스\"\n",
    "\n",
    "LLM은 **외부 세계의 정보**를 알 수 없음.  \n",
    "근데 Agent가 진짜 유용하려면 **외부 도구를 통해 뭔가 “행동”할 수 있어야** 함.\n",
    "\n",
    "LangChain은 LLM이 직접 사용할 수 있는 **툴 인터페이스**를 구현\n",
    "\n",
    "LangChain에서는 모든 Tool이 내부적으로는 **`Runnable`**로 작동\n",
    "체인처럼 연결하거나, 병렬 실행도 가능하고, tracing 가능\n",
    "\n",
    "### **요약**\n",
    "\n",
    "| 개념 | 설명 |\n",
    "|------|------|\n",
    "| `tool` | Agent가 사용할 수 있는 \"기능 함수\" |\n",
    "| 목적 | LLM이 외부 행동(계산, 검색, API 등)을 할 수 있게 함 |\n",
    "| 형태 | 일반 함수에 `@tool`을 붙이면 됨 |\n",
    "| 예 | 계산기, 날씨 정보, DB 질의 등 |\n",
    "\n",
    "- [LangChain Tools/Toolkits](https://python.langchain.com/docs/integrations/tools/)"
   ]
  },
  {
   "cell_type": "markdown",
   "metadata": {},
   "source": [
    "### **빌트인 도구(built-in tools)**\n",
    "\n",
    "랭체인에서 제공하는 사전에 정의된 도구(tool) 와 툴킷(toolkit) 을 사용할 수 있음\n",
    "\n",
    "tool 은 단일 도구를 의미하며, toolkit 은 여러 도구를 묶어서 하나의 도구로 사용할 수 있음"
   ]
  },
  {
   "cell_type": "markdown",
   "metadata": {},
   "source": [
    "### **Python REPL 도구**\n",
    "\n",
    "Python 코드를 REPL(Read-Eval-Print Loop) 환경에서 실행하기 위한 클래스를 제공\n",
    "- PythonREPLTool\n",
    "\n",
    "**설명**\n",
    "\n",
    "- Python 셸 환경을 제공\n",
    "- 유효한 Python 명령어를 입력으로 받아 실행\n",
    "- 결과를 보려면 print(...) 함수를 사용\n",
    "\n",
    "**주요 특징**\n",
    "\n",
    "- sanitize_input: 입력을 정제하는 옵션 (기본값: True)\n",
    "- python_repl: PythonREPL 인스턴스 (기본값: 전역 범위에서 실행)\n",
    "\n",
    "**사용 방법**\n",
    "\n",
    "- PythonREPLTool 인스턴스 생성\n",
    "- run 또는 arun, invoke 메서드를 사용하여 Python 코드 실행\n",
    "\n",
    "**입력 정제**\n",
    "\n",
    "- 입력 문자열에서 불필요한 공백, 백틱, 'python' 키워드 등을 제거"
   ]
  },
  {
   "cell_type": "code",
   "execution_count": 1,
   "metadata": {},
   "outputs": [
    {
     "name": "stderr",
     "output_type": "stream",
     "text": [
      "Python REPL can execute arbitrary code. Use with caution.\n"
     ]
    },
    {
     "name": "stdout",
     "output_type": "stream",
     "text": [
      "300\n",
      "\n"
     ]
    }
   ],
   "source": [
    "from langchain_experimental.tools import PythonREPLTool\n",
    "\n",
    "# 파이썬 코드를 실행하는 Tools\n",
    "python_tool = PythonREPLTool()\n",
    "\n",
    "# Tool을 사용하여 파이썬 코드 실행\n",
    "code = '''\n",
    "for i in range(1, 9):\n",
    "    for j in range(1, 9):\n",
    "        print(f\"{i} * {j} = {i * j}\")\n",
    "'''\n",
    "        \n",
    "print(python_tool.invoke(code))"
   ]
  },
  {
   "cell_type": "markdown",
   "metadata": {},
   "source": [
    "### **LLM에게 코드 작성 요청 & Tools로 실행**"
   ]
  },
  {
   "cell_type": "code",
   "execution_count": null,
   "metadata": {},
   "outputs": [],
   "source": [
    "from langchain_openai import ChatOpenAI\n",
    "from langchain_core.prompts import PromptTemplate\n",
    "from langchain_core.output_parsers import StrOutputParser\n",
    "from langchain_core.runnables import RunnableLambda\n",
    "from langchain_experimental.tools import PythonREPLTool"
   ]
  },
  {
   "cell_type": "code",
   "execution_count": 27,
   "metadata": {},
   "outputs": [
    {
     "name": "stdout",
     "output_type": "stream",
     "text": [
      "[9, 23, 27, 38, 42, 43]\n",
      "\n"
     ]
    }
   ],
   "source": [
    "prompt = PromptTemplate.from_template(\n",
    "    '''\n",
    "You are Raymond Hetting, an expert python programmer, well versed in meta-programming and elegant, concise and short but well documented code. \n",
    "You follow the PEP8 style guide.\n",
    "Return only the code, no intro, no explanation, no chatty, no markdown, no code block, no nothing. Just the code.\n",
    " \n",
    "user:           \n",
    "{input}\n",
    "'''\n",
    ")\n",
    "\n",
    "def print_and_execute(code, debug=False):\n",
    "    if debug:\n",
    "        print(\"CODE:\")\n",
    "        print(code)\n",
    "        \n",
    "    return python_tool.invoke(code)\n",
    "\n",
    "llm = ChatOpenAI(model=\"gpt-4o\")\n",
    "\n",
    "chain = prompt | llm | StrOutputParser() | RunnableLambda(print_and_execute)\n",
    "\n",
    "print(chain.invoke('구구단 중 1단부터 2단까지 출력하는 파이썬 코드를 작성하시오.'))"
   ]
  },
  {
   "cell_type": "markdown",
   "metadata": {},
   "source": [
    "### **검색 API 도구**\n",
    "\n",
    "Tavily 검색 API를 활용하여 검색 기능을 구현하는 도구(1,000 API credits / month)\n",
    "\n",
    "`TavilySearchResults`와 `TavilyAnswer`  => Tools용 \n",
    "\n",
    "`TavilySearchAPIRetriever` => RAG 검색기용\n",
    "\n",
    "### TavilySearchResults\n",
    "\n",
    "**설명**\n",
    "- Tavily 검색 API를 쿼리하고 JSON 형식의 결과를 반환\n",
    "- 포괄적이고 정확하며 신뢰할 수 있는 결과에 최적화된 검색 엔진\n",
    "- 현재 이벤트에 대한 질문에 답변할 때 유용합니다.\n",
    "\n",
    "**주요 매개변수**\n",
    "- `max_results` (int): 반환할 최대 검색 결과 수 (기본값: 5)\n",
    "- `search_depth` (str): 검색 깊이 (\"basic\" 또는 \"advanced\")\n",
    "- `include_domains` (List[str]): 검색 결과에 포함할 도메인 목록\n",
    "- `exclude_domains` (List[str]): 검색 결과에서 제외할 도메인 목록\n",
    "- `include_answer` (bool): 원본 쿼리에 대한 짧은 답변 포함 여부\n",
    "- `include_raw_content` (bool): 각 사이트의 정제된 HTML 콘텐츠 포함 여부\n",
    "- `include_images` (bool): 쿼리 관련 이미지 목록 포함 여부\n",
    "\n",
    "**반환 값**\n",
    "- 검색 결과를 포함하는 JSON 형식의 문자열(url, content)\n",
    "\n",
    "\n",
    "[Tavily 참고](https://velog.io/@woody_ahn/Tavily-LLM%EC%9D%84-%EC%9C%84%ED%95%9C-%EC%B5%9C%EC%A0%81%ED%99%94%EB%90%9C-%EA%B2%80%EC%83%89-API)"
   ]
  },
  {
   "cell_type": "code",
   "execution_count": 32,
   "metadata": {},
   "outputs": [],
   "source": [
    "from langchain_community.tools.tavily_search import TavilySearchResults\n",
    "\n",
    "# Tools 생성\n",
    "tool = TavilySearchResults(\n",
    "    max_results=3,\n",
    "    include_answer=True,\n",
    "    include_raw_content=True,\n",
    "    # include_images = True,\n",
    "    # search_depth = 'basic' or 'advanced'\n",
    "    include_domains = ['google.com', 'naver.com'],  # 포함할 도메인\n",
    "    # exclude_domains = ['daum.net'],   # 제외할 도메인\n",
    ")"
   ]
  },
  {
   "cell_type": "code",
   "execution_count": 33,
   "metadata": {},
   "outputs": [
    {
     "data": {
      "text/plain": [
       "[{'title': '2차전지 관련주 한국에 어떤 기업이 있나요? - 네이버 지식iN',\n",
       "  'url': 'https://m.kin.naver.com/qna/dirs/40102/docs/336522725?d1id=4&qb=7JSo7JWE7J207JeQ7Iqk&enc=utf8&section=kin.qna&rank=108&search_sort=2&spq=0',\n",
       "  'content': '탈퇴한 사용자 답변\\n2019.09.24\\n메뉴 더보기\\n접기\\n더보기 2차전지 관련 회사들 리스트입니다\\u200b한국아트라스비엑스,디아이티,엠플러스,켐트로스,삼진엘앤디,애경유화,테이팩스,넥스트아이,영화테크,일진머티리얼즈,필옵틱스,에코프로비엠,에코프로,유에스티,포스코케미칼,삼성SDI,상아프론테크,후성,솔브레인,에이에프더블류,리켐,신흥에스이씨,피엔티,천보,브이원텍,쎄노텍,코윈테크,이노메트리,SK이노베이션,LG화학,코스모신소재,피앤이솔루션,명성티엔에스,씨아이에스,엘앤에프,코스모화학,대보마그네틱,디에이테크놀로지,엠케이전자,웰크론한텍,상신이디피, 파워로직스\\u200b회사별 간단하게 설명해논 링크 첨부합니다~모델S 사고 싶네요...\\u200b2차전지 관련주 정리http://bit.ly/YIDINFORMAITON1500명이 사용하는여의도정보통 텔레그램 아시죠????실시간 빠...storyandstock.blog.me\\u200b 더보기\\nUPDOWN21\\n댓글 [...] 더보기 \\u200b안녕하세요,\\u200b자동차 배터리나 기타 충전지는 2차 전지에 속하며 2차 전지 관련 기업 리스트를\\u200b소개시켜 드리겠습니다.\\u200b2차전지2차전지(Secondary battery)란 한 번 쓰고 버리는 배터리가 아닌 재충전이 가능한 배터리(rechargeable battery)를 의미함. 즉, 충전과 방전을 반복할 수 있는 전지임. 2차전지는 스마트폰, 태블릿PC, 노트북 등 모바일/휴대용 IT기기의 성장과 함께했으며, 최근에는 전기차/하이브리드카 등 중대형전지 시장으로 영역이 확대되고 있음.관련 기업기업요약LG화학(051910)LG그룹 계열의 국내 대표적인 화학기업으로 전지사업의 경우 휴대폰, 노트북 등 모바일 기기에 쓰이는 소형 리튬이온 전지 및 전기자동차에 쓰이는 리튬이온 전지를 생산하여 판매중.삼성SDI(006400)소형전지(휴대폰, 태블릿PC, 전기자전거 용), 자동차전지(하이브리드카, 전기차 용), ESS 등을 생산/판매하는 에너지솔루션 사업부문을 [...] 영위.SK이노베이션(096770)SK그룹 계열의 종합에너지기업. 배터리 더보기',\n",
       "  'score': 0.21432978,\n",
       "  'raw_content': '2차전지 관련주 한국에 어떤 기업이 있나요? : 네이버 지식iN\\nNAVER\\n지식iN\\neXpert\\n질문\\n\\n\\n홈\\nQ&A\\nCHOiCENEW\\n답변하기\\n지식기부\\n사람들NEW\\n명예의전당\\n룰렛\\n\\nQ&A\\n2차전지 관련주 한국에 어떤 기업이 있나요?\\nkudr****조회수 1만+2019.09.24.\\n2차전지 관련주 한국에 어떤 기업이 있나요?\\n테슬라모델3보면서 기대가 커지네요\\n#주식, 증권\\n댓글답변 알림 받기공유하기\\n메뉴 더보기\\n답변 3개\\n추천순\\n\\n답변을 입력해주세요답변\\n 상실의시대수호신 2019.09.24\\n메뉴 더보기\\n접기\\n더보기 \\u200b안녕하세요,\\u200b자동차 배터리나 기타 충전지는 2차 전지에 속하며 2차 전지 관련 기업 리스트를\\u200b소개시켜 드리겠습니다.\\u200b2차전지2차전지(Secondary battery)란 한 번 쓰고 버리는 배터리가 아닌 재충전이 가능한 배터리(rechargeable battery)를 의미함. 즉, 충전과 방전을 반복할 수 있는 전지임. 2차전지는 스마트폰, 태블릿PC, 노트북 등 모바일/휴대용 IT기기의 성장과 함께했으며, 최근에는 전기차/하이브리드카 등 중대형전지 시장으로 영역이 확대되고 있음.관련 기업기업요약LG화학(051910)LG그룹 계열의 국내 대표적인 화학기업으로 전지사업의 경우 휴대폰, 노트북 등 모바일 기기에 쓰이는 소형 리튬이온 전지 및 전기자동차에 쓰이는 리튬이온 전지를 생산하여 판매중.삼성SDI(006400)소형전지(휴대폰, 태블릿PC, 전기자전거 용), 자동차전지(하이브리드카, 전기차 용), ESS 등을 생산/판매하는 에너지솔루션 사업부문을 영위.SK이노베이션(096770)SK그룹 계열의 종합에너지기업. 배터리 더보기\\n  본문 더보기\\nUP1DOWN20\\n댓글1\\n채택된 답변\\n\\n탈퇴한 사용자 답변\\n2019.09.24\\n메뉴 더보기\\n접기\\n더보기 2차전지 관련 회사들 리스트입니다\\u200b한국아트라스비엑스,디아이티,엠플러스,켐트로스,삼진엘앤디,애경유화,테이팩스,넥스트아이,영화테크,일진머티리얼즈,필옵틱스,에코프로비엠,에코프로,유에스티,포스코케미칼,삼성SDI,상아프론테크,후성,솔브레인,에이에프더블류,리켐,신흥에스이씨,피엔티,천보,브이원텍,쎄노텍,코윈테크,이노메트리,SK이노베이션,LG화학,코스모신소재,피앤이솔루션,명성티엔에스,씨아이에스,엘앤에프,코스모화학,대보마그네틱,디에이테크놀로지,엠케이전자,웰크론한텍,상신이디피, 파워로직스\\u200b회사별 간단하게 설명해논 링크 첨부합니다~모델S 사고 싶네요...\\u200b2차전지 관련주 정리http://bit.ly/YIDINFORMAITON1500명이 사용하는여의도정보통 텔레그램 아시죠????실시간 빠...storyandstock.blog.me\\u200b 더보기\\nUPDOWN21\\n댓글\\n\\n탈퇴한 사용자 답변\\n2019.09.24\\n메뉴 더보기\\n안녕하세요 2차전지 관련주 한국에 어떤 기업이 있는지\\n알아보시는군요 저도 상당히 기대하고 있는데요 ~\\n2차전지 관련주 제대로 정리된곳 알려드릴게요 !\\n빠르게 확인해보시면 뭐가 있는지 쉽게 아실거에요 ㅎ\\nUPDOWN25\\n댓글\\n엑스퍼트 추천 상품\\n바로가기\\n머니셰프 조형근AFPK덜 내고 더 받는 은퇴설계 판매가30,000원30분\\n 접속중\\n정재기CFP직장인 자산관리 첫걸음 판매가20,000원20분\\n 접속중\\n함께 보면 좋은 키워드\\n\\n#폭싹속았수다\\n놓치기아쉬운QA\\n#찾아주세요\\n타로/운세 상담\\n\\n맨위로이동\\n로그인PC버전전체서비스\\n이용약관지식iN 서비스 운영정책개인정보처리방침권리보호센터지식iN 고객센터\\n© NAVER Corp.'},\n",
       " {'title': '2차전지 관련주 한국에 어떤 기업이 있나요? - 네이버 지식iN',\n",
       "  'url': 'https://m.kin.naver.com/qna/dirs/40102/docs/336522725?d1id=4&qb=TFPsl5DsvZTsl5DrhIjsp4Ag7KO87Iud&enc=utf8',\n",
       "  'content': '탈퇴한 사용자 답변\\n2019.09.24\\n메뉴 더보기\\n접기\\n더보기 2차전지 관련 회사들 리스트입니다\\u200b한국아트라스비엑스,디아이티,엠플러스,켐트로스,삼진엘앤디,애경유화,테이팩스,넥스트아이,영화테크,일진머티리얼즈,필옵틱스,에코프로비엠,에코프로,유에스티,포스코케미칼,삼성SDI,상아프론테크,후성,솔브레인,에이에프더블류,리켐,신흥에스이씨,피엔티,천보,브이원텍,쎄노텍,코윈테크,이노메트리,SK이노베이션,LG화학,코스모신소재,피앤이솔루션,명성티엔에스,씨아이에스,엘앤에프,코스모화학,대보마그네틱,디에이테크놀로지,엠케이전자,웰크론한텍,상신이디피, 파워로직스\\u200b회사별 간단하게 설명해논 링크 첨부합니다~모델S 사고 싶네요...\\u200b2차전지 관련주 정리http://bit.ly/YIDINFORMAITON1500명이 사용하는여의도정보통 텔레그램 아시죠????실시간 빠...storyandstock.blog.me\\u200b 더보기\\nUPDOWN21\\n댓글 [...] 더보기 \\u200b안녕하세요,\\u200b자동차 배터리나 기타 충전지는 2차 전지에 속하며 2차 전지 관련 기업 리스트를\\u200b소개시켜 드리겠습니다.\\u200b2차전지2차전지(Secondary battery)란 한 번 쓰고 버리는 배터리가 아닌 재충전이 가능한 배터리(rechargeable battery)를 의미함. 즉, 충전과 방전을 반복할 수 있는 전지임. 2차전지는 스마트폰, 태블릿PC, 노트북 등 모바일/휴대용 IT기기의 성장과 함께했으며, 최근에는 전기차/하이브리드카 등 중대형전지 시장으로 영역이 확대되고 있음.관련 기업기업요약LG화학(051910)LG그룹 계열의 국내 대표적인 화학기업으로 전지사업의 경우 휴대폰, 노트북 등 모바일 기기에 쓰이는 소형 리튬이온 전지 및 전기자동차에 쓰이는 리튬이온 전지를 생산하여 판매중.삼성SDI(006400)소형전지(휴대폰, 태블릿PC, 전기자전거 용), 자동차전지(하이브리드카, 전기차 용), ESS 등을 생산/판매하는 에너지솔루션 사업부문을 [...] 영위.SK이노베이션(096770)SK그룹 계열의 종합에너지기업. 배터리 더보기',\n",
       "  'score': 0.21432978,\n",
       "  'raw_content': '2차전지 관련주 한국에 어떤 기업이 있나요? : 네이버 지식iN\\nNAVER\\n지식iN\\neXpert\\n질문\\n\\n\\n홈\\nQ&A\\nCHOiCENEW\\n답변하기\\n지식기부\\n사람들NEW\\n명예의전당\\n룰렛\\n\\nQ&A\\n2차전지 관련주 한국에 어떤 기업이 있나요?\\nkudr****조회수 1만+2019.09.24.\\n2차전지 관련주 한국에 어떤 기업이 있나요?\\n테슬라모델3보면서 기대가 커지네요\\n#주식, 증권\\n댓글답변 알림 받기공유하기\\n메뉴 더보기\\n답변 3개\\n추천순\\n\\n답변을 입력해주세요답변\\n 상실의시대수호신 2019.09.24\\n메뉴 더보기\\n접기\\n더보기 \\u200b안녕하세요,\\u200b자동차 배터리나 기타 충전지는 2차 전지에 속하며 2차 전지 관련 기업 리스트를\\u200b소개시켜 드리겠습니다.\\u200b2차전지2차전지(Secondary battery)란 한 번 쓰고 버리는 배터리가 아닌 재충전이 가능한 배터리(rechargeable battery)를 의미함. 즉, 충전과 방전을 반복할 수 있는 전지임. 2차전지는 스마트폰, 태블릿PC, 노트북 등 모바일/휴대용 IT기기의 성장과 함께했으며, 최근에는 전기차/하이브리드카 등 중대형전지 시장으로 영역이 확대되고 있음.관련 기업기업요약LG화학(051910)LG그룹 계열의 국내 대표적인 화학기업으로 전지사업의 경우 휴대폰, 노트북 등 모바일 기기에 쓰이는 소형 리튬이온 전지 및 전기자동차에 쓰이는 리튬이온 전지를 생산하여 판매중.삼성SDI(006400)소형전지(휴대폰, 태블릿PC, 전기자전거 용), 자동차전지(하이브리드카, 전기차 용), ESS 등을 생산/판매하는 에너지솔루션 사업부문을 영위.SK이노베이션(096770)SK그룹 계열의 종합에너지기업. 배터리 더보기\\n  본문 더보기\\nUP1DOWN20\\n댓글1\\n채택된 답변\\n\\n탈퇴한 사용자 답변\\n2019.09.24\\n메뉴 더보기\\n접기\\n더보기 2차전지 관련 회사들 리스트입니다\\u200b한국아트라스비엑스,디아이티,엠플러스,켐트로스,삼진엘앤디,애경유화,테이팩스,넥스트아이,영화테크,일진머티리얼즈,필옵틱스,에코프로비엠,에코프로,유에스티,포스코케미칼,삼성SDI,상아프론테크,후성,솔브레인,에이에프더블류,리켐,신흥에스이씨,피엔티,천보,브이원텍,쎄노텍,코윈테크,이노메트리,SK이노베이션,LG화학,코스모신소재,피앤이솔루션,명성티엔에스,씨아이에스,엘앤에프,코스모화학,대보마그네틱,디에이테크놀로지,엠케이전자,웰크론한텍,상신이디피, 파워로직스\\u200b회사별 간단하게 설명해논 링크 첨부합니다~모델S 사고 싶네요...\\u200b2차전지 관련주 정리http://bit.ly/YIDINFORMAITON1500명이 사용하는여의도정보통 텔레그램 아시죠????실시간 빠...storyandstock.blog.me\\u200b 더보기\\nUPDOWN21\\n댓글\\n\\n탈퇴한 사용자 답변\\n2019.09.24\\n메뉴 더보기\\n안녕하세요 2차전지 관련주 한국에 어떤 기업이 있는지\\n알아보시는군요 저도 상당히 기대하고 있는데요 ~\\n2차전지 관련주 제대로 정리된곳 알려드릴게요 !\\n빠르게 확인해보시면 뭐가 있는지 쉽게 아실거에요 ㅎ\\nUPDOWN25\\n댓글\\n엑스퍼트 추천 상품\\n바로가기\\n이윤제CFP20대30대 자산관리/재무설계 남들은 어떻게 하고 있을까? 판매가21,000원30분\\n 접속중\\n오승진 AFPK금린이던 내가 똑똑한 금융인이 될 수 있었던 비결! 대면컨설팅★ 판매가30,000원30회\\n 접속중\\n함께 보면 좋은 키워드\\n\\n#폭싹속았수다\\n놓치기아쉬운QA\\n#찾아주세요\\n타로/운세 상담\\n\\n맨위로이동\\n로그인PC버전전체서비스\\n이용약관지식iN 서비스 운영정책개인정보처리방침권리보호센터지식iN 고객센터\\n© NAVER Corp.'},\n",
       " {'title': '에스티팜 \"RNA 원료기반 mRNA 의약품 수탁생산 도전\"',\n",
       "  'url': 'https://blog.naver.com/hitnews2018/223735746170',\n",
       "  'content': '에스티팜은 국내 유일의 mRNA CDMO로서 글로벌 업체들과 경쟁할 수 있는 특허 기술과 경험을 보유하고 있어, mRNA 백신 원료의 GMP 수탁생산이 가능합니다',\n",
       "  'score': 0.08735358}]"
      ]
     },
     "execution_count": 33,
     "metadata": {},
     "output_type": "execute_result"
    }
   ],
   "source": [
    "# 도구 실행\n",
    "tool.invoke({\"query\": \"에스티이노베이션이라는 회사에 대해서 알려주세요\"})"
   ]
  },
  {
   "cell_type": "markdown",
   "metadata": {},
   "source": [
    "### **Image 생성 도구 (DALL-E)**\n",
    "\n",
    "- `DallEAPIWrapper 클래스`: OpenAI의 DALL-E 이미지 생성기를 위한 래퍼(wrapper)\n",
    "\n",
    "- 이 도구를 사용하면 DALL-E API를 쉽게 통합하여 텍스트 기반 이미지 생성 기능을 구현할 수 있음\n",
    "\n",
    "- 다양한 설정 옵션을 통해 유연하고 강력한 이미지 생성 도구로 활용할 수 있음\n",
    "\n",
    "**주요 속성**\n",
    "\n",
    "- `model`: 사용할 DALL-E 모델 이름 (기본값: \"dall-e-2\", \"dall-e-3\")\n",
    "\n",
    "- `n`: 생성할 이미지 수 (기본값: 1)\n",
    "\n",
    "- `size`: 생성할 이미지 크기\n",
    "  - \"dall-e-2\": \"1024x1024\", \"512x512\", \"256x256\"\n",
    "  - \"dall-e-3\": \"1024x1024\", \"1792x1024\", \"1024x1792\"\n",
    "\n",
    "- `style`: 생성될 이미지의 스타일 (기본값: \"natural\", \"vivid\")\n",
    "\n",
    "- `quality`: 생성될 이미지의 품질 (기본값: \"standard\", \"hd\")\n",
    "\n",
    "- `max_retries`: 생성 시 최대 재시도 횟수\n",
    "\n",
    "**주요 기능**\n",
    "- DALL-E API를 사용하여 텍스트 설명에 기반한 이미지 생성"
   ]
  },
  {
   "cell_type": "code",
   "execution_count": 34,
   "metadata": {},
   "outputs": [
    {
     "name": "stdout",
     "output_type": "stream",
     "text": [
      "Create a neo-classical painting that humorously critiques modern society's obsession with smartphones. The scene should depict a diverse group of people from different backgrounds, all engrossed in their smartphones, ignoring their surroundings. The individuals should be dressed in elegant, classical attire reminiscent of the neo-classical era, blending historical fashion with contemporary technology. Include elements of classical architecture in the background, such as grand columns and intricate sculptures, to enhance the contrast between the old and the new. Use warm, rich colors and soft lighting to create a dramatic, contemplative atmosphere, while also incorporating subtle comedic elements, like exaggerated facial expressions of distraction and fascination with their devices.\n"
     ]
    }
   ],
   "source": [
    "from langchain_core.output_parsers import StrOutputParser\n",
    "from langchain_core.prompts import PromptTemplate\n",
    "from langchain_openai import ChatOpenAI\n",
    "\n",
    "# ChatOpenAI 모델 초기화\n",
    "llm = ChatOpenAI(model=\"gpt-4o-mini\", temperature=0.9, max_tokens=1000)\n",
    "\n",
    "# DALL-E 이미지 생성을 위한 프롬프트 템플릿 정의\n",
    "prompt = PromptTemplate.from_template(\n",
    "    \"Generate a detailed IMAGE GENERATION prompt for DALL-E based on the following description. \"\n",
    "    \"Return only the prompt, no intro, no explanation, no chatty, no markdown, no code block, no nothing. Just the prompt\"\n",
    "    \"Output should be less than 1000 characters. Write in English only.\"\n",
    "    \"Image Description: \\n{image_desc}\",\n",
    ")\n",
    "\n",
    "# 프롬프트, LLM, 출력 파서를 연결하는 체인 생성\n",
    "chain = prompt | llm | StrOutputParser()\n",
    "\n",
    "# 체인 실행\n",
    "image_prompt = chain.invoke(\n",
    "    {\"image_desc\": \"스마트폰을 바라보는 사람들을 풍자한 neo-classicism painting\"}\n",
    ")\n",
    "\n",
    "# 이미지 프롬프트 출력\n",
    "print(image_prompt)"
   ]
  },
  {
   "cell_type": "code",
   "execution_count": null,
   "metadata": {},
   "outputs": [],
   "source": [
    "# # DALL-E API 래퍼 가져오기\n",
    "# from langchain_community.utilities.dalle_image_generator import DallEAPIWrapper\n",
    "# from IPython.display import Image\n",
    "# import os\n",
    "\n",
    "# # DALL-E API 래퍼 초기화\n",
    "# # model: 사용할 DALL-E 모델 버전\n",
    "# # size: 생성할 이미지 크기\n",
    "# # quality: 이미지 품질\n",
    "# # n: 생성할 이미지 수\n",
    "# dalle = DallEAPIWrapper(\n",
    "#     model=\"dall-e-3\",\n",
    "#     size=\"1024x1024\",\n",
    "#     quality=\"standard\",\n",
    "#     n=1,\n",
    "# )\n",
    "\n",
    "# # 질문\n",
    "# query = \"스마트폰을 바라보는 사람들을 풍자한 neo-classicism painting\"\n",
    "\n",
    "# # 이미지 생성 및 URL 받기\n",
    "# # chain.invoke()를 사용하여 이미지 설명을 DALL-E 프롬프트로 변환\n",
    "# # dalle.run()을 사용하여 실제 이미지 생성\n",
    "# image_url = dalle.run(chain.invoke({\"image_desc\": query}))\n",
    "\n",
    "# # 생성된 이미지를 표시합니다.\n",
    "# Image(url=image_url, width=500)"
   ]
  },
  {
   "cell_type": "markdown",
   "metadata": {},
   "source": [
    "### **사용자 정의 도구(Custom Tool)**\n",
    "\n",
    "LangChain 에서 제공하는 빌트인 도구 외에도 사용자가 직접 도구를 정의하여 사용할 수 있음\n",
    "\n",
    "이를 위해서는 `langchain.tools` 모듈에서 제공하는 `tool` 데코레이터를 사용하여 함수를 도구로 변환함\n",
    "\n",
    "### **@tool 데코레이터**\n",
    "\n",
    "이 데코레이터는 함수를 도구로 변환하는 기능을 제공함, 다양한 옵션을 통해 도구의 동작을 커스터마이즈할 수 있음\n",
    "\n",
    "**사용 방법**\n",
    "1. 함수 위에 `@tool` 데코레이터 적용\n",
    "2. 필요에 따라 데코레이터 매개변수 설정\n",
    "\n",
    "이 데코레이터를 사용하면 일반 Python 함수를 강력한 도구로 쉽게 변환할 수 있으며, 자동화된 문서화와 유연한 인터페이스 생성이 가능함"
   ]
  },
  {
   "cell_type": "code",
   "execution_count": null,
   "metadata": {},
   "outputs": [],
   "source": [
    "# 두개 같음\n",
    "from langchain.tools import tool\n",
    "from langchain.agents import tool\n",
    "\n",
    "\n",
    "\n",
    "# 데코레이터를 사용하여 함수를 도구로 변환\n",
    "@tool\n",
    "def add_numbers(a: int, b: int) -> int:\n",
    "    \"\"\"Add two numbers\"\"\"\n",
    "    return a + b\n",
    "\n",
    "\n",
    "@tool\n",
    "def multiply_numbers(a: int, b: int) -> int:\n",
    "    \"\"\"Multiply two numbers\"\"\"\n",
    "    return a * b"
   ]
  },
  {
   "cell_type": "code",
   "execution_count": 36,
   "metadata": {},
   "outputs": [
    {
     "data": {
      "text/plain": [
       "7"
      ]
     },
     "execution_count": 36,
     "metadata": {},
     "output_type": "execute_result"
    }
   ],
   "source": [
    "# 도구 실행\n",
    "add_numbers.invoke({\"a\": 3, \"b\": 4})"
   ]
  },
  {
   "cell_type": "code",
   "execution_count": 37,
   "metadata": {},
   "outputs": [
    {
     "data": {
      "text/plain": [
       "12"
      ]
     },
     "execution_count": 37,
     "metadata": {},
     "output_type": "execute_result"
    }
   ],
   "source": [
    "# 도구 실행\n",
    "multiply_numbers.invoke({\"a\": 3, \"b\": 4})"
   ]
  },
  {
   "cell_type": "code",
   "execution_count": 40,
   "metadata": {},
   "outputs": [
    {
     "data": {
      "text/plain": [
       "[{'url': 'https://news.google.com/rss/articles/CBMiYEFVX3lxTE1sUFFzR3UzSFhzR3FZVk1FenZvLWlNM0FvQWIxOUJ0b3pnOFZDZlozaUltT0pMakluTS1Sem9CRXN2MXhJYmlGUUdvY0xmaVJXZFhESzBmMmx6SFY5MjJTRtIBeEFVX3lxTFBKZUxTYWREUDdRQm9kX184UHpDbnhvajhsdDhNSWp4ZFdERm5pb1JIN0hvSkZFZUdjZnllRy0xdGRjZ2ZDbVpueWQ4c3J5RW9qWHBlSXI5TXRFQU4wSlp0UGJwMUtHU0pmRWU0cllsamxBcUpiZ0ttSw?oc=5',\n",
       "  'content': '제조업 \\'빨간불\\'…\"AI로 고용 유지하고 기술 유출 방지해야\" - 뉴시스'},\n",
       " {'url': 'https://news.google.com/rss/articles/CBMiTkFVX3lxTE5fNHVxb3lPWVVmdjRsd2s3ZHZqS3Y2VktRT0JPTF9zLUdIajg5cm5yOHUzSTh0VVNoYjR3RzhJRk9mVjJmTm9QcHVBdWVxUQ?oc=5',\n",
       "  'content': '김동욱 서울시의원, AI 기술의 윤리적 활용 조례 발의 - 전자신문'},\n",
       " {'url': 'https://news.google.com/rss/articles/CBMiU0FVX3lxTFBjRnRQdm5OdWo2b2xtcTZqNzRGem1SZGJybi1UR2poMTJsaVMxbFNsclZ4WjBIWmhIQWYybDhQVE1MQWFHUzhtWjVsSlZ6emVfR3F3?oc=5',\n",
       "  'content': 'AI 기술이 진짜 흘러 들어가야 할 곳 - 네이트 뉴스'}]"
      ]
     },
     "execution_count": 40,
     "metadata": {},
     "output_type": "execute_result"
    }
   ],
   "source": [
    "from langchain_teddynote.tools import GoogleNews\n",
    "\n",
    "news_tool = GoogleNews()\n",
    "\n",
    "news_tool.search_latest(k=5)\n",
    "\n",
    "news_tool.search_by_keyword(\"AI 기술\", k=3)"
   ]
  },
  {
   "cell_type": "code",
   "execution_count": 44,
   "metadata": {},
   "outputs": [
    {
     "data": {
      "text/plain": [
       "[{'url': 'https://news.google.com/rss/articles/CBMibkFVX3lxTE1qMC1EYjRZOEpMNVBEVVpSNm1BX3A4a3FrdmEyOTdDNWdjMGR1ZEgzWlpHZnRFZ1pSUXdKa3JnOXBQZU5qU3dKS3Q5VUNwLVZxRFZmbG1SZzJVSUoyM2lJbnZRbzhYYUJJcnFHWmp3?oc=5',\n",
       "  'content': '랭체인 LangChain 이란 무엇인가? | 인사이트리포트 | 삼성SDS - Samsung SDS'},\n",
       " {'url': 'https://news.google.com/rss/articles/CBMiXEFVX3lxTE1FejJlRDF0QXZwME9YMHhGZkxEOXpKS045ZWhISFRYRHJWNDIyRlM4bk5MUXNTanA4T2JtWVF1aXhTcE5ReVFaR3M1ZDVJemtteE9UMVdRTkxCRk9u?oc=5',\n",
       "  'content': 'LangChain이란 무엇인가요? - IBM'},\n",
       " {'url': 'https://news.google.com/rss/articles/CBMiSkFVX3lxTFB5Z3Y4SldkZm9maVdzQUhSTFBaTXZHUV8zbXRQem1mUUdmQkQ2VUhZZU1fTmVUc01WNldlMnl2X1RCVEdQUUVSYnB3?oc=5',\n",
       "  'content': '20화 19. RAG(검색증강생성) 지원 - 브런치'},\n",
       " {'url': 'https://news.google.com/rss/articles/CBMilwFBVV95cUxNUklRWmZNZ3Y0ektzRm9scVR1UmI0Q0Z6NFh0MWxBYTlsOEFDdTBzYUY4UERva19HSnBLdElYVHBRbjV6NU52MDJtQ0xZOVlXb2VCak5VSVRrZ1FRMFZTaUNqUTBPMnN6cXVlWi1nUWNWNXZrOXRzWjVrZThQYXZBQjV6MG1EMmdxR2V3NHhUWW84ZDU3YWFB?oc=5',\n",
       "  'content': 'NVIDIA와 LangChain이 진행하는 생성형 AI 에이전트 개발자 컨테스트 - NVIDIA Daily News Report'},\n",
       " {'url': 'https://news.google.com/rss/articles/CBMiakFVX3lxTE5SRG5pSjVLS0ZfZGZHQjN4Yk5jX0VqLWFCWFpDajdSRzhWTXNMZndzV09NWnkwMmlpaVRZWU14SjljR3BxOTVfRUxuMmwtbmhCTHhSMDJsZjU5MUVxcGg3NUN4ZlJoSHU0Q3fSAW5BVV95cUxNRG9weC15VUx4ZERDYmFZOF9DRExwWlRxLUFXRFJPNEhrSGpLNExkNFJDMng1YVoyY3hVcm82VW0wVW9tc1lWVDN0RjFEVUQ0RGlHWGQ5WWluMUNwRzQyQ3pCZTIwS0wtRlpGVGVFZw?oc=5',\n",
       "  'content': '주목해야 할 5대 기술 전망 “AI·랭체인·클라우드 전문가·SLM·데이터 전문가” - GTT KOREA'}]"
      ]
     },
     "execution_count": 44,
     "metadata": {},
     "output_type": "execute_result"
    }
   ],
   "source": [
    "from langchain_teddynote.tools import GoogleNews\n",
    "from langchain.tools import tool\n",
    "from typing import List, Dict\n",
    "\n",
    "\n",
    "# 키워드로 뉴스 검색하는 도구 생성\n",
    "@tool\n",
    "def search_keyword(query: str) -> List[Dict[str, str]]:\n",
    "    \"\"\"Look up news by keyword\"\"\"\n",
    "    # print(query)\n",
    "    news_tool = GoogleNews()\n",
    "    return news_tool.search_by_keyword(query, k=5)\n",
    "\n",
    "search_keyword.invoke({\"query\": \"LangChain AI\"})"
   ]
  }
 ],
 "metadata": {
  "kernelspec": {
   "display_name": "nlp",
   "language": "python",
   "name": "python3"
  },
  "language_info": {
   "codemirror_mode": {
    "name": "ipython",
    "version": 3
   },
   "file_extension": ".py",
   "mimetype": "text/x-python",
   "name": "python",
   "nbconvert_exporter": "python",
   "pygments_lexer": "ipython3",
   "version": "3.11.11"
  }
 },
 "nbformat": 4,
 "nbformat_minor": 2
}
