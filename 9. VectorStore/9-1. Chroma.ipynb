{
 "cells": [
  {
   "cell_type": "markdown",
   "metadata": {},
   "source": [
    "## **Chroma**\n",
    "\n",
    "\n",
    "### **Vector Store란?**\n",
    "RAG( Retrieval‑Augmented Generation ) 파이프라인에서 **문서 청크→벡터 인덱싱→유사도 검색** 단계에 쓰임\n",
    "\n",
    "**생성된 임베딩 벡터들을 효율적으로 저장하고 관리함**\n",
    "\n",
    "| 이름 | 오픈소스/상용 | 배포 형태 | 언어 지원 | 특징 | 추천 사용 사례 |\n",
    "|-------|--------------|-----------|-----------|-------|----------------|\n",
    "| **FAISS** | OSS (Meta) | 라이브러리 (Python) | Python | 매우 빠른 로컬 검색, GPU 지원 | 단일 머신·빠른 PoC |\n",
    "| **Chroma** | OSS | Embeddable (Python) | Python | 간단한 API, SQLite 백엔드 | 로컬 개발·실험 |\n",
    "| **Qdrant** | OSS | Standalone 서버 | Python, Go, REST | 실시간 CRUD, 필터링, 하이퍼파라미터 튜닝 | 프로덕션 소규모 |\n",
    "| **Milvus** | OSS | Standalone 클러스터 | Python, Go, REST | 대규모 분산, 고성능, GPU 가속 | 대용량·엔터프라이즈 |\n",
    "| **Weaviate** | OSS | Standalone 클러스터 | Python, GraphQL, REST | 내장 NLP 모듈(객체 검색), 스키마 지원 | 메타데이터 검색 중심 |\n",
    "| **Pinecone** | SaaS | Fully‑managed | REST, Python | 서버리스, 자동 스케일링, 모니터링 | 빠른 배포, 최소 운영 |\n",
    "| **Zilliz Cloud** | SaaS | Managed Milvus | REST, Python | Milvus 기반, 클라우드 관리형 | Milvus 성능 + 관리 편의성 |\n",
    "| **RedisVector** | OSS/Enterprise | Redis 모듈 | Redis CLI, Python | 단순 벡터 검색, Redis 에코시스템 | 기존 Redis 사용자 |\n",
    "| **Elasticsearch** | OSS/Enterprise | Standalone | REST | 텍스트+벡터 하이브리드 검색 | 로그 + 벡터 동시 관리 |\n",
    "\n",
    "---\n",
    "\n",
    "### 🔍 선택 가이드\n",
    "\n",
    "| 조건 | 추천 솔루션 |\n",
    "|--------|------------|\n",
    "| **빠른 로컬 PoC** | FAISS, Chroma |\n",
    "| **경량 프로덕션** | Qdrant, RedisVector |\n",
    "| **대규모 분산** | Milvus, Weaviate |\n",
    "| **운영 부담 최소화** | Pinecone, Zilliz Cloud |\n",
    "| **메타데이터 복합 쿼리** | Weaviate, Elasticsearch |\n",
    "\n",
    "---\n",
    "\n",
    "### **참고문서**\n",
    "\n",
    "[LangChain 지원](https://python.langchain.com/v0.2/docs/integrations/vectorstores/)"
   ]
  },
  {
   "cell_type": "code",
   "execution_count": 1,
   "metadata": {},
   "outputs": [
    {
     "data": {
      "text/plain": [
       "(4, 7)"
      ]
     },
     "execution_count": 1,
     "metadata": {},
     "output_type": "execute_result"
    }
   ],
   "source": [
    "from langchain_chroma import Chroma\n",
    "from langchain_community.document_loaders import TextLoader\n",
    "from langchain_text_splitters import RecursiveCharacterTextSplitter\n",
    "from langchain_openai import OpenAIEmbeddings\n",
    "\n",
    "# Text splitter 정의\n",
    "text_splitter = RecursiveCharacterTextSplitter(chunk_size=1000, chunk_overlap=0)\n",
    "\n",
    "# Document loader 정의\n",
    "loader1 = TextLoader(\"data/finance-keywords.txt\")\n",
    "loader2 = TextLoader(\"data/nlp-keywords.txt\")\n",
    "\n",
    "# 문서 분할 \n",
    "split_doc1 = loader1.load_and_split(text_splitter)\n",
    "split_doc2 = loader2.load_and_split(text_splitter)\n",
    "\n",
    "# 문서 개수 확인\n",
    "len(split_doc1), len(split_doc2)"
   ]
  },
  {
   "cell_type": "markdown",
   "metadata": {},
   "source": [
    "## **`from_documents` (Chroma) — 벡터 저장소 생성**\n",
    "\n",
    "### **설명**  \n",
    "`from_documents` 메서드는 Document 리스트로부터 Chroma 벡터 저장소를 생성함.\n",
    "\n",
    "### **주요 파라미터**\n",
    "\n",
    "|이름|타입|설명|기본값|\n",
    "|---|---|---|---|\n",
    "|documents|List[Document]|추가할 문서 리스트|—|\n",
    "|embedding|Embeddings \\| None|임베딩 함수|None|\n",
    "|ids|List[str] \\| None|문서별 고유 ID|None|\n",
    "|collection_name|str|컬렉션 이름|—|\n",
    "|persist_directory|str \\| None|저장 디렉토리 (지정 시 디스크에 저장, 미지정 시 메모리)|None|\n",
    "|client_settings|chromadb.config.Settings \\| None|Chroma 클라이언트 설정|None|\n",
    "|client|chromadb.Client \\| None|기존 Chroma 클라이언트 인스턴스|None|\n",
    "|collection_metadata|Dict \\| None|컬렉션 메타데이터|None|\n",
    "\n",
    "### **동작**\n",
    "\n",
    "1. 내부적으로 `from_texts` 호출  \n",
    "2. Document.page_content → 텍스트, metadata → 메타데이터로 사용  \n",
    "3. `persist_directory` 지정 시 디스크에 영구 저장  \n",
    "\n",
    "### **반환값**\n",
    "\n",
    "- **Chroma** 인스턴스 (생성된 벡터 저장소)\n",
    "\n",
    "- 생성된 Chroma 벡터 저장소 인스턴스 생성시 documents 매개변수로 Document 리스트를 전달\n",
    "- embedding 에 활용할 임베딩 모델을 지정\n",
    "- namespace 의 역할을 하는 collection_name 을 지정\n"
   ]
  },
  {
   "cell_type": "code",
   "execution_count": 2,
   "metadata": {},
   "outputs": [],
   "source": [
    "# 임베딩 모델\n",
    "embeddings = OpenAIEmbeddings(model = 'text-embedding-3-small')\n",
    " \n",
    "# 저장경로\n",
    "db_path = './db/'\n",
    "\n",
    "# DB 생성\n",
    "db = Chroma.from_documents(\n",
    "    \n",
    "    documents = split_doc1,\n",
    "    embedding = embeddings,\n",
    "    persist_directory = db_path,   # 지정시 파일로 저장\n",
    "    collection_name = 'my_db'\n",
    "    \n",
    ") "
   ]
  },
  {
   "cell_type": "code",
   "execution_count": 3,
   "metadata": {},
   "outputs": [
    {
     "data": {
      "text/plain": [
       "'S&P 500\\n\\n정의: S&P 500은 미국 주식 시장에 상장된 500개의 대형 기업의 주가를 종합한 지수입니다. 이는 미국 경제와 주식 시장의 전반적인 상황을 나타내는 주요 지표로 사용됩니다.\\n예시: 애플, 마이크로소프트, 아마존과 같은 대형 기술 기업들이 S&P 500에 포함되어 있습니다.\\n연관키워드: 주식 시장, 지수, 대형주\\n\\nMarket Capitalization\\n\\n정의: 시가총액은 회사의 발행 주식 수와 현재 주가를 곱한 값으로, 회사의 전체 가치를 나타냅니다.\\n예시: 애플의 시가총액이 2조 달러를 넘어서면서 S&P 50'"
      ]
     },
     "execution_count": 3,
     "metadata": {},
     "output_type": "execute_result"
    }
   ],
   "source": [
    "# 문서 로드 \n",
    "persist_db = Chroma(\n",
    "    persist_directory = db_path,\n",
    "    embedding_function = embeddings,\n",
    "    collection_name = 'my_db'\n",
    ")\n",
    "\n",
    "# 저장된 데이터 확인\n",
    "persist_db.get()['documents'][0][:300]"
   ]
  },
  {
   "cell_type": "markdown",
   "metadata": {},
   "source": [
    "## **`from_texts` (Chroma) — 벡터 저장소 생성**\n",
    "\n",
    "### **설명**  \n",
    "`from_texts` 메서드는 문자열 리스트로부터 Chroma 벡터 저장소를 생성함.\n",
    "\n",
    "### **주요 파라미터**\n",
    "\n",
    "|이름|타입|설명|기본값|\n",
    "|---|---|---|---|\n",
    "|texts|List[str]|추가할 텍스트 리스트|—|\n",
    "|embedding|Embeddings \\| None|임베딩 함수|None|\n",
    "|metadatas|List[dict] \\| None|텍스트별 메타데이터|None|\n",
    "|ids|List[str] \\| None|문서 ID (미제공 시 UUID 자동 생성)|None|\n",
    "|collection_name|str|컬렉션 이름|`_LANGCHAIN_DEFAULT_COLLECTION_NAME`|\n",
    "|persist_directory|str \\| None|저장 디렉토리 (지정 시 디스크, 미지정 시 메모리)|None|\n",
    "|client_settings|chromadb.config.Settings \\| None|Chroma 클라이언트 설정|None|\n",
    "|client|chromadb.Client \\| None|기존 클라이언트 인스턴스|None|\n",
    "|collection_metadata|Dict \\| None|컬렉션 메타정보|None|\n",
    "\n",
    "### **동작**\n",
    "\n",
    "- `persist_directory` 지정 시 디스크에 영구 저장  \n",
    "- `ids` 미제공 시 UUID 자동 생성  "
   ]
  },
  {
   "cell_type": "code",
   "execution_count": 9,
   "metadata": {},
   "outputs": [
    {
     "data": {
      "text/plain": [
       "{'ids': ['c507a198-75d3-476f-8d79-9426124ee5c0',\n",
       "  '64ecac3d-17ce-459c-b62c-fd943b4b97b7',\n",
       "  'b707cdb2-3805-4cd2-8f9e-753661abe270',\n",
       "  '78cc0a6b-ef37-4496-83d4-333d0a85b697',\n",
       "  '46c037ac-a8b9-49cf-9edf-d76e56d5e621',\n",
       "  '88c9f320-4b5a-40a7-a626-ffaafaed3b53',\n",
       "  '1d620c5d-76ea-49ee-bf89-eef0888d0593',\n",
       "  'ed429c9b-1878-48e5-9ad9-c112bb5db1b3',\n",
       "  '11a6207b-69c5-4103-b6c0-a4a3ad8aaaad',\n",
       "  'b5eca084-3961-4e30-a1fa-87d38d0b8f6d',\n",
       "  'fe53ce35-23ee-4876-8fc4-34a611cd4eff',\n",
       "  '4a9a8d03-7e93-4cfa-8902-14279f38d89a'],\n",
       " 'embeddings': None,\n",
       " 'documents': ['안녕하세요',\n",
       "  '집에 가고싶어요',\n",
       "  '안녕하세요',\n",
       "  '집에 가고싶어요',\n",
       "  '안녕하세요',\n",
       "  '집에 가고싶어요',\n",
       "  '안녕하세요',\n",
       "  '집에 가고싶어요',\n",
       "  '안녕하세요',\n",
       "  '집에 가고싶어요',\n",
       "  '안녕하세요',\n",
       "  '집에 가고싶어요'],\n",
       " 'uris': None,\n",
       " 'data': None,\n",
       " 'metadatas': [None,\n",
       "  None,\n",
       "  None,\n",
       "  None,\n",
       "  None,\n",
       "  None,\n",
       "  None,\n",
       "  None,\n",
       "  None,\n",
       "  None,\n",
       "  None,\n",
       "  None],\n",
       " 'included': [<IncludeEnum.documents: 'documents'>,\n",
       "  <IncludeEnum.metadatas: 'metadatas'>]}"
      ]
     },
     "execution_count": 9,
     "metadata": {},
     "output_type": "execute_result"
    }
   ],
   "source": [
    "# 텍스트 문자열을 DB에 저장 \n",
    "db2 = Chroma.from_texts(\n",
    "    \n",
    "    ['안녕하세요', '집에 가고싶어요'],\n",
    "    embedding = embeddings,\n",
    "    persist_directory = db_path,   # 지정시 파일로 저장\n",
    "    collection_name = 'my_db2'\n",
    "    \n",
    ")\n",
    "\n",
    "# 문서 로드 \n",
    "persist_db2 = Chroma(\n",
    "    persist_directory = db_path,\n",
    "    embedding_function = embeddings,\n",
    "    collection_name = 'my_db2'\n",
    ")\n",
    "\n",
    "\n",
    "# 저장된 데이터 확인\n",
    "persist_db2.get()"
   ]
  },
  {
   "cell_type": "markdown",
   "metadata": {},
   "source": [
    "## **Chroma — 유사도 검색**\n",
    "\n",
    "### **설명**  \n",
    "주어진 쿼리와 가장 유사한 문서를 반환함.\n",
    "\n",
    "### **주요 파라미터**\n",
    "\n",
    "|이름|타입|설명|기본값|\n",
    "|---|---|---|---|\n",
    "|query|str|검색할 쿼리 텍스트|—|\n",
    "|k|int|반환할 결과 개수|4|\n",
    "|filter|Dict[str,str] \\| None|메타데이터 필터링|None|\n",
    "\n",
    "### **특징**\n",
    "\n",
    "- `k` 조정으로 반환 개수 변경 가능  \n",
    "- `filter` 로 특정 메타데이터 조건 적용  \n",
    "- **점수 없이 문서만 반환**  \n",
    "  - 점수 정보 필요 시 → `similarity_search_with_score`"
   ]
  },
  {
   "cell_type": "code",
   "execution_count": 12,
   "metadata": {},
   "outputs": [
    {
     "data": {
      "text/plain": [
       "[Document(id='0a7c4fa4-3c7d-42f8-83ab-f95dd1313d02', metadata={'source': 'data/finance-keywords.txt'}, page_content='정의: 경기순환주는 경제 상황에 따라 실적이 크게 변동하는 기업의 주식을 말합니다.\\n예시: 포드, 제너럴 모터스와 같은 자동차 기업들은 S&P 500에 포함된 대표적인 경기순환주입니다.\\n연관키워드: 경제 사이클, 섹터 분석, 투자 타이밍\\n\\nDefensive Stocks\\n\\n정의: 방어주는 경기 변동에 상관없이 안정적인 실적을 보이는 기업의 주식을 의미합니다.\\n예시: 프록터앤갬블, 존슨앤존슨과 같은 생활필수품 기업들은 S&P 500 내 대표적인 방어주로 꼽힙니다.\\n연관키워드: 안정적 수익, 저변동성, 리스크 관리')]"
      ]
     },
     "execution_count": 12,
     "metadata": {},
     "output_type": "execute_result"
    }
   ],
   "source": [
    "# k=1 : 가장 유사한 문서 1개 반환\n",
    "db.similarity_search('경기순환주에 대해 알려줘', k=1)  "
   ]
  },
  {
   "cell_type": "code",
   "execution_count": 15,
   "metadata": {},
   "outputs": [
    {
     "data": {
      "text/plain": [
       "[Document(id='0a7c4fa4-3c7d-42f8-83ab-f95dd1313d02', metadata={'source': 'data/finance-keywords.txt'}, page_content='정의: 경기순환주는 경제 상황에 따라 실적이 크게 변동하는 기업의 주식을 말합니다.\\n예시: 포드, 제너럴 모터스와 같은 자동차 기업들은 S&P 500에 포함된 대표적인 경기순환주입니다.\\n연관키워드: 경제 사이클, 섹터 분석, 투자 타이밍\\n\\nDefensive Stocks\\n\\n정의: 방어주는 경기 변동에 상관없이 안정적인 실적을 보이는 기업의 주식을 의미합니다.\\n예시: 프록터앤갬블, 존슨앤존슨과 같은 생활필수품 기업들은 S&P 500 내 대표적인 방어주로 꼽힙니다.\\n연관키워드: 안정적 수익, 저변동성, 리스크 관리'),\n",
       " Document(id='3d437797-c278-4e8e-8377-bb9ce6f34d1c', metadata={'source': 'data/finance-keywords.txt'}, page_content='정의: 시장 변동성은 주식 시장의 가격 변동 폭을 나타내는 지표입니다.\\n예시: VIX 지수(변동성 지수)가 상승하면 S&P 500 지수의 변동성이 높아질 것으로 예상됩니다.\\n연관키워드: 리스크 관리, 투자 심리, 헤지 전략\\n\\nEquity Research\\n\\n정의: 주식 리서치는 기업의 재무 상태, 사업 모델, 경쟁력 등을 분석하여 투자 의사 결정을 돕는 활동입니다.\\n예시: 골드만삭스의 애널리스트들이 S&P 500 기업들에 대한 분기별 실적 전망을 발표했습니다.\\n연관키워드: 투자 분석, 기업 가치평가, 시장 전망\\n\\nCorporate Governance\\n\\n정의: 기업 지배구조는 기업의 경영과 통제에 관한 시스템과 프로세스를 의미합니다.\\n예시: S&P 500 기업들 중 이사회의 다양성을 높이는 기업들이 증가하고 있습니다.\\n연관키워드: 주주 권리, ESG, 기업 윤리\\n\\nMergers and Acquisitions (M&A)\\n\\n정의: 인수합병은 기업들이 다른 기업을 사거나 합치는 과정을 말합니다.\\n예시: 마이크로소프트가 액티비전 블리자드를 인수하면서 S&P 500 내 게임 산업의 판도가 변화했습니다.\\n연관키워드: 기업 전략, 시너지 효과, 기업 가치\\n\\nESG (Environmental, Social, and Governance)\\n\\n정의: ESG는 기업의 환경, 사회, 지배구조 측면을 고려하는 투자 접근 방식입니다.\\n예시: S&P 500 ESG 지수는 우수한 ESG 성과를 보이는 기업들로 구성된 지수입니다.\\n연관키워드: 지속가능 투자, 기업의 사회적 책임, 윤리 경영\\n\\nStock Buyback\\n\\n정의: 자사주 매입은 기업이 자사의 주식을 시장에서 다시 사들이는 것을 말합니다.\\n예시: 애플은 S&P 500 기업 중 가장 큰 규모의 자사주 매입 프로그램을 운영하고 있습니다.\\n연관키워드: 주주 가치, 자본 관리, 주가 부양\\n\\nCyclical Stocks')]"
      ]
     },
     "execution_count": 15,
     "metadata": {},
     "output_type": "execute_result"
    }
   ],
   "source": [
    "# filter 에 metadata 정보를 활용하여 검색 결과를 필터링\n",
    "db.similarity_search(\n",
    "    \"경기순환주 알려줘\", filter={\"source\": \"data/finance-keywords.txt\"}, k=2\n",
    ")"
   ]
  },
  {
   "cell_type": "code",
   "execution_count": 16,
   "metadata": {},
   "outputs": [
    {
     "data": {
      "text/plain": [
       "[]"
      ]
     },
     "execution_count": 16,
     "metadata": {},
     "output_type": "execute_result"
    }
   ],
   "source": [
    "# filter 사용\n",
    "db.similarity_search(\n",
    "    \"TF IDF 에 대하여 알려줘\", filter={\"source\": \"data/nlp-keywords.txt\"}, k=2\n",
    ")\n",
    "\n",
    "# db에 nlp-keywords.txt를 추가하지 않아 빈 리스트 반환"
   ]
  },
  {
   "cell_type": "markdown",
   "metadata": {},
   "source": [
    "## **`add_documents` (Chroma) — 벡터 저장소에 문서 추가/업데이트**\n",
    "\n",
    "### **설명**  \n",
    "기존 컬렉션에 Document 객체 리스트를 추가하거나 업데이트함.\n",
    "\n",
    "### **주요 파라미터**\n",
    "\n",
    "|이름|타입|설명|\n",
    "|---|---|---|\n",
    "|documents|List[Document]|추가할 Document 리스트|\n",
    "|ids|List[str] (선택)|문서별 ID (제공 시 Document.id 우선)|\n",
    "\n",
    "### **동작 규칙**\n",
    "\n",
    "- Document.page_content → 텍스트, metadata → 메타데이터로 사용  \n",
    "- `ids` 제공 시 해당 ID 사용  \n",
    "- Document에 `id`가 있고 `ids` 미제공 시 Document.id 사용  \n",
    "- `ids` 길이 ≠ documents 길이 → `ValueError`"
   ]
  },
  {
   "cell_type": "code",
   "execution_count": 20,
   "metadata": {},
   "outputs": [
    {
     "data": {
      "text/plain": [
       "{'ids': ['1'],\n",
       " 'embeddings': None,\n",
       " 'documents': ['새로운 문서 추가'],\n",
       " 'uris': None,\n",
       " 'data': None,\n",
       " 'metadatas': [{'source': 'data/my_text.txt'}],\n",
       " 'included': [<IncludeEnum.documents: 'documents'>,\n",
       "  <IncludeEnum.metadatas: 'metadatas'>]}"
      ]
     },
     "execution_count": 20,
     "metadata": {},
     "output_type": "execute_result"
    }
   ],
   "source": [
    "from langchain_core.documents import Document\n",
    "\n",
    "db.add_documents(\n",
    "    [\n",
    "        Document(\n",
    "            page_content = '새로운 문서 추가',\n",
    "            metadata = {'source': 'data/my_text.txt'},\n",
    "            id = \"1\"\n",
    "            \n",
    "        )\n",
    "    ]\n",
    ")\n",
    "\n",
    "# id로 문서 조회\n",
    "db.get('1')"
   ]
  },
  {
   "cell_type": "markdown",
   "metadata": {},
   "source": [
    "## **`add_texts` (Chroma) — 텍스트 임베딩 후 추가**\n",
    "\n",
    "### **설명**  \n",
    "문자열 리스트를 임베딩해 Chroma 컬렉션에 추가함.\n",
    "\n",
    "### **주요 파라미터**\n",
    "\n",
    "|이름|타입|설명|기본값|\n",
    "|---|---|---|---|\n",
    "|texts|Iterable[str]|추가할 텍스트 리스트|—|\n",
    "|metadatas|List[dict] \\| None|텍스트별 메타데이터|None|\n",
    "|ids|List[str] \\| None|문서 ID (미제공 시 UUID 자동 생성)|None|\n",
    "\n",
    "### **동작**\n",
    "\n",
    "1. `ids` 미제공 → UUID 자동 생성  \n",
    "2. 임베딩 함수로 텍스트 → 벡터  \n",
    "3. 메타데이터 없는 항목 → `{}`로 채움  \n",
    "4. 컬렉션에 **upsert** (텍스트, 벡터, 메타데이터) 수행"
   ]
  },
  {
   "cell_type": "code",
   "execution_count": 27,
   "metadata": {},
   "outputs": [
    {
     "data": {
      "text/plain": [
       "{'ids': ['1'],\n",
       " 'embeddings': None,\n",
       " 'documents': ['이전에 추가한 Document 를 덮어쓰겠습니다.'],\n",
       " 'uris': None,\n",
       " 'data': None,\n",
       " 'metadatas': [{'source': 'mydata.txt'}],\n",
       " 'included': [<IncludeEnum.documents: 'documents'>,\n",
       "  <IncludeEnum.metadatas: 'metadatas'>]}"
      ]
     },
     "execution_count": 27,
     "metadata": {},
     "output_type": "execute_result"
    }
   ],
   "source": [
    "# 신규 데이터를 추가합니다. 이때 기존의 id=1 의 데이터는 덮어씀\n",
    "db.add_texts(\n",
    "    [\"이전에 추가한 Document 를 덮어쓰겠습니다.\", \"덮어쓴 결과가 어떤가요?\"],\n",
    "    metadatas=[{\"source\": \"mydata.txt\"}, {\"source\": \"mydata.txt\"}],\n",
    "    ids=[\"1\", \"2\"],\n",
    ")\n",
    "\n",
    "db.get('1')"
   ]
  },
  {
   "cell_type": "markdown",
   "metadata": {},
   "source": [
    "## ****`delete` (Chroma) — 문서 삭제****  \n",
    "\n",
    "### 설명  \n",
    "컬렉션에서 지정한 ID의 문서를 제거함.  \n",
    "\n",
    "### 주요 파라미터  \n",
    "\n",
    "|이름|타입|설명|기본값|\n",
    "|---|---|---|---|\n",
    "|ids|List[str] \\| None|삭제할 문서 ID 리스트|None|\n",
    "\n",
    "### 동작  \n",
    "- `ids` 제공 시 해당 ID의 문서를 컬렉션에서 삭제  \n",
    "- `ids`가 `None`이면 아무 작업도 수행하지 않음  "
   ]
  },
  {
   "cell_type": "code",
   "execution_count": 28,
   "metadata": {},
   "outputs": [
    {
     "data": {
      "text/plain": [
       "{'ids': ['2'],\n",
       " 'embeddings': None,\n",
       " 'documents': ['덮어쓴 결과가 어떤가요?'],\n",
       " 'uris': None,\n",
       " 'data': None,\n",
       " 'metadatas': [{'source': 'mydata.txt'}],\n",
       " 'included': [<IncludeEnum.documents: 'documents'>,\n",
       "  <IncludeEnum.metadatas: 'metadatas'>]}"
      ]
     },
     "execution_count": 28,
     "metadata": {},
     "output_type": "execute_result"
    }
   ],
   "source": [
    "# id 1 삭제\n",
    "db.delete(ids=[\"1\"])\n",
    "\n",
    "# 문서 조회\n",
    "db.get([\"1\", \"2\"])"
   ]
  },
  {
   "cell_type": "markdown",
   "metadata": {},
   "source": [
    "## ****`reset_collection` (Chroma) — 컬렉션 초기화****  \n",
    "\n",
    "### 설명  \n",
    "벡터 저장소의 컬렉션을 초기화함.  \n",
    "\n",
    "### 주요 파라미터  \n",
    "\n",
    "|이름|타입|설명|기본값|\n",
    "|---|---|---|---|\n",
    "|collection_name|str|초기화할 컬렉션 이름|—|\n",
    "\n",
    "### 동작  \n",
    "- 지정한 `collection_name`의 모든 데이터를 삭제하고 초기 상태로 복원  \n",
    "- 기존 컬렉션이 존재하지 않으면 새로 생성  "
   ]
  },
  {
   "cell_type": "code",
   "execution_count": 29,
   "metadata": {},
   "outputs": [
    {
     "data": {
      "text/plain": [
       "{'ids': [],\n",
       " 'embeddings': None,\n",
       " 'documents': [],\n",
       " 'uris': None,\n",
       " 'data': None,\n",
       " 'metadatas': [],\n",
       " 'included': [<IncludeEnum.documents: 'documents'>,\n",
       "  <IncludeEnum.metadatas: 'metadatas'>]}"
      ]
     },
     "execution_count": 29,
     "metadata": {},
     "output_type": "execute_result"
    }
   ],
   "source": [
    "# 컬렉션 초기화\n",
    "db.reset_collection()\n",
    "\n",
    "# 초기화 후 문서 조회\n",
    "db.get()"
   ]
  },
  {
   "cell_type": "markdown",
   "metadata": {},
   "source": [
    "## ****`as_retriever` (Chroma) — 벡터 저장소를 검색기로 변환****  \n",
    "\n",
    "### 설명  \n",
    "벡터 저장소를 기반으로 `VectorStoreRetriever` 생성함.  \n",
    "\n",
    "### 주요 파라미터  \n",
    "\n",
    "|이름|타입|설명|기본값|\n",
    "|---|---|---|---|\n",
    "|search_type|str \\| None|검색 유형 (\"similarity\", \"mmr\", \"similarity_score_threshold\")|None|\n",
    "|search_kwargs|Dict \\| None|검색 함수에 전달할 추가 인자|None|\n",
    "|k|int|반환할 문서 수|4|\n",
    "|score_threshold|float \\| None|최소 유사도 임계값|None|\n",
    "|fetch_k|int|MMR 알고리즘에 전달할 문서 수|20|\n",
    "|lambda_mult|float|MMR 결과의 다양성 조절 (0~1)|0.5|\n",
    "|filter|Dict \\| None|문서 메타데이터 필터링|None|\n",
    "\n",
    "### 동작  \n",
    "- 벡터 저장소를 `VectorStoreRetriever` 로 변환  \n",
    "- `search_type` 에 따라 검색 방식 결정  \n",
    "- `filter` 사용 시 특정 메타데이터 조건을 만족하는 문서만 검색  \n",
    "- `MMR` 방식 선택 시 `fetch_k`, `lambda_mult` 를 적용하여 다양성 조절  "
   ]
  },
  {
   "cell_type": "code",
   "execution_count": 30,
   "metadata": {},
   "outputs": [
    {
     "data": {
      "text/plain": [
       "[Document(id='87f24b02-143a-43b1-8530-4a2dc1dad4b0', metadata={'source': 'data/nlp-keywords.txt'}, page_content='정의: HuggingFace는 자연어 처리를 위한 다양한 사전 훈련된 모델과 도구를 제공하는 라이브러리입니다. 이는 연구자와 개발자들이 쉽게 NLP 작업을 수행할 수 있도록 돕습니다.\\n예시: HuggingFace의 Transformers 라이브러리를 사용하여 감정 분석, 텍스트 생성 등의 작업을 수행할 수 있습니다.\\n연관키워드: 자연어 처리, 딥러닝, 라이브러리\\n\\nDigital Transformation\\n\\n정의: 디지털 변환은 기술을 활용하여 기업의 서비스, 문화, 운영을 혁신하는 과정입니다. 이는 비즈니스 모델을 개선하고 디지털 기술을 통해 경쟁력을 높이는 데 중점을 둡니다.\\n예시: 기업이 클라우드 컴퓨팅을 도입하여 데이터 저장과 처리를 혁신하는 것은 디지털 변환의 예입니다.\\n연관키워드: 혁신, 기술, 비즈니스 모델\\n\\nCrawling\\n\\n정의: 크롤링은 자동화된 방식으로 웹 페이지를 방문하여 데이터를 수집하는 과정입니다. 이는 검색 엔진 최적화나 데이터 분석에 자주 사용됩니다.\\n예시: 구글 검색 엔진이 인터넷 상의 웹사이트를 방문하여 콘텐츠를 수집하고 인덱싱하는 것이 크롤링입니다.\\n연관키워드: 데이터 수집, 웹 스크래핑, 검색 엔진\\n\\nWord2Vec\\n\\n정의: Word2Vec은 단어를 벡터 공간에 매핑하여 단어 간의 의미적 관계를 나타내는 자연어 처리 기술입니다. 이는 단어의 문맥적 유사성을 기반으로 벡터를 생성합니다.\\n예시: Word2Vec 모델에서 \"왕\"과 \"여왕\"은 서로 가까운 위치에 벡터로 표현됩니다.\\n연관키워드: 자연어 처리, 임베딩, 의미론적 유사성\\nLLM (Large Language Model)\\n\\n정의: LLM은 대규모의 텍스트 데이터로 훈련된 큰 규모의 언어 모델을 의미합니다. 이러한 모델은 다양한 자연어 이해 및 생성 작업에 사용됩니다.\\n예시: OpenAI의 GPT 시리즈는 대표적인 대규모 언어 모델입니다.\\n연관키워드: 자연어 처리, 딥러닝, 텍스트 생성\\n\\nFAISS (Facebook AI Similarity Search)'),\n",
       " Document(id='4e3481a1-efc5-40a0-a96e-f987f0edde4f', metadata={'source': 'data/nlp-keywords.txt'}, page_content='정의: FAISS는 페이스북에서 개발한 고속 유사성 검색 라이브러리로, 특히 대규모 벡터 집합에서 유사 벡터를 효과적으로 검색할 수 있도록 설계되었습니다.\\n예시: 수백만 개의 이미지 벡터 중에서 비슷한 이미지를 빠르게 찾는 데 FAISS가 사용될 수 있습니다.\\n연관키워드: 벡터 검색, 머신러닝, 데이터베이스 최적화\\n\\nOpen Source\\n\\n정의: 오픈 소스는 소스 코드가 공개되어 누구나 자유롭게 사용, 수정, 배포할 수 있는 소프트웨어를 의미합니다. 이는 협업과 혁신을 촉진하는 데 중요한 역할을 합니다.\\n예시: 리눅스 운영 체제는 대표적인 오픈 소스 프로젝트입니다.\\n연관키워드: 소프트웨어 개발, 커뮤니티, 기술 협업\\n\\nStructured Data\\n\\n정의: 구조화된 데이터는 정해진 형식이나 스키마에 따라 조직된 데이터입니다. 이는 데이터베이스, 스프레드시트 등에서 쉽게 검색하고 분석할 수 있습니다.\\n예시: 관계형 데이터베이스에 저장된 고객 정보 테이블은 구조화된 데이터의 예입니다.\\n연관키워드: 데이터베이스, 데이터 분석, 데이터 모델링\\n\\nParser\\n\\n정의: 파서는 주어진 데이터(문자열, 파일 등)를 분석하여 구조화된 형태로 변환하는 도구입니다. 이는 프로그래밍 언어의 구문 분석이나 파일 데이터 처리에 사용됩니다.\\n예시: HTML 문서를 구문 분석하여 웹 페이지의 DOM 구조를 생성하는 것은 파싱의 한 예입니다.\\n연관키워드: 구문 분석, 컴파일러, 데이터 처리\\n\\nTF-IDF (Term Frequency-Inverse Document Frequency)\\n\\n정의: TF-IDF는 문서 내에서 단어의 중요도를 평가하는 데 사용되는 통계적 척도입니다. 이는 문서 내 단어의 빈도와 전체 문서 집합에서 그 단어의 희소성을 고려합니다.\\n예시: 많은 문서에서 자주 등장하지 않는 단어는 높은 TF-IDF 값을 가집니다.\\n연관키워드: 자연어 처리, 정보 검색, 데이터 마이닝\\n\\nDeep Learning'),\n",
       " Document(id='5dd4a29f-485d-448a-b579-481aaa62aff1', metadata={'source': 'data/nlp-keywords.txt'}, page_content='Semantic Search\\n\\n정의: 의미론적 검색은 사용자의 질의를 단순한 키워드 매칭을 넘어서 그 의미를 파악하여 관련된 결과를 반환하는 검색 방식입니다.\\n예시: 사용자가 \"태양계 행성\"이라고 검색하면, \"목성\", \"화성\" 등과 같이 관련된 행성에 대한 정보를 반환합니다.\\n연관키워드: 자연어 처리, 검색 알고리즘, 데이터 마이닝\\n\\nEmbedding\\n\\n정의: 임베딩은 단어나 문장 같은 텍스트 데이터를 저차원의 연속적인 벡터로 변환하는 과정입니다. 이를 통해 컴퓨터가 텍스트를 이해하고 처리할 수 있게 합니다.\\n예시: \"사과\"라는 단어를 [0.65, -0.23, 0.17]과 같은 벡터로 표현합니다.\\n연관키워드: 자연어 처리, 벡터화, 딥러닝\\n\\nToken\\n\\n정의: 토큰은 텍스트를 더 작은 단위로 분할하는 것을 의미합니다. 이는 일반적으로 단어, 문장, 또는 구절일 수 있습니다.\\n예시: 문장 \"나는 학교에 간다\"를 \"나는\", \"학교에\", \"간다\"로 분할합니다.\\n연관키워드: 토큰화, 자연어 처리, 구문 분석\\n\\nTokenizer\\n\\n정의: 토크나이저는 텍스트 데이터를 토큰으로 분할하는 도구입니다. 이는 자연어 처리에서 데이터를 전처리하는 데 사용됩니다.\\n예시: \"I love programming.\"이라는 문장을 [\"I\", \"love\", \"programming\", \".\"]으로 분할합니다.\\n연관키워드: 토큰화, 자연어 처리, 구문 분석\\n\\nVectorStore\\n\\n정의: 벡터스토어는 벡터 형식으로 변환된 데이터를 저장하는 시스템입니다. 이는 검색, 분류 및 기타 데이터 분석 작업에 사용됩니다.\\n예시: 단어 임베딩 벡터들을 데이터베이스에 저장하여 빠르게 접근할 수 있습니다.\\n연관키워드: 임베딩, 데이터베이스, 벡터화\\n\\nSQL'),\n",
       " Document(id='463da55b-67ac-4db7-933a-ab7086e8a208', metadata={'source': 'data/nlp-keywords.txt'}, page_content='정의: SQL(Structured Query Language)은 데이터베이스에서 데이터를 관리하기 위한 프로그래밍 언어입니다. 데이터 조회, 수정, 삽입, 삭제 등 다양한 작업을 수행할 수 있습니다.\\n예시: SELECT * FROM users WHERE age > 18;은 18세 이상의 사용자 정보를 조회합니다.\\n연관키워드: 데이터베이스, 쿼리, 데이터 관리\\n\\nCSV\\n\\n정의: CSV(Comma-Separated Values)는 데이터를 저장하는 파일 형식으로, 각 데이터 값은 쉼표로 구분됩니다. 표 형태의 데이터를 간단하게 저장하고 교환할 때 사용됩니다.\\n예시: 이름, 나이, 직업이라는 헤더를 가진 CSV 파일에는 홍길동, 30, 개발자와 같은 데이터가 포함될 수 있습니다.\\n연관키워드: 데이터 형식, 파일 처리, 데이터 교환\\n\\nJSON\\n\\n정의: JSON(JavaScript Object Notation)은 경량의 데이터 교환 형식으로, 사람과 기계 모두에게 읽기 쉬운 텍스트를 사용하여 데이터 객체를 표현합니다.\\n예시: {\"이름\": \"홍길동\", \"나이\": 30, \"직업\": \"개발자\"}는 JSON 형식의 데이터입니다.\\n연관키워드: 데이터 교환, 웹 개발, API\\n\\nTransformer\\n\\n정의: 트랜스포머는 자연어 처리에서 사용되는 딥러닝 모델의 한 유형으로, 주로 번역, 요약, 텍스트 생성 등에 사용됩니다. 이는 Attention 메커니즘을 기반으로 합니다.\\n예시: 구글 번역기는 트랜스포머 모델을 사용하여 다양한 언어 간의 번역을 수행합니다.\\n연관키워드: 딥러닝, 자연어 처리, Attention\\n\\nHuggingFace')]"
      ]
     },
     "execution_count": 30,
     "metadata": {},
     "output_type": "execute_result"
    }
   ],
   "source": [
    "# DB 생성\n",
    "db = Chroma.from_documents(\n",
    "    documents=split_doc1 + split_doc2,\n",
    "    embedding=embeddings,\n",
    "    collection_name=\"nlp\",\n",
    ")\n",
    "\n",
    "# 기본값 4개\n",
    "retriever = db.as_retriever()\n",
    "retriever.invoke(\"Word2Vec 에 대하여 알려줘\")"
   ]
  },
  {
   "cell_type": "code",
   "execution_count": 32,
   "metadata": {},
   "outputs": [
    {
     "data": {
      "text/plain": [
       "[Document(id='87f24b02-143a-43b1-8530-4a2dc1dad4b0', metadata={'source': 'data/nlp-keywords.txt'}, page_content='정의: HuggingFace는 자연어 처리를 위한 다양한 사전 훈련된 모델과 도구를 제공하는 라이브러리입니다. 이는 연구자와 개발자들이 쉽게 NLP 작업을 수행할 수 있도록 돕습니다.\\n예시: HuggingFace의 Transformers 라이브러리를 사용하여 감정 분석, 텍스트 생성 등의 작업을 수행할 수 있습니다.\\n연관키워드: 자연어 처리, 딥러닝, 라이브러리\\n\\nDigital Transformation\\n\\n정의: 디지털 변환은 기술을 활용하여 기업의 서비스, 문화, 운영을 혁신하는 과정입니다. 이는 비즈니스 모델을 개선하고 디지털 기술을 통해 경쟁력을 높이는 데 중점을 둡니다.\\n예시: 기업이 클라우드 컴퓨팅을 도입하여 데이터 저장과 처리를 혁신하는 것은 디지털 변환의 예입니다.\\n연관키워드: 혁신, 기술, 비즈니스 모델\\n\\nCrawling\\n\\n정의: 크롤링은 자동화된 방식으로 웹 페이지를 방문하여 데이터를 수집하는 과정입니다. 이는 검색 엔진 최적화나 데이터 분석에 자주 사용됩니다.\\n예시: 구글 검색 엔진이 인터넷 상의 웹사이트를 방문하여 콘텐츠를 수집하고 인덱싱하는 것이 크롤링입니다.\\n연관키워드: 데이터 수집, 웹 스크래핑, 검색 엔진\\n\\nWord2Vec\\n\\n정의: Word2Vec은 단어를 벡터 공간에 매핑하여 단어 간의 의미적 관계를 나타내는 자연어 처리 기술입니다. 이는 단어의 문맥적 유사성을 기반으로 벡터를 생성합니다.\\n예시: Word2Vec 모델에서 \"왕\"과 \"여왕\"은 서로 가까운 위치에 벡터로 표현됩니다.\\n연관키워드: 자연어 처리, 임베딩, 의미론적 유사성\\nLLM (Large Language Model)\\n\\n정의: LLM은 대규모의 텍스트 데이터로 훈련된 큰 규모의 언어 모델을 의미합니다. 이러한 모델은 다양한 자연어 이해 및 생성 작업에 사용됩니다.\\n예시: OpenAI의 GPT 시리즈는 대표적인 대규모 언어 모델입니다.\\n연관키워드: 자연어 처리, 딥러닝, 텍스트 생성\\n\\nFAISS (Facebook AI Similarity Search)'),\n",
       " Document(id='5dd4a29f-485d-448a-b579-481aaa62aff1', metadata={'source': 'data/nlp-keywords.txt'}, page_content='Semantic Search\\n\\n정의: 의미론적 검색은 사용자의 질의를 단순한 키워드 매칭을 넘어서 그 의미를 파악하여 관련된 결과를 반환하는 검색 방식입니다.\\n예시: 사용자가 \"태양계 행성\"이라고 검색하면, \"목성\", \"화성\" 등과 같이 관련된 행성에 대한 정보를 반환합니다.\\n연관키워드: 자연어 처리, 검색 알고리즘, 데이터 마이닝\\n\\nEmbedding\\n\\n정의: 임베딩은 단어나 문장 같은 텍스트 데이터를 저차원의 연속적인 벡터로 변환하는 과정입니다. 이를 통해 컴퓨터가 텍스트를 이해하고 처리할 수 있게 합니다.\\n예시: \"사과\"라는 단어를 [0.65, -0.23, 0.17]과 같은 벡터로 표현합니다.\\n연관키워드: 자연어 처리, 벡터화, 딥러닝\\n\\nToken\\n\\n정의: 토큰은 텍스트를 더 작은 단위로 분할하는 것을 의미합니다. 이는 일반적으로 단어, 문장, 또는 구절일 수 있습니다.\\n예시: 문장 \"나는 학교에 간다\"를 \"나는\", \"학교에\", \"간다\"로 분할합니다.\\n연관키워드: 토큰화, 자연어 처리, 구문 분석\\n\\nTokenizer\\n\\n정의: 토크나이저는 텍스트 데이터를 토큰으로 분할하는 도구입니다. 이는 자연어 처리에서 데이터를 전처리하는 데 사용됩니다.\\n예시: \"I love programming.\"이라는 문장을 [\"I\", \"love\", \"programming\", \".\"]으로 분할합니다.\\n연관키워드: 토큰화, 자연어 처리, 구문 분석\\n\\nVectorStore\\n\\n정의: 벡터스토어는 벡터 형식으로 변환된 데이터를 저장하는 시스템입니다. 이는 검색, 분류 및 기타 데이터 분석 작업에 사용됩니다.\\n예시: 단어 임베딩 벡터들을 데이터베이스에 저장하여 빠르게 접근할 수 있습니다.\\n연관키워드: 임베딩, 데이터베이스, 벡터화\\n\\nSQL'),\n",
       " Document(id='665db969-90ca-406e-ab9a-bdd8fe38e063', metadata={'source': 'data/nlp-keywords.txt'}, page_content='정의: 멀티모달은 여러 종류의 데이터 모드(예: 텍스트, 이미지, 소리 등)를 결합하여 처리하는 기술입니다. 이는 서로 다른 형식의 데이터 간의 상호 작용을 통해 보다 풍부하고 정확한 정보를 추출하거나 예측하는 데 사용됩니다.\\n예시: 이미지와 설명 텍스트를 함께 분석하여 더 정확한 이미지 분류를 수행하는 시스템은 멀티모달 기술의 예입니다.\\n연관키워드: 데이터 융합, 인공지능, 딥러닝'),\n",
       " Document(id='df6aec6a-f26f-4a03-82bf-46244db4df30', metadata={'source': 'data/finance-keywords.txt'}, page_content='S&P 500\\n\\n정의: S&P 500은 미국 주식 시장에 상장된 500개의 대형 기업의 주가를 종합한 지수입니다. 이는 미국 경제와 주식 시장의 전반적인 상황을 나타내는 주요 지표로 사용됩니다.\\n예시: 애플, 마이크로소프트, 아마존과 같은 대형 기술 기업들이 S&P 500에 포함되어 있습니다.\\n연관키워드: 주식 시장, 지수, 대형주\\n\\nMarket Capitalization\\n\\n정의: 시가총액은 회사의 발행 주식 수와 현재 주가를 곱한 값으로, 회사의 전체 가치를 나타냅니다.\\n예시: 애플의 시가총액이 2조 달러를 넘어서면서 S&P 500 지수에서 가장 큰 비중을 차지하게 되었습니다.\\n연관키워드: 기업 가치, 주식, 투자\\n\\nDividend\\n\\n정의: 배당금은 기업이 주주들에게 이익의 일부를 현금으로 지급하는 것을 말합니다.\\n예시: 코카콜라는 50년 이상 연속으로 배당금을 인상해온 S&P 500 기업 중 하나입니다.\\n연관키워드: 주주 가치, 수익률, 투자 전략\\n\\nBlue Chip Stocks\\n\\n정의: 블루칩 주식은 재무적으로 안정적이고 오랜 기간 동안 꾸준한 실적을 보여온 대형 기업의 주식을 의미합니다.\\n예시: 존슨앤존슨, 프록터앤갬블과 같은 기업들은 S&P 500에 포함된 대표적인 블루칩 주식입니다.\\n연관키워드: 안정적 투자, 대형주, 배당주\\n\\nSector Rotation\\n\\n정의: 섹터 로테이션은 투자자들이 경제 사이클에 따라 다른 산업 섹터로 투자를 이동시키는 전략을 말합니다.\\n예시: 경기 회복기에 투자자들이 기술주에서 금융주로 투자를 이동시키는 것이 섹터 로테이션의 한 예입니다.\\n연관키워드: 투자 전략, 자산 배분, 경제 사이클\\n\\nEarnings Per Share (EPS)\\n\\n정의: 주당순이익(EPS)은 기업의 순이익을 발행 주식 수로 나눈 값으로, 주주들에게 돌아가는 이익을 나타냅니다.\\n예시: 테슬라의 EPS가 예상치를 상회하면서 주가가 급등했습니다.\\n연관키워드: 재무 지표, 기업 실적, 주식 가치평가')]"
      ]
     },
     "execution_count": 32,
     "metadata": {},
     "output_type": "execute_result"
    }
   ],
   "source": [
    "# 파라미터 설정\n",
    "\n",
    "retriever = db.as_retriever(\n",
    "    search_type = 'mmr',\n",
    "    search_kwargs = {'K' : 6,\n",
    "                     'lambda_mult' : 0.25,\n",
    "                    'fetch_k' : 10}\n",
    ")\n",
    "\n",
    "retriever.invoke(\"Word2Vec 에 대하여 알려줘\")"
   ]
  },
  {
   "cell_type": "code",
   "execution_count": 33,
   "metadata": {},
   "outputs": [
    {
     "data": {
      "text/plain": [
       "[Document(id='87f24b02-143a-43b1-8530-4a2dc1dad4b0', metadata={'source': 'data/nlp-keywords.txt'}, page_content='정의: HuggingFace는 자연어 처리를 위한 다양한 사전 훈련된 모델과 도구를 제공하는 라이브러리입니다. 이는 연구자와 개발자들이 쉽게 NLP 작업을 수행할 수 있도록 돕습니다.\\n예시: HuggingFace의 Transformers 라이브러리를 사용하여 감정 분석, 텍스트 생성 등의 작업을 수행할 수 있습니다.\\n연관키워드: 자연어 처리, 딥러닝, 라이브러리\\n\\nDigital Transformation\\n\\n정의: 디지털 변환은 기술을 활용하여 기업의 서비스, 문화, 운영을 혁신하는 과정입니다. 이는 비즈니스 모델을 개선하고 디지털 기술을 통해 경쟁력을 높이는 데 중점을 둡니다.\\n예시: 기업이 클라우드 컴퓨팅을 도입하여 데이터 저장과 처리를 혁신하는 것은 디지털 변환의 예입니다.\\n연관키워드: 혁신, 기술, 비즈니스 모델\\n\\nCrawling\\n\\n정의: 크롤링은 자동화된 방식으로 웹 페이지를 방문하여 데이터를 수집하는 과정입니다. 이는 검색 엔진 최적화나 데이터 분석에 자주 사용됩니다.\\n예시: 구글 검색 엔진이 인터넷 상의 웹사이트를 방문하여 콘텐츠를 수집하고 인덱싱하는 것이 크롤링입니다.\\n연관키워드: 데이터 수집, 웹 스크래핑, 검색 엔진\\n\\nWord2Vec\\n\\n정의: Word2Vec은 단어를 벡터 공간에 매핑하여 단어 간의 의미적 관계를 나타내는 자연어 처리 기술입니다. 이는 단어의 문맥적 유사성을 기반으로 벡터를 생성합니다.\\n예시: Word2Vec 모델에서 \"왕\"과 \"여왕\"은 서로 가까운 위치에 벡터로 표현됩니다.\\n연관키워드: 자연어 처리, 임베딩, 의미론적 유사성\\nLLM (Large Language Model)\\n\\n정의: LLM은 대규모의 텍스트 데이터로 훈련된 큰 규모의 언어 모델을 의미합니다. 이러한 모델은 다양한 자연어 이해 및 생성 작업에 사용됩니다.\\n예시: OpenAI의 GPT 시리즈는 대표적인 대규모 언어 모델입니다.\\n연관키워드: 자연어 처리, 딥러닝, 텍스트 생성\\n\\nFAISS (Facebook AI Similarity Search)'),\n",
       " Document(id='f6b786cb-d86e-4784-affa-24edb52709ec', metadata={'source': 'data/finance-keywords.txt'}, page_content='Price-to-Earnings Ratio (P/E Ratio)\\n\\n정의: 주가수익비율(P/E)은 주가를 주당순이익으로 나눈 값으로, 기업의 가치를 평가하는 데 사용되는 지표입니다.\\n예시: 아마존의 P/E 비율이 높은 것은 투자자들이 회사의 미래 성장 가능성을 높게 평가하고 있다는 것을 의미합니다.\\n연관키워드: 주식 가치평가, 투자 분석, 성장주\\n\\nQuarterly Earnings Report\\n\\n정의: 분기별 실적 보고서는 기업이 3개월마다 발표하는 재무 성과와 사업 현황에 대한 보고서입니다.\\n예시: 애플의 분기별 실적 발표는 전체 기술 섹터와 S&P 500 지수에 큰 영향을 미칩니다.\\n연관키워드: 기업 실적, 투자자 관계, 재무 분석\\n\\nIndex Fund\\n\\n정의: 인덱스 펀드는 S&P 500과 같은 특정 지수의 구성과 성과를 그대로 추종하는 투자 상품입니다.\\n예시: 바운가드 S&P 500 ETF는 S&P 500 지수를 추종하는 대표적인 인덱스 펀드입니다.\\n연관키워드: 패시브 투자, ETF, 포트폴리오 관리\\n\\nMarket Weight\\n\\n정의: 시장 가중치는 특정 기업이나 섹터가 전체 지수에서 차지하는 비중을 나타냅니다.\\n예시: 기술 섹터는 S&P 500 지수에서 가장 큰 시장 가중치를 차지하고 있습니다.\\n연관키워드: 포트폴리오 구성, 섹터 분석, 자산 배분\\n\\nGrowth Stock\\n\\n정의: 성장주는 평균 이상의 높은 성장률을 보이는 기업의 주식을 의미합니다.\\n예시: 페이스북(메타)과 같은 기술 기업들은 S&P 500에 포함된 대표적인 성장주로 꼽힙니다.\\n연관키워드: 고성장 기업, 기술주, 투자 전략\\n\\nValue Stock\\n\\n정의: 가치주는 현재 시장 가치가 내재 가치보다 낮다고 평가되는 기업의 주식을 말합니다.\\n예시: 워렌 버핏이 투자한 코카콜라는 S&P 500에 포함된 대표적인 가치주 중 하나입니다.\\n연관키워드: 가치 투자, 배당주, 안정적 수익\\n\\nMarket Volatility')]"
      ]
     },
     "execution_count": 33,
     "metadata": {},
     "output_type": "execute_result"
    }
   ],
   "source": [
    "# MMR 알고리즘을 위해 더 많은 문서를 가져오되 상위 2개만 반환\n",
    "retriever = db.as_retriever(search_type=\"mmr\", search_kwargs={\"k\": 2, \"fetch_k\": 10})\n",
    "retriever.invoke(\"Word2Vec 에 대하여 알려줘\")"
   ]
  },
  {
   "cell_type": "code",
   "execution_count": 34,
   "metadata": {},
   "outputs": [
    {
     "name": "stderr",
     "output_type": "stream",
     "text": [
      "No relevant docs were retrieved using the relevance score threshold 0.8\n"
     ]
    },
    {
     "data": {
      "text/plain": [
       "[]"
      ]
     },
     "execution_count": 34,
     "metadata": {},
     "output_type": "execute_result"
    }
   ],
   "source": [
    "# 특정 임계값 이상의 유사도를 가진 문서만 검색\n",
    "retriever = db.as_retriever(\n",
    "    search_type=\"similarity_score_threshold\", search_kwargs={\"score_threshold\": 0.8}\n",
    ")\n",
    "\n",
    "retriever.invoke(\"Word2Vec 에 대하여 알려줘\")"
   ]
  },
  {
   "cell_type": "code",
   "execution_count": 35,
   "metadata": {},
   "outputs": [
    {
     "data": {
      "text/plain": [
       "[Document(id='87f24b02-143a-43b1-8530-4a2dc1dad4b0', metadata={'source': 'data/nlp-keywords.txt'}, page_content='정의: HuggingFace는 자연어 처리를 위한 다양한 사전 훈련된 모델과 도구를 제공하는 라이브러리입니다. 이는 연구자와 개발자들이 쉽게 NLP 작업을 수행할 수 있도록 돕습니다.\\n예시: HuggingFace의 Transformers 라이브러리를 사용하여 감정 분석, 텍스트 생성 등의 작업을 수행할 수 있습니다.\\n연관키워드: 자연어 처리, 딥러닝, 라이브러리\\n\\nDigital Transformation\\n\\n정의: 디지털 변환은 기술을 활용하여 기업의 서비스, 문화, 운영을 혁신하는 과정입니다. 이는 비즈니스 모델을 개선하고 디지털 기술을 통해 경쟁력을 높이는 데 중점을 둡니다.\\n예시: 기업이 클라우드 컴퓨팅을 도입하여 데이터 저장과 처리를 혁신하는 것은 디지털 변환의 예입니다.\\n연관키워드: 혁신, 기술, 비즈니스 모델\\n\\nCrawling\\n\\n정의: 크롤링은 자동화된 방식으로 웹 페이지를 방문하여 데이터를 수집하는 과정입니다. 이는 검색 엔진 최적화나 데이터 분석에 자주 사용됩니다.\\n예시: 구글 검색 엔진이 인터넷 상의 웹사이트를 방문하여 콘텐츠를 수집하고 인덱싱하는 것이 크롤링입니다.\\n연관키워드: 데이터 수집, 웹 스크래핑, 검색 엔진\\n\\nWord2Vec\\n\\n정의: Word2Vec은 단어를 벡터 공간에 매핑하여 단어 간의 의미적 관계를 나타내는 자연어 처리 기술입니다. 이는 단어의 문맥적 유사성을 기반으로 벡터를 생성합니다.\\n예시: Word2Vec 모델에서 \"왕\"과 \"여왕\"은 서로 가까운 위치에 벡터로 표현됩니다.\\n연관키워드: 자연어 처리, 임베딩, 의미론적 유사성\\nLLM (Large Language Model)\\n\\n정의: LLM은 대규모의 텍스트 데이터로 훈련된 큰 규모의 언어 모델을 의미합니다. 이러한 모델은 다양한 자연어 이해 및 생성 작업에 사용됩니다.\\n예시: OpenAI의 GPT 시리즈는 대표적인 대규모 언어 모델입니다.\\n연관키워드: 자연어 처리, 딥러닝, 텍스트 생성\\n\\nFAISS (Facebook AI Similarity Search)')]"
      ]
     },
     "execution_count": 35,
     "metadata": {},
     "output_type": "execute_result"
    }
   ],
   "source": [
    "# 가장 유사한 단일 문서만 검색\n",
    "retriever = db.as_retriever(search_kwargs={\"k\": 1})\n",
    "\n",
    "retriever.invoke(\"Word2Vec 에 대하여 알려줘\")"
   ]
  },
  {
   "cell_type": "code",
   "execution_count": 36,
   "metadata": {},
   "outputs": [
    {
     "data": {
      "text/plain": [
       "[Document(id='f6b786cb-d86e-4784-affa-24edb52709ec', metadata={'source': 'data/finance-keywords.txt'}, page_content='Price-to-Earnings Ratio (P/E Ratio)\\n\\n정의: 주가수익비율(P/E)은 주가를 주당순이익으로 나눈 값으로, 기업의 가치를 평가하는 데 사용되는 지표입니다.\\n예시: 아마존의 P/E 비율이 높은 것은 투자자들이 회사의 미래 성장 가능성을 높게 평가하고 있다는 것을 의미합니다.\\n연관키워드: 주식 가치평가, 투자 분석, 성장주\\n\\nQuarterly Earnings Report\\n\\n정의: 분기별 실적 보고서는 기업이 3개월마다 발표하는 재무 성과와 사업 현황에 대한 보고서입니다.\\n예시: 애플의 분기별 실적 발표는 전체 기술 섹터와 S&P 500 지수에 큰 영향을 미칩니다.\\n연관키워드: 기업 실적, 투자자 관계, 재무 분석\\n\\nIndex Fund\\n\\n정의: 인덱스 펀드는 S&P 500과 같은 특정 지수의 구성과 성과를 그대로 추종하는 투자 상품입니다.\\n예시: 바운가드 S&P 500 ETF는 S&P 500 지수를 추종하는 대표적인 인덱스 펀드입니다.\\n연관키워드: 패시브 투자, ETF, 포트폴리오 관리\\n\\nMarket Weight\\n\\n정의: 시장 가중치는 특정 기업이나 섹터가 전체 지수에서 차지하는 비중을 나타냅니다.\\n예시: 기술 섹터는 S&P 500 지수에서 가장 큰 시장 가중치를 차지하고 있습니다.\\n연관키워드: 포트폴리오 구성, 섹터 분석, 자산 배분\\n\\nGrowth Stock\\n\\n정의: 성장주는 평균 이상의 높은 성장률을 보이는 기업의 주식을 의미합니다.\\n예시: 페이스북(메타)과 같은 기술 기업들은 S&P 500에 포함된 대표적인 성장주로 꼽힙니다.\\n연관키워드: 고성장 기업, 기술주, 투자 전략\\n\\nValue Stock\\n\\n정의: 가치주는 현재 시장 가치가 내재 가치보다 낮다고 평가되는 기업의 주식을 말합니다.\\n예시: 워렌 버핏이 투자한 코카콜라는 S&P 500에 포함된 대표적인 가치주 중 하나입니다.\\n연관키워드: 가치 투자, 배당주, 안정적 수익\\n\\nMarket Volatility'),\n",
       " Document(id='71b81ec2-95c8-46ab-85f1-d7f6a37af7b8', metadata={'source': 'data/finance-keywords.txt'}, page_content='정의: 시장 변동성은 주식 시장의 가격 변동 폭을 나타내는 지표입니다.\\n예시: VIX 지수(변동성 지수)가 상승하면 S&P 500 지수의 변동성이 높아질 것으로 예상됩니다.\\n연관키워드: 리스크 관리, 투자 심리, 헤지 전략\\n\\nEquity Research\\n\\n정의: 주식 리서치는 기업의 재무 상태, 사업 모델, 경쟁력 등을 분석하여 투자 의사 결정을 돕는 활동입니다.\\n예시: 골드만삭스의 애널리스트들이 S&P 500 기업들에 대한 분기별 실적 전망을 발표했습니다.\\n연관키워드: 투자 분석, 기업 가치평가, 시장 전망\\n\\nCorporate Governance\\n\\n정의: 기업 지배구조는 기업의 경영과 통제에 관한 시스템과 프로세스를 의미합니다.\\n예시: S&P 500 기업들 중 이사회의 다양성을 높이는 기업들이 증가하고 있습니다.\\n연관키워드: 주주 권리, ESG, 기업 윤리\\n\\nMergers and Acquisitions (M&A)\\n\\n정의: 인수합병은 기업들이 다른 기업을 사거나 합치는 과정을 말합니다.\\n예시: 마이크로소프트가 액티비전 블리자드를 인수하면서 S&P 500 내 게임 산업의 판도가 변화했습니다.\\n연관키워드: 기업 전략, 시너지 효과, 기업 가치\\n\\nESG (Environmental, Social, and Governance)\\n\\n정의: ESG는 기업의 환경, 사회, 지배구조 측면을 고려하는 투자 접근 방식입니다.\\n예시: S&P 500 ESG 지수는 우수한 ESG 성과를 보이는 기업들로 구성된 지수입니다.\\n연관키워드: 지속가능 투자, 기업의 사회적 책임, 윤리 경영\\n\\nStock Buyback\\n\\n정의: 자사주 매입은 기업이 자사의 주식을 시장에서 다시 사들이는 것을 말합니다.\\n예시: 애플은 S&P 500 기업 중 가장 큰 규모의 자사주 매입 프로그램을 운영하고 있습니다.\\n연관키워드: 주주 가치, 자본 관리, 주가 부양\\n\\nCyclical Stocks')]"
      ]
     },
     "execution_count": 36,
     "metadata": {},
     "output_type": "execute_result"
    }
   ],
   "source": [
    "# 특정 메타데이터 필터 적용\n",
    "retriever = db.as_retriever(\n",
    "    search_kwargs={\"filter\": {\"source\": \"data/finance-keywords.txt\"}, \"k\": 2}\n",
    ")\n",
    "retriever.invoke(\"ESG 에 대하여 알려줘\")"
   ]
  }
 ],
 "metadata": {
  "kernelspec": {
   "display_name": "nlp",
   "language": "python",
   "name": "python3"
  },
  "language_info": {
   "codemirror_mode": {
    "name": "ipython",
    "version": 3
   },
   "file_extension": ".py",
   "mimetype": "text/x-python",
   "name": "python",
   "nbconvert_exporter": "python",
   "pygments_lexer": "ipython3",
   "version": "3.11.11"
  }
 },
 "nbformat": 4,
 "nbformat_minor": 2
}
