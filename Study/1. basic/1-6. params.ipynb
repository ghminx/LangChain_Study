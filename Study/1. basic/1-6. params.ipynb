{
 "cells": [
  {
   "cell_type": "code",
   "execution_count": null,
   "metadata": {},
   "outputs": [
    {
     "name": "stderr",
     "output_type": "stream",
     "text": [
      "c:\\Users\\rmsgh\\anaconda3\\envs\\nlp\\Lib\\site-packages\\IPython\\core\\interactiveshell.py:3519: UserWarning: Parameters {'frequency_penalty', 'presence_penalty', 'stop'} should be specified explicitly. Instead they were passed in as part of `model_kwargs` parameter.\n",
      "  if await self.run_code(code, result, async_=asy):\n"
     ]
    },
    {
     "data": {
      "text/plain": [
       "AIMessage(content='태양계에서 가장 큰 행성은 목성(Jupiter)입니다. 목성은 지구의 약 11배 크기이며, 강력한 중력을 가지고 있어 많은 위성을 거느리고 있습니다. 또한, 목성은 가스로 이루어진 행성으로, 특징적인 대적점과 다양한 구름 패턴을 가지고 있습니다.', additional_kwargs={'refusal': None}, response_metadata={'token_usage': {'completion_tokens': 73, 'prompt_tokens': 20, 'total_tokens': 93, 'completion_tokens_details': {'accepted_prediction_tokens': 0, 'audio_tokens': 0, 'reasoning_tokens': 0, 'rejected_prediction_tokens': 0}, 'prompt_tokens_details': {'audio_tokens': 0, 'cached_tokens': 0}}, 'model_name': 'gpt-4o-mini-2024-07-18', 'system_fingerprint': 'fp_709714d124', 'finish_reason': 'stop', 'logprobs': None}, id='run-b91c9dbb-bec2-4223-89d6-1a1b7447c3a5-0', usage_metadata={'input_tokens': 20, 'output_tokens': 73, 'total_tokens': 93, 'input_token_details': {'audio': 0, 'cache_read': 0}, 'output_token_details': {'audio': 0, 'reasoning': 0}})"
      ]
     },
     "execution_count": 13,
     "metadata": {},
     "output_type": "execute_result"
    }
   ],
   "source": [
    "from langchain_openai import ChatOpenAI\n",
    "\n",
    "# 기본 파라미터 설정\n",
    "params = {\n",
    "    \"temperature\": 0.7,         # 생성된 텍스트의 다양성 조정\n",
    "    \"max_tokens\": 100,          # 생성할 최대 토큰 수    \n",
    "}\n",
    "\n",
    "# 선택 파라미터 설정\n",
    "kwargs = {\n",
    "    \"frequency_penalty\": 0.5,   # 이미 등장한 단어의 재등장 확률\n",
    "    \"presence_penalty\": 0.5,    # 새로운 단어의 도입을 장려\n",
    "    \"stop\": [\"\\n\"]              # 정지 시퀀스 설정\n",
    "\n",
    "}\n",
    "\n",
    "# 모델 인스턴스를 생성할 때 설정\n",
    "model = ChatOpenAI(model=\"gpt-4o-mini\", **params, model_kwargs = kwargs)  # **kwargs 해도됨\n",
    "\n",
    "\n",
    "# 모델 호출\n",
    "question = \"태양계에서 가장 큰 행성은 무엇인가요?\"\n",
    "response = model.invoke(input=question)\n",
    "response\n"
   ]
  }
 ],
 "metadata": {
  "kernelspec": {
   "display_name": "nlp",
   "language": "python",
   "name": "python3"
  },
  "language_info": {
   "codemirror_mode": {
    "name": "ipython",
    "version": 3
   },
   "file_extension": ".py",
   "mimetype": "text/x-python",
   "name": "python",
   "nbconvert_exporter": "python",
   "pygments_lexer": "ipython3",
   "version": "3.11.11"
  }
 },
 "nbformat": 4,
 "nbformat_minor": 2
}
