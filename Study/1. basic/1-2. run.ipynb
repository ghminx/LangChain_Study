{
 "cells": [
  {
   "cell_type": "markdown",
   "metadata": {},
   "source": [
    "## **LangChain LLM 호출 방식 정리**\n"
   ]
  },
  {
   "cell_type": "markdown",
   "metadata": {},
   "source": [
    "## 🚀 **전체 정리**\n",
    "| 메서드 | 동기/비동기 | 기능 | 사용 예제 |\n",
    "|--------|------------|------|----------|\n",
    "| `invoke()` | 동기 | 단일 요청 처리 | `chain.invoke({\"input\": \"질문\"})` |\n",
    "| `stream()` | 동기 | 실시간 스트리밍 응답 | `for chunk in chain.stream({\"input\": \"질문\"}): print(chunk.content)` |\n",
    "| `batch()` | 동기 | 여러 개의 요청 처리 (배치) | `chain.batch([{ \"input\": \"A\" }, { \"input\": \"B\" }])` |\n",
    "| `ainvoke()` | 비동기 | 단일 요청 처리 (async) | `await chain.ainvoke({\"input\": \"질문\"})` |\n",
    "| `astream()` | 비동기 | 실시간 스트리밍 응답 (async) | `async for chunk in chain.astream({\"input\": \"질문\"}): print(chunk.content)` |\n",
    "\n",
    "---\n",
    "\n",
    "## 🔥 **어떤 걸 써야 할까?**\n",
    "- **단일 요청 실행** → `invoke()`\n",
    "- **여러 개의 요청을 한 번에 실행 (배치)** → `batch()`\n",
    "- **실시간 응답 (스트리밍)** → `stream()`\n",
    "- **비동기 단일 요청 (FastAPI 등)** → `ainvoke()`\n",
    "- **비동기 실시간 스트리밍 응답** → `astream()`\n",
    "\n",
    "📌 **비동기 환경이 아니라면 `invoke()`와 `stream()`을 주로 사용하면 됩니다!** 🚀🔥\n"
   ]
  },
  {
   "cell_type": "markdown",
   "metadata": {},
   "source": [
    "\n",
    "### ✅ 1. `invoke()`\n",
    "#### 기능\n",
    "- 단일 입력을 받아 LLM을 호출하고 응답을 반환\n",
    "- 체인(`|`)을 사용하거나 직접 모델을 호출할 때 사용\n",
    "- **비동기 처리 X** (동기 방식)\n"
   ]
  },
  {
   "cell_type": "code",
   "execution_count": 4,
   "metadata": {},
   "outputs": [],
   "source": [
    "from langchain_groq import ChatGroq\n",
    "\n",
    "llm = ChatGroq(model = 'gemma2-9b-it', max_tokens=100)"
   ]
  },
  {
   "cell_type": "code",
   "execution_count": 5,
   "metadata": {},
   "outputs": [
    {
     "name": "stdout",
     "output_type": "stream",
     "text": [
      "## 자연어 처리 (Natural Language Processing, NLP) 에 대해 알려드릴게요!\n",
      "\n",
      "자연어 처리란 **컴퓨터가 인간이 사용하는 언어를 이해하고 처리할 수 있도록 하는 기술**입니다. \n",
      "\n",
      "쉽게 말해, 컴퓨터가 우리가 말하거나 쓰는 글을 읽고 이해하고, 그에 맞는 답변을 생성하거나 분석, 요약, 번역 등 다양한\n"
     ]
    }
   ],
   "source": [
    "### 예제\n",
    "response = llm.invoke(\"자연어처리란?\")\n",
    "print(response.content)"
   ]
  },
  {
   "cell_type": "markdown",
   "metadata": {},
   "source": [
    "\n",
    "\n",
    "### ✅ 2. `stream()`\n",
    "#### 기능\n",
    "- LLM 응답을 **스트리밍 방식**으로 받아옴\n",
    "- 부분적으로 생성된 응답을 실시간으로 처리 가능\n",
    "- **예: 채팅 앱, 실시간 응답이 필요한 경우**\n",
    "\n",
    "➡️ **모델의 응답을 한 번에 받는 것이 아니라, 토큰 단위로 부분 출력됨**\n"
   ]
  },
  {
   "cell_type": "code",
   "execution_count": 6,
   "metadata": {},
   "outputs": [
    {
     "name": "stdout",
     "output_type": "stream",
     "text": [
      "## 자연어 처리 (Natural Language Processing, NLP)란?\n",
      "\n",
      "자연어 처리 (NLP)는 컴퓨터가 인간이 사용하는 언어를 이해하고 처리하도록 하는 컴퓨터 과학 분야입니다. \n",
      "\n",
      "쉽게 말해, 컴퓨터가 사람처럼 말을 이해하고, 쓸 수 있도록 하는 기술입니다. \n",
      "\n",
      "**NLP는 다음과 같은 다양한 작업을 수행합니다.**\n",
      "\n",
      "* **"
     ]
    }
   ],
   "source": [
    "for chunk in llm.stream(\"자연어처리란?\"):\n",
    "    print(chunk.content, end=\"\", flush=True)"
   ]
  },
  {
   "cell_type": "markdown",
   "metadata": {},
   "source": [
    "\n",
    "\n",
    "### ✅ 3. `batch()`\n",
    "#### 기능\n",
    "- **여러 개의 입력을 한 번에 처리** (배치 처리)\n",
    "- 입력을 리스트로 받아 일괄 실행\n",
    "\n"
   ]
  },
  {
   "cell_type": "code",
   "execution_count": null,
   "metadata": {},
   "outputs": [
    {
     "name": "stdout",
     "output_type": "stream",
     "text": [
      "## 사용자의 질문에 친절하게 설명해주는 AI, 자연어처리란?\n",
      "\n",
      "네, 맞아요!  😊 \n",
      "\n",
      "사용자가 말하는 대로 이해하고, 사람처럼 자연스럽게 대답하는 AI 기술이 바로 **자연어처리(Natural Language Processing, NLP)**입니다. \n",
      "\n",
      "쉽게 말해, 🤖 **컴퓨터가 사람의 언어를 이해하고 사용할 수 있도록\n",
      "안녕하세요! 🤖 \n",
      "\n",
      "저는 친절하게 질문에 답변해드리는 AI입니다.\n",
      "\n",
      "**머신러닝**이란 컴퓨터가 사람처럼 학습하고 데이터를 이해하여 예측하거나 결정을 내리는 능력을 가진 컴퓨터 과학 분야입니다.  \n",
      "\n",
      "쉽게 말해서, \n",
      "\n",
      "* 사람이 수많은 사진을 보고 \"고양이\"와 \"개\"\n"
     ]
    }
   ],
   "source": [
    "from langchain_core.prompts import ChatPromptTemplate\n",
    "\n",
    "chat_prompt = ChatPromptTemplate.from_messages([\n",
    "    ('system', \"사용자의 질문에 대해 친절하게 설명해주는 AI\"),\n",
    "    ('user', \"{input}\"),\n",
    "])\n",
    "\n",
    "chain = chat_prompt | llm\n",
    "\n",
    "\n",
    "responses = chain.batch([\n",
    "    {\"input\": \"자연어처리란?\"},\n",
    "    {\"input\": \"머신러닝이란?\"}\n",
    "])\n",
    "\n",
    "for res in responses:\n",
    "    print(res.content)\n"
   ]
  },
  {
   "cell_type": "markdown",
   "metadata": {},
   "source": [
    "\n",
    "\n",
    "### ✅ 4. `ainvoke()`\n",
    "#### 기능\n",
    "- `invoke()`의 **비동기(async) 버전**\n",
    "- ✅ **비동기 환경 (FastAPI, AsyncIO 등)에서 사용**\n",
    "- ✅ **여러 개의 LLM 호출을 병렬 처리할 때**\n",
    "\n"
   ]
  },
  {
   "cell_type": "code",
   "execution_count": null,
   "metadata": {},
   "outputs": [
    {
     "name": "stdout",
     "output_type": "stream",
     "text": [
      "네, 친절하게 설명해드릴게요! \n",
      "\n",
      "**자연어 처리(Natural Language Processing, NLP)**는 컴퓨터가 인간처럼 자연어를 이해하고 처리할 수 있도록 하는 기술입니다. \n",
      "\n",
      "쉽게 말해, \n",
      "\n",
      "**우리가 사용하는 한국어나 영어 등의 언어를 컴퓨터가 읽고 이해하고, 컴퓨터가 만들어내는 텍스트를 사람이 읽\n"
     ]
    }
   ],
   "source": [
    "### 🔹 예제\n",
    "import asyncio\n",
    "\n",
    "response = await chain.ainvoke({\"input\": \"자연어처리란?\"})\n",
    "print(response.content)"
   ]
  },
  {
   "cell_type": "markdown",
   "metadata": {},
   "source": [
    "### ✅ 5. `astream()`\n",
    "#### 기능\n",
    "- `stream()`의 **비동기(async) 버전**\n",
    "- `await`과 함께 사용 가능\n",
    "\n",
    "#### 📌 언제 사용해야 할까?\n",
    "✅ **비동기 환경에서 실시간 스트리밍 응답이 필요할 때**\n",
    "✅ **웹소켓 기반 실시간 애플리케이션 (예: FastAPI WebSocket)**\n"
   ]
  },
  {
   "cell_type": "code",
   "execution_count": 23,
   "metadata": {},
   "outputs": [
    {
     "name": "stdout",
     "output_type": "stream",
     "text": [
      "네, 친절하게 설명해 드릴게요! 😊\n",
      "\n",
      "**AI 자연어 처리(AI Natural Language Processing, NLP)**는 인공지능(AI) 기술을 사용하여 컴퓨터가 인간의 언어를 이해하고 처리할 수 있도록 하는 분야입니다. 쉽게 말해서, 컴퓨터가 우리가 말하는 언어를 이해하고 대답하도록 만드는 기술이죠!\n",
      "\n",
      "**AI NLP는 다음"
     ]
    }
   ],
   "source": [
    "async for chunk in chain.astream({\"input\": \"자연어처리란?\"}):\n",
    "    print(chunk.content, end=\"\", flush=True)"
   ]
  }
 ],
 "metadata": {
  "kernelspec": {
   "display_name": "nlp",
   "language": "python",
   "name": "python3"
  },
  "language_info": {
   "codemirror_mode": {
    "name": "ipython",
    "version": 3
   },
   "file_extension": ".py",
   "mimetype": "text/x-python",
   "name": "python",
   "nbconvert_exporter": "python",
   "pygments_lexer": "ipython3",
   "version": "3.11.11"
  }
 },
 "nbformat": 4,
 "nbformat_minor": 2
}
