{
 "cells": [
  {
   "cell_type": "markdown",
   "metadata": {},
   "source": [
    "### **PromptTemplate**\n",
    "\n",
    "- PromptTemplate은 단일 문장 또는 간단한 명령을 입력하여 단일 문장 또는 간단한 응답을 생성하는 데 사용되는 프롬프트를 구성할 수 있는 문자열 템플릿 \n",
    "\n",
    "- Python의 문자열 포맷팅을 사용하여 동적으로 특정한 위치에 입력 값을 포함시킬 수 있음\n",
    "\n",
    "- 채팅 형식이 아닌 단일 질문을 던지거나 텍스트 요청 생성 시 사용"
   ]
  },
  {
   "cell_type": "markdown",
   "metadata": {},
   "source": [
    "### **문자열 템플릿**"
   ]
  },
  {
   "cell_type": "code",
   "execution_count": 5,
   "metadata": {},
   "outputs": [
    {
     "name": "stdout",
     "output_type": "stream",
     "text": [
      "안녕하세요 제 이름은 홍길동이고 나이는 17살 입니다.\n"
     ]
    }
   ],
   "source": [
    "from langchain_core.prompts import PromptTemplate\n",
    "\n",
    "text = '안녕하세요 제 이름은 {name}이고 나이는 {age}살 입니다.'\n",
    "\n",
    "prompt = PromptTemplate.from_template(text)\n",
    "\n",
    "format_p = prompt.format(name = '홍길동', age = '17')\n",
    "\n",
    "print(format_p)"
   ]
  },
  {
   "cell_type": "markdown",
   "metadata": {},
   "source": [
    "### **프롬프트 템플릿 간의 결합**\n",
    "\n",
    "- 문자열 + 문자열\n",
    "- PromptTemplate + PromptTemplate\n",
    "- PromptTemplate + 문자열"
   ]
  },
  {
   "cell_type": "code",
   "execution_count": 21,
   "metadata": {},
   "outputs": [],
   "source": [
    "combined_prompt = (\n",
    "    prompt\n",
    "    + PromptTemplate.from_template('\\n\\n당신의 이름은 뭐에요?')\n",
    "    + '\\n\\n {language}로 변역해주세요'\n",
    ")\n",
    "\n",
    "combined_format_p = combined_prompt.format(name=\"홍길동\", age=30, language=\"영어\")"
   ]
  },
  {
   "cell_type": "code",
   "execution_count": 27,
   "metadata": {},
   "outputs": [
    {
     "name": "stdout",
     "output_type": "stream",
     "text": [
      "Hello, my name is Hong Gil-dong and I am 30 years old.\n",
      "\n",
      "What is your name? \n",
      "\n",
      "\n"
     ]
    }
   ],
   "source": [
    "from langchain_groq import ChatGroq\n",
    "\n",
    "llm = ChatGroq(model = 'gemma2-9b-it',)\n",
    "\n",
    "response = llm.stream(combined_format_p)\n",
    "\n",
    "for chunk in response:\n",
    "    print(chunk.content, end = '', flush= True)"
   ]
  }
 ],
 "metadata": {
  "kernelspec": {
   "display_name": "chain",
   "language": "python",
   "name": "python3"
  },
  "language_info": {
   "codemirror_mode": {
    "name": "ipython",
    "version": 3
   },
   "file_extension": ".py",
   "mimetype": "text/x-python",
   "name": "python",
   "nbconvert_exporter": "python",
   "pygments_lexer": "ipython3",
   "version": "3.12.0"
  }
 },
 "nbformat": 4,
 "nbformat_minor": 2
}
