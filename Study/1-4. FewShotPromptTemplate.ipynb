{
 "cells": [
  {
   "cell_type": "code",
   "execution_count": 1,
   "metadata": {},
   "outputs": [],
   "source": [
    "examples = [\n",
    "    {\n",
    "        \"question\": \"지구의 대기 중 가장 많은 비율을 차지하는 기체는 무엇인가요?\",\n",
    "        \"answer\": \"지구 대기의 약 78%를 차지하는 질소입니다.\"\n",
    "    },\n",
    "    {\n",
    "        \"question\": \"광합성에 필요한 주요 요소들은 무엇인가요?\",\n",
    "        \"answer\": \"광합성에 필요한 주요 요소는 빛, 이산화탄소, 물입니다.\"\n",
    "    },\n",
    "    {\n",
    "        \"question\": \"피타고라스 정리를 설명해주세요.\",\n",
    "        \"answer\": \"피타고라스 정리는 직각삼각형에서 빗변의 제곱이 다른 두 변의 제곱의 합과 같다는 것입니다.\"\n",
    "    },\n",
    "    {\n",
    "        \"question\": \"지구의 자전 주기는 얼마인가요?\",\n",
    "        \"answer\": \"지구의 자전 주기는 약 24시간(정확히는 23시간 56분 4초)입니다.\"\n",
    "    },\n",
    "    {\n",
    "        \"question\": \"DNA의 기본 구조를 간단히 설명해주세요.\",\n",
    "        \"answer\": \"DNA는 두 개의 폴리뉴클레오티드 사슬이 이중 나선 구조를 이루고 있습니다.\"\n",
    "    },\n",
    "    {\n",
    "        \"question\": \"원주율(π)의 정의는 무엇인가요?\",\n",
    "        \"answer\": \"원주율(π)은 원의 지름에 대한 원의 둘레의 비율입니다.\"\n",
    "    }\n",
    "]\n"
   ]
  },
  {
   "cell_type": "code",
   "execution_count": 5,
   "metadata": {},
   "outputs": [
    {
     "data": {
      "text/plain": [
       "PromptTemplate(input_variables=['answer', 'question'], input_types={}, partial_variables={}, template='질문: {question}\\n{answer}')"
      ]
     },
     "execution_count": 5,
     "metadata": {},
     "output_type": "execute_result"
    }
   ],
   "source": [
    "from langchain_core.prompts import PromptTemplate\n",
    "\n",
    "example_prompt = PromptTemplate.from_template(\"질문: {question}\\n{answer}\")\n",
    "\n",
    "example_prompt"
   ]
  },
  {
   "cell_type": "code",
   "execution_count": 15,
   "metadata": {},
   "outputs": [
    {
     "name": "stdout",
     "output_type": "stream",
     "text": [
      "질문: 지구의 대기 중 가장 많은 비율을 차지하는 기체는 무엇인가요?\n",
      "지구 대기의 약 78%를 차지하는 질소입니다.\n",
      "\n",
      "질문: 광합성에 필요한 주요 요소들은 무엇인가요?\n",
      "광합성에 필요한 주요 요소는 빛, 이산화탄소, 물입니다.\n",
      "\n",
      "질문: 피타고라스 정리를 설명해주세요.\n",
      "피타고라스 정리는 직각삼각형에서 빗변의 제곱이 다른 두 변의 제곱의 합과 같다는 것입니다.\n",
      "\n",
      "질문: 지구의 자전 주기는 얼마인가요?\n",
      "지구의 자전 주기는 약 24시간(정확히는 23시간 56분 4초)입니다.\n",
      "\n",
      "질문: DNA의 기본 구조를 간단히 설명해주세요.\n",
      "DNA는 두 개의 폴리뉴클레오티드 사슬이 이중 나선 구조를 이루고 있습니다.\n",
      "\n",
      "질문: 원주율(π)의 정의는 무엇인가요?\n",
      "원주율(π)은 원의 지름에 대한 원의 둘레의 비율입니다.\n",
      "\n",
      "질문: 화성의 표면이 붉은 이유는 무엇인가요?\n"
     ]
    }
   ],
   "source": [
    "from langchain_core.prompts import FewShotPromptTemplate\n",
    "\n",
    "# FewShotPromptTemplate을 생성합니다.\n",
    "prompt = FewShotPromptTemplate(\n",
    "    examples=examples,              # 사용할 예제들\n",
    "    example_prompt=example_prompt,  # 예제 포맷팅에 사용할 템플릿\n",
    "    suffix=\"질문: {input}\",          # 예제 뒤에 추가될 접미사\n",
    "    input_variables=[\"input\"],      # 입력 변수 지정\n",
    ")\n",
    "\n",
    "# 새로운 질문에 대한 프롬프트를 생성하고 출력합니다.\n",
    "print(prompt.invoke({\"input\": \"화성의 표면이 붉은 이유는 무엇인가요?\"}).to_string())"
   ]
  },
  {
   "cell_type": "code",
   "execution_count": null,
   "metadata": {},
   "outputs": [
    {
     "name": "stdout",
     "output_type": "stream",
     "text": [
      "입력과 가장 유사한 예제: 화성의 표면이 붉은 이유는 무엇인가요?\n",
      "\n",
      "\n",
      "answer: 지구 대기의 약 78%를 차지하는 질소입니다.\n",
      "question: 지구의 대기 중 가장 많은 비율을 차지하는 기체는 무엇인가요?\n"
     ]
    }
   ],
   "source": [
    "from langchain_chroma import Chroma\n",
    "from langchain_core.example_selectors import SemanticSimilarityExampleSelector\n",
    "from langchain_openai import OpenAIEmbeddings\n",
    "\n",
    "# SemanticSimilarityExampleSelector를 초기화합니다.\n",
    "example_selector = SemanticSimilarityExampleSelector.from_examples(\n",
    "    examples,            # 사용할 예제들\n",
    "    OpenAIEmbeddings(),  # 임베딩 모델\n",
    "    Chroma,      v in example.items():        # 벡터 저장소\n",
    "    k=1,                 # 선택할 예제 수\n",
    ")\n",
    "\n",
    "# 새로운 질문에 대해 가장 유사한 예제를 선택합니다.\n",
    "question = \"화성의 표면이 붉은 이유는 무엇인가요?\"\n",
    "selected_examples = example_selector.select_examples({\"question\": question})\n",
    "print(f\"입력과 가장 유사한 예제: {question}\")\n",
    "for example in selected_examples:\n",
    "    print(\"\\n\")\n",
    "    for k, \n",
    "        print(f\"{k}: {v}\")\n"
   ]
  },
  {
   "cell_type": "code",
   "execution_count": null,
   "metadata": {},
   "outputs": [],
   "source": []
  },
  {
   "cell_type": "code",
   "execution_count": null,
   "metadata": {},
   "outputs": [],
   "source": []
  }
 ],
 "metadata": {
  "kernelspec": {
   "display_name": "chain",
   "language": "python",
   "name": "python3"
  },
  "language_info": {
   "codemirror_mode": {
    "name": "ipython",
    "version": 3
   },
   "file_extension": ".py",
   "mimetype": "text/x-python",
   "name": "python",
   "nbconvert_exporter": "python",
   "pygments_lexer": "ipython3",
   "version": "3.12.0"
  }
 },
 "nbformat": 4,
 "nbformat_minor": 2
}
