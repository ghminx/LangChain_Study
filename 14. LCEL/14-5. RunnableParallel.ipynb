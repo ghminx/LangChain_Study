{
 "cells": [
  {
   "cell_type": "markdown",
   "metadata": {},
   "source": [
    "### **RunnableParallel**\n",
    "\n",
    "데이터를 병렬로 조작하는 Runnable \n",
    "\n",
    "- 하나의 `Runnable` 의 출력을 다음 `Runnable` 의 입력 형식에 맞게 조작하는 데 유용하게 사용"
   ]
  },
  {
   "cell_type": "code",
   "execution_count": 1,
   "metadata": {},
   "outputs": [],
   "source": [
    "from operator import itemgetter \n",
    "from langchain_openai import ChatOpenAI, OpenAIEmbeddings\n",
    "from langchain_core.output_parsers import StrOutputParser\n",
    "from langchain_community.vectorstores import FAISS\n",
    "from langchain_core.prompts import PromptTemplate, ChatPromptTemplate"
   ]
  },
  {
   "cell_type": "code",
   "execution_count": null,
   "metadata": {},
   "outputs": [
    {
     "data": {
      "text/plain": [
       "'테디의 직업은 AI 엔지니어입니다.'"
      ]
     },
     "execution_count": 12,
     "metadata": {},
     "output_type": "execute_result"
    }
   ],
   "source": [
    "vectorstore = FAISS.from_texts(\n",
    "    [\"Teddy is an AI engineer who loves programming!\"], embedding=OpenAIEmbeddings()\n",
    ")\n",
    "\n",
    "retriever = vectorstore.as_retriever()\n",
    "\n",
    "prompt = PromptTemplate.from_template(\n",
    "    \"\"\"Answer the question based only on the following context:\n",
    "{context}\n",
    "\n",
    "Question: {question}\n",
    "\n",
    "Answer in the following language: {language}\n",
    "\"\"\"\n",
    ")\n",
    "# 체인을 구성합니다.\n",
    "chain = (\n",
    "    {\n",
    "        \"context\": itemgetter(\"question\") | retriever,\n",
    "        \"question\": itemgetter(\"question\"),\n",
    "        \"language\": itemgetter(\"language\"),\n",
    "    }\n",
    "    | prompt\n",
    "    | ChatOpenAI(model=\"gpt-4o-mini\")\n",
    "    | StrOutputParser()\n",
    ")\n",
    "\n",
    "chain.invoke({\"question\": \"What is Teddy's occupation?\", \"language\": \"Korean\"})"
   ]
  },
  {
   "cell_type": "markdown",
   "metadata": {},
   "source": [
    "### **병렬처리 단계적 이해**\n",
    "\n",
    "- `RunnableParallel`을 사용하여 여러 Runnable을 병렬적으로 실행"
   ]
  },
  {
   "cell_type": "code",
   "execution_count": 25,
   "metadata": {},
   "outputs": [
    {
     "data": {
      "text/plain": [
       "{'capital': '미국의 수도는 워싱턴 D.C.입니다. \\n\\n서울과 워싱턴 D.C. 사이의 거리는 측정 방법에 따라 다를 수 있는데, 보통 직선(대권) 거리는 약 11,000km 정도로 알려져 있습니다. 실제 항공편으로 이동할 경우 경로, 경유지, 기상 여건 등에 따라 거리가 달라질 수 있으니 참고용으로 이해하시면 좋겠습니다.',\n",
       " 'area': '아래는 대략적인 수치입니다(출처나 계산 방식에 따라 약간의 차이가 있을 수 있습니다).\\n\\n1. 미국의 전체 면적(육지 및 수역 포함)은 약 9,833,520 제곱킬로미터입니다.  \\n2. 서울의 면적은 약 605 제곱킬로미터 정도입니다.\\n\\n따라서 두 지역의 면적 차이는  \\n\\u2003\\u20039,833,520 km² – 605 km² ≒ 9,832,915 km²  \\n이며, 미국의 면적은 서울의 면적보다 약 16,250배 정도 큽니다.'}"
      ]
     },
     "execution_count": 25,
     "metadata": {},
     "output_type": "execute_result"
    }
   ],
   "source": [
    "from langchain_core.prompts import PromptTemplate\n",
    "from langchain_core.runnables import RunnableParallel\n",
    "from langchain_openai import ChatOpenAI\n",
    "\n",
    "llm = ChatOpenAI(model = 'o3-mini') \n",
    "\n",
    "# 수도 질문 Chain\n",
    "capital_chain = (\n",
    "    PromptTemplate.from_template(\"{country} 의 수도는 어디입니까?, {city}와의 거리는 얼마입니까\")\n",
    "    | llm\n",
    "    | StrOutputParser()\n",
    ")\n",
    "\n",
    "# 면적 질문 Chain\n",
    "area_chain = (\n",
    "    PromptTemplate.from_template(\"{country} 의 면적은 얼마입니까?, {city}와의 크기차이는 얼마입니까 면적의 단위는 제곱킬로미터로 계산해주세요\")\n",
    "    | llm\n",
    "    | StrOutputParser()\n",
    ")\n",
    "\n",
    "# capital_chain, area_chain을 RunnableParallel로 묶음\n",
    "map_chain = RunnableParallel(capital=capital_chain, area=area_chain)\n",
    "\n",
    "map_chain.invoke({'country': '미국', 'city': '서울'})"
   ]
  }
 ],
 "metadata": {
  "kernelspec": {
   "display_name": "nlp",
   "language": "python",
   "name": "python3"
  },
  "language_info": {
   "codemirror_mode": {
    "name": "ipython",
    "version": 3
   },
   "file_extension": ".py",
   "mimetype": "text/x-python",
   "name": "python",
   "nbconvert_exporter": "python",
   "pygments_lexer": "ipython3",
   "version": "3.11.11"
  }
 },
 "nbformat": 4,
 "nbformat_minor": 2
}
