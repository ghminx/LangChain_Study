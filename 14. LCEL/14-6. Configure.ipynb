{
 "cells": [
  {
   "cell_type": "markdown",
   "metadata": {},
   "source": [
    "### **configurable**\n",
    "\n",
    "다양한 옵션(Model, Prompt)을 동적으로 설정 할 수 있는 방법 \n",
    "\n",
    "- `configurable_fields` \n",
    "    - 실행 가능한 객체의 특정 필드 구성\n",
    "\n",
    "- `configurable_alternatives`\n",
    "    - 런타임 중에 설정할 수 있는 특정 실행 가능한 객체애 대한 대안 나열"
   ]
  },
  {
   "cell_type": "markdown",
   "metadata": {},
   "source": [
    "### **configurable_fields**\n",
    "\n",
    "시스템의 설정 값을 정의하는 필드\n",
    "\n",
    "- 시스템의 동작 제어, 사용자의 요구사항에 맞는 시스템 구성\n",
    "- 설정 파일, 환경 변수, 사용자 인터페이스를 통해 제공\n",
    "- DB연결 정보, 로깅 설정, 보안 옵션, 파라미터 튜닝"
   ]
  },
  {
   "cell_type": "code",
   "execution_count": 3,
   "metadata": {},
   "outputs": [],
   "source": [
    "from langchain.prompts import PromptTemplate\n",
    "from langchain_core.runnables import ConfigurableField\n",
    "from langchain_openai import ChatOpenAI"
   ]
  },
  {
   "cell_type": "code",
   "execution_count": null,
   "metadata": {},
   "outputs": [
    {
     "data": {
      "text/plain": [
       "{'content': '대한민국의 수도는 서울이야.',\n",
       " 'additional_kwargs': {'refusal': None},\n",
       " 'response_metadata': {'token_usage': {'completion_tokens': 17,\n",
       "   'prompt_tokens': 22,\n",
       "   'total_tokens': 39,\n",
       "   'completion_tokens_details': {'accepted_prediction_tokens': 0,\n",
       "    'audio_tokens': 0,\n",
       "    'reasoning_tokens': 0,\n",
       "    'rejected_prediction_tokens': 0},\n",
       "   'prompt_tokens_details': {'audio_tokens': 0, 'cached_tokens': 0}},\n",
       "  'model_name': 'gpt-3.5-turbo-0125',\n",
       "  'system_fingerprint': None,\n",
       "  'id': 'chatcmpl-BGQR68TLLw7wfI4G16oD5jfM8BfNJ',\n",
       "  'finish_reason': 'stop',\n",
       "  'logprobs': None},\n",
       " 'type': 'ai',\n",
       " 'name': None,\n",
       " 'id': 'run-1ad8fd22-7482-4028-99da-c4b9d2297a00-0',\n",
       " 'example': False,\n",
       " 'tool_calls': [],\n",
       " 'invalid_tool_calls': [],\n",
       " 'usage_metadata': {'input_tokens': 22,\n",
       "  'output_tokens': 17,\n",
       "  'total_tokens': 39,\n",
       "  'input_token_details': {'audio': 0, 'cache_read': 0},\n",
       "  'output_token_details': {'audio': 0, 'reasoning': 0}}}"
      ]
     },
     "execution_count": 2,
     "metadata": {},
     "output_type": "execute_result"
    }
   ],
   "source": [
    "# 기본 사용 했을때의 정보 \n",
    "model = ChatOpenAI(temperature=0, model_name=\"gpt-4o\")\n",
    "\n",
    "model.invoke(\"대한민국의 수도는 어디야?\").__dict__"
   ]
  },
  {
   "cell_type": "code",
   "execution_count": null,
   "metadata": {},
   "outputs": [],
   "source": [
    "# Model Name 동적 정의\n",
    "model = ChatOpenAI().configurable_fields(\n",
    "    model_name = ConfigurableField(\n",
    "    id = 'gpt_version',\n",
    "    name = 'Version of GPT',\n",
    "    description = 'Get the version of GPT ex) gpt-4o, gpt-3.5-turbo, etc'\n",
    "    )\n",
    ")"
   ]
  },
  {
   "cell_type": "code",
   "execution_count": 44,
   "metadata": {},
   "outputs": [
    {
     "data": {
      "text/plain": [
       "'gpt-4o-2024-08-06'"
      ]
     },
     "execution_count": 44,
     "metadata": {},
     "output_type": "execute_result"
    }
   ],
   "source": [
    "model.invoke(\n",
    "    \"대한민국의 수도는 어디야?\",\n",
    "    config={\"configurable\": {\"gpt_version\": \"gpt-4o\"}},\n",
    ").response_metadata['model_name']"
   ]
  },
  {
   "cell_type": "code",
   "execution_count": 45,
   "metadata": {},
   "outputs": [
    {
     "data": {
      "text/plain": [
       "'gpt-4o-mini-2024-07-18'"
      ]
     },
     "execution_count": 45,
     "metadata": {},
     "output_type": "execute_result"
    }
   ],
   "source": [
    "model.invoke(\n",
    "    \"대한민국의 수도는 어디야?\",\n",
    "    config={\"configurable\": {\"gpt_version\": \"gpt-4o-mini\"}},\n",
    ").response_metadata['model_name']"
   ]
  },
  {
   "cell_type": "code",
   "execution_count": 46,
   "metadata": {},
   "outputs": [
    {
     "data": {
      "text/plain": [
       "'gpt-4o-mini-2024-07-18'"
      ]
     },
     "execution_count": 46,
     "metadata": {},
     "output_type": "execute_result"
    }
   ],
   "source": [
    "# 모델에서 정의 \n",
    "model.with_config(configurable={\"gpt_version\": \"gpt-4o-mini\"}).invoke(\n",
    "    \"대한민국의 수도는 어디야?\"\n",
    ").response_metadata['model_name']"
   ]
  },
  {
   "cell_type": "markdown",
   "metadata": {},
   "source": [
    "### **Chain 설정**"
   ]
  },
  {
   "cell_type": "code",
   "execution_count": null,
   "metadata": {},
   "outputs": [],
   "source": [
    "prompt = PromptTemplate.from_template('{topic}에 대해 설명해줘')\n",
    "chain = prompt | model"
   ]
  },
  {
   "cell_type": "code",
   "execution_count": null,
   "metadata": {},
   "outputs": [
    {
     "data": {
      "text/plain": [
       "'gpt-4o-mini-2024-07-18'"
      ]
     },
     "execution_count": 50,
     "metadata": {},
     "output_type": "execute_result"
    }
   ],
   "source": [
    "# invoke를 호출 하면서 configurable을 설정하여 모델 변경\n",
    "chain.invoke('대한민국수도', config={\"configurable\": {\"gpt_version\": \"gpt-4o-mini\"}}).response_metadata['model_name']"
   ]
  },
  {
   "cell_type": "code",
   "execution_count": null,
   "metadata": {},
   "outputs": [
    {
     "data": {
      "text/plain": [
       "'gpt-4o-mini-2024-07-18'"
      ]
     },
     "execution_count": 51,
     "metadata": {},
     "output_type": "execute_result"
    }
   ],
   "source": [
    "# 체인에서 모델을 정의하고 invoke로 llm 호출\n",
    "chain.with_config(configurable={\"gpt_version\": \"gpt-4o-mini\"}).invoke(\"대한민국의 수도\").response_metadata['model_name']"
   ]
  },
  {
   "cell_type": "markdown",
   "metadata": {},
   "source": [
    "### **Configurable Alternatives: Runnable 객체 자체의 대안 설정**\n",
    "\n",
    "- 서로다른 모델 API 과 Prompt를 사용 가능하게 함"
   ]
  },
  {
   "cell_type": "code",
   "execution_count": 61,
   "metadata": {},
   "outputs": [],
   "source": [
    "from langchain.prompts import PromptTemplate\n",
    "from langchain_groq import  ChatGroq\n",
    "from langchain_core.runnables import ConfigurableField\n",
    "from langchain_openai import ChatOpenAI\n",
    "\n",
    "llm = ChatOpenAI(\n",
    "    temperature=0, model=\"gpt-4o\"\n",
    ").configurable_alternatives(\n",
    "    \n",
    "    # id 설정    \n",
    "    ConfigurableField(id=\"llm\"),\n",
    "\n",
    "    # default 설정\n",
    "    default_key=\"anthropic\",\n",
    "    \n",
    "    # 대체 모델 설정(gpt-4o-mini, gemma2-9b-it)\n",
    "    mini = ChatOpenAI(model=\"gpt-4o-mini\"),\n",
    "    \n",
    "    gemma = ChatGroq(model =\"gemma2-9b-it\")\n",
    "    \n",
    ")\n",
    "prompt = PromptTemplate.from_template(\"{topic} 에 대해 간단히 설명해주세요.\")\n",
    "chain = prompt | llm"
   ]
  },
  {
   "cell_type": "code",
   "execution_count": 58,
   "metadata": {},
   "outputs": [
    {
     "data": {
      "text/plain": [
       "'gpt-4o-2024-08-06'"
      ]
     },
     "execution_count": 58,
     "metadata": {},
     "output_type": "execute_result"
    }
   ],
   "source": [
    "# default 설정으로 실행\n",
    "chain.invoke('뉴진스').response_metadata['model_name']"
   ]
  },
  {
   "cell_type": "code",
   "execution_count": 59,
   "metadata": {},
   "outputs": [
    {
     "data": {
      "text/plain": [
       "'gemma2-9b-it'"
      ]
     },
     "execution_count": 59,
     "metadata": {},
     "output_type": "execute_result"
    }
   ],
   "source": [
    "# 체인에서 모델을 정의하고 invoke로 llm 호출\n",
    "chain.with_config(configurable={'llm' : 'gemma'}).invoke('뉴진스').response_metadata['model_name']"
   ]
  },
  {
   "cell_type": "code",
   "execution_count": 63,
   "metadata": {},
   "outputs": [
    {
     "data": {
      "text/plain": [
       "'gpt-4o-mini-2024-07-18'"
      ]
     },
     "execution_count": 63,
     "metadata": {},
     "output_type": "execute_result"
    }
   ],
   "source": [
    "# chain.invoke('뉴진스', configurable={'llm' : 'mini'}).response_metadata['model_name'] => 이거 안됨 => with_config로 설정해야함\n",
    "chain.with_config(configurable={'llm' : 'mini'}).invoke('뉴진스').response_metadata['model_name']"
   ]
  },
  {
   "cell_type": "markdown",
   "metadata": {},
   "source": [
    "### **Prompt 대안 설정**"
   ]
  },
  {
   "cell_type": "code",
   "execution_count": 78,
   "metadata": {},
   "outputs": [],
   "source": [
    "llm = ChatOpenAI(model = 'gpt-4o')\n",
    "\n",
    "prompt = PromptTemplate.from_template(\"{country} 의 수도는 어디야?\").configurable_alternatives(\n",
    "    \n",
    "    # id 설정\n",
    "    ConfigurableField(id=\"prompt\"),\n",
    "\n",
    "    # default 설정\n",
    "    default_key=\"capital\",\n",
    "\n",
    "    # 여러가지 프롬프트 설정\n",
    "    area=PromptTemplate.from_template(\"{country} 의 면적은 얼마야?\"),\n",
    "    population=PromptTemplate.from_template(\"{country} 의 인구는 얼마야?\"),\n",
    "    eng=PromptTemplate.from_template(\"{input} 을 영어로 번역해주세요. 번역된 결과만 제공해주세요\"),\n",
    ")\n",
    "\n",
    "chain = prompt | llm"
   ]
  },
  {
   "cell_type": "code",
   "execution_count": 74,
   "metadata": {},
   "outputs": [
    {
     "data": {
      "text/plain": [
       "'대한민국의 수도는 서울특별시입니다.'"
      ]
     },
     "execution_count": 74,
     "metadata": {},
     "output_type": "execute_result"
    }
   ],
   "source": [
    "# default 설정\n",
    "chain.invoke('대한민국').content"
   ]
  },
  {
   "cell_type": "code",
   "execution_count": 75,
   "metadata": {},
   "outputs": [
    {
     "data": {
      "text/plain": [
       "'대한민국의 면적은 약 100,210 평방킬로미터입니다.'"
      ]
     },
     "execution_count": 75,
     "metadata": {},
     "output_type": "execute_result"
    }
   ],
   "source": [
    "chain.with_config(configurable={'prompt' : 'area'}).invoke('대한민국').content"
   ]
  },
  {
   "cell_type": "code",
   "execution_count": 76,
   "metadata": {},
   "outputs": [
    {
     "data": {
      "text/plain": [
       "'2023년 기준으로 대한민국의 인구는 약 5,100만 명 정도입니다. 정확한 인구 수치는 시간에 따라 변동될 수 있으므로 최신 통계를 참고하는 것이 좋습니다.'"
      ]
     },
     "execution_count": 76,
     "metadata": {},
     "output_type": "execute_result"
    }
   ],
   "source": [
    "chain.with_config(configurable={'prompt' : 'population'}).invoke('대한민국').content"
   ]
  },
  {
   "cell_type": "code",
   "execution_count": 79,
   "metadata": {},
   "outputs": [
    {
     "data": {
      "text/plain": [
       "'Hello, nice to meet you. I am currently studying LangChain.'"
      ]
     },
     "execution_count": 79,
     "metadata": {},
     "output_type": "execute_result"
    }
   ],
   "source": [
    "chain.with_config(configurable={'prompt' : 'eng'}).invoke('안녕하세요 반가워요 나는 지금 LangChain 공부중입니다').content"
   ]
  },
  {
   "cell_type": "markdown",
   "metadata": {},
   "source": [
    "### **Model & Prompt**"
   ]
  },
  {
   "cell_type": "code",
   "execution_count": 80,
   "metadata": {},
   "outputs": [],
   "source": [
    "llm = ChatOpenAI(\n",
    "    temperature=0, model=\"gpt-4o\"\n",
    ").configurable_alternatives(\n",
    "    \n",
    "    # id 설정    \n",
    "    ConfigurableField(id=\"llm\"),\n",
    "\n",
    "    # default 설정\n",
    "    default_key=\"anthropic\",\n",
    "    \n",
    "    # 대체 모델 설정(gpt-4o-mini, gemma2-9b-it)\n",
    "    mini = ChatOpenAI(model=\"gpt-4o-mini\"),\n",
    "    \n",
    "    gemma = ChatGroq(model =\"gemma2-9b-it\")\n",
    "    \n",
    ")\n",
    "\n",
    "prompt = PromptTemplate.from_template(\"{country} 의 수도는 어디야?\").configurable_alternatives(\n",
    "    \n",
    "    # id 설정\n",
    "    ConfigurableField(id=\"prompt\"),\n",
    "\n",
    "    # default 설정\n",
    "    default_key=\"capital\",\n",
    "\n",
    "    # 여러가지 프롬프트 설정\n",
    "    area=PromptTemplate.from_template(\"{country} 의 면적은 얼마야?\"),\n",
    "    population=PromptTemplate.from_template(\"{country} 의 인구는 얼마야?\"),\n",
    "    eng=PromptTemplate.from_template(\"{input} 을 영어로 번역해주세요. 번역된 결과만 제공해주세요\"),\n",
    ")\n",
    "\n",
    "chain = prompt | llm"
   ]
  },
  {
   "cell_type": "code",
   "execution_count": 86,
   "metadata": {},
   "outputs": [
    {
     "data": {
      "text/plain": [
       "('대한민국의 수도는 서울입니다.', 'gpt-4o-2024-08-06')"
      ]
     },
     "execution_count": 86,
     "metadata": {},
     "output_type": "execute_result"
    }
   ],
   "source": [
    "# default 설정\n",
    "response = chain.invoke('대한민국')\n",
    "response.content, response.response_metadata['model_name']"
   ]
  },
  {
   "cell_type": "code",
   "execution_count": null,
   "metadata": {},
   "outputs": [
    {
     "data": {
      "text/plain": [
       "('대한민국의 면적은 약 100,210 평방킬로미터입니다. 이는 한반도의 남쪽 부분에 해당하며, 국토의 대부분이 산지와 평지로 구성되어 있습니다.',\n",
       " 'gpt-4o-mini-2024-07-18')"
      ]
     },
     "execution_count": 87,
     "metadata": {},
     "output_type": "execute_result"
    }
   ],
   "source": [
    "# LLM, Prompt 동시 설정\n",
    "response = chain.with_config(configurable = {'prompt' : 'area', 'llm' : 'mini'}).invoke('대한민국')\n",
    "response.content, response.response_metadata['model_name']"
   ]
  },
  {
   "cell_type": "code",
   "execution_count": 88,
   "metadata": {},
   "outputs": [
    {
     "data": {
      "text/plain": [
       "('대한민국의 수도는 **서울**입니다. 😊  \\n', 'gemma2-9b-it')"
      ]
     },
     "execution_count": 88,
     "metadata": {},
     "output_type": "execute_result"
    }
   ],
   "source": [
    "# LLM만 설정\n",
    "response = chain.with_config(configurable = {'llm' : 'gemma'}).invoke('대한민국')\n",
    "response.content, response.response_metadata['model_name']"
   ]
  },
  {
   "cell_type": "code",
   "execution_count": 89,
   "metadata": {},
   "outputs": [
    {
     "data": {
      "text/plain": [
       "('2023년 기준으로 대한민국의 인구는 약 5,100만 명 정도로 추산됩니다. 정확한 수치는 통계청이나 관련 기관의 최신 자료를 참조하는 것이 좋습니다.',\n",
       " 'gpt-4o-2024-08-06')"
      ]
     },
     "execution_count": 89,
     "metadata": {},
     "output_type": "execute_result"
    }
   ],
   "source": [
    "# Prompt만 설정\n",
    "response = chain.with_config(configurable = {'prompt' : 'population'}).invoke('대한민국')\n",
    "response.content, response.response_metadata['model_name']"
   ]
  },
  {
   "cell_type": "markdown",
   "metadata": {},
   "source": [
    "### **설정 저장**"
   ]
  },
  {
   "cell_type": "code",
   "execution_count": 90,
   "metadata": {},
   "outputs": [
    {
     "data": {
      "text/plain": [
       "('대한민국의 수도는 서울입니다.', 'gpt-4o-mini-2024-07-18')"
      ]
     },
     "execution_count": 90,
     "metadata": {},
     "output_type": "execute_result"
    }
   ],
   "source": [
    "gpt4o_mini = chain.with_config(configurable = {'llm' : 'mini'})\n",
    "response = gpt4o_mini.invoke('대한민국')\n",
    "response.content, response.response_metadata['model_name']"
   ]
  }
 ],
 "metadata": {
  "kernelspec": {
   "display_name": "nlp",
   "language": "python",
   "name": "python3"
  },
  "language_info": {
   "codemirror_mode": {
    "name": "ipython",
    "version": 3
   },
   "file_extension": ".py",
   "mimetype": "text/x-python",
   "name": "python",
   "nbconvert_exporter": "python",
   "pygments_lexer": "ipython3",
   "version": "3.11.11"
  }
 },
 "nbformat": 4,
 "nbformat_minor": 2
}
