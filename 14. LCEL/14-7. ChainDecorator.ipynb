{
 "cells": [
  {
   "cell_type": "markdown",
   "metadata": {},
   "source": [
    "### **Decorator를 이용한 Runnable 생성** \n",
    "\n",
    "- `@chain` 데코레이터로 임의의 함수를 체은으로 변환\n",
    "- `RunnableLambda`로 래핑하는 것과 기능적으로 동일"
   ]
  },
  {
   "cell_type": "code",
   "execution_count": 2,
   "metadata": {},
   "outputs": [],
   "source": [
    "from langchain_core.output_parsers import StrOutputParser\n",
    "from langchain_core.prompts import ChatPromptTemplate\n",
    "from langchain_core.runnables import chain\n",
    "from langchain_openai import ChatOpenAI\n",
    "from langchain_core.runnables import RunnableParallel\n",
    "from langchain_teddynote import logging"
   ]
  },
  {
   "cell_type": "code",
   "execution_count": 3,
   "metadata": {},
   "outputs": [
    {
     "name": "stdout",
     "output_type": "stream",
     "text": [
      "LangSmith 추적을 시작합니다.\n",
      "[프로젝트명]\n",
      "Decorator\n"
     ]
    }
   ],
   "source": [
    "logging.langsmith('Decorator')"
   ]
  },
  {
   "cell_type": "code",
   "execution_count": 5,
   "metadata": {},
   "outputs": [],
   "source": [
    "# 모델 설정\n",
    "llm = ChatOpenAI(model = 'gpt-4o-mini')\n",
    "\n",
    "# Prompt 정의\n",
    "prompt1 = ChatPromptTemplate.from_template(\"{topic} 에 대해 짧게 한글로 설명해주세요.\")\n",
    "prompt2 = ChatPromptTemplate.from_template(\n",
    "    \"{sentence} 를 emoji를 활용한 인스타그램 게시글로 만들어주세요.\"\n",
    ")"
   ]
  },
  {
   "cell_type": "markdown",
   "metadata": {},
   "source": [
    "### **RunnableParallel을 이용한 병렬처리**\n",
    "\n",
    "@chain과는 다른 방식으로 진행되는걸 보기 위해 Parallel로 만들어봄 \n",
    "\n",
    "- `RunnableParallel`는 순차적 진행이 아닌 별개의 체인으로 실행됨"
   ]
  },
  {
   "cell_type": "code",
   "execution_count": 10,
   "metadata": {},
   "outputs": [
    {
     "data": {
      "text/plain": [
       "{'first': \"양자역학은 미시 세계의 물질과 에너지의 행동을 설명하는 물리학의 한 분야입니다. 고전 물리학과 다르게, 양자역학에서는 입자가 파동과 같은 성질을 가지며, 그 상태가 확률적으로 나타나는 원리를 다룹니다. 예를 들어, 입자의 위치와 속도를 동시에 정확하게 알 수 없는 '불확정성 원리'가 존재하며, 이는 기존의 물리 법칙과는 다른 독특한 특성을 제공합니다. 양자역학은 원자, 분자, 소립자 등의 행동을 이해하는 데 중요한 역할을 하며, 현대 기술의 많은 기초가 되기도 합니다.\",\n",
       " 'second': '물론이죠! 양자역학을 주제로 한 인스타그램 게시글을 emoji와 함께 만들어 보겠습니다.\\n\\n---\\n\\n✨🔬 양자역학의 세계에 오신 것을 환영합니다! 🔍💫\\n\\n👨\\u200d🔬🔭 작은 입자들이 만들어내는 신비로운 현상들! 💥🌌\\n\\n1️⃣ 불확정성 원리 😮➡️ \"어디에 있는지, 얼마나 빠른지 동시에 알 수 없다!\" 🌀❓\\n2️⃣ 얽힘 현상 🕊️💞: \"거리와 상관없이 연결된 입자들!\" 🌍❤️\\n3️⃣ 파동-입자 이중성 🎭🌊: \"입자는 때때로 파동처럼 행동해!\" 🎶🎉\\n\\n🌌✨ 이 모든 것이 우주를 형성하고 있습니다! 🪐🔭\\n\\n🔗🌐 #양자역학 #QuantumMechanics #우주의신비 #PhysicsNerd #우주 #ScienceIsAwesome\\n\\n---\\n\\n이와 같은 게시글로 양자역학의 매력을 전할 수 있을 것입니다! 😊'}"
      ]
     },
     "execution_count": 10,
     "metadata": {},
     "output_type": "execute_result"
    }
   ],
   "source": [
    "chain1 = prompt1 | llm | StrOutputParser()\n",
    "chain2 = prompt2 | llm | StrOutputParser()\n",
    "\n",
    "# RunnableParallel 설정\n",
    "runnable_chain = RunnableParallel(first = chain1, second = chain2)\n",
    "\n",
    "runnable_chain.invoke('양자역학')"
   ]
  },
  {
   "cell_type": "markdown",
   "metadata": {},
   "source": [
    "### **기본 사용**"
   ]
  },
  {
   "cell_type": "code",
   "execution_count": null,
   "metadata": {},
   "outputs": [],
   "source": [
    "# 첫번째 체인\n",
    "chain1 = prompt1 | llm | StrOutputParser()\n",
    "output1 = chain1.invoke('양자역학')\n",
    "\n",
    "# 두번째 체인\n",
    "chain2 = prompt2 | llm | StrOutputParser()\n",
    "output2 = chain2.invoke(output1)\n",
    "output2"
   ]
  },
  {
   "cell_type": "markdown",
   "metadata": {},
   "source": [
    "### **@chain**"
   ]
  },
  {
   "cell_type": "code",
   "execution_count": null,
   "metadata": {},
   "outputs": [
    {
     "data": {
      "text/plain": [
       "'🌌✨ 양자역학의 세계에 오신 것을 환영합니다! ✨🌌\\n\\n양자역학은 물질과 에너지를 이해하는 신비로운 🔍 물리학의 한 영역으로, 원자와 미세한 입자의 🧪 행동을 탐구합니다. \\n\\n고전 물리학과는 다른 점! 🆕 입자들은 🎶 파동과 입자의 성질을 동시에 가질 수 있어요! 🌀🔗 또한, 우리는 특정 상태를 확정적으로 예측할 수 없고, 대신 확률적으로 설명하죠. 🎲\\n\\n이 놀라운 이론은 전자 ⚡️, 광자 💡와 같은 입자들이 어떻게 상호작용하고 에너지를 교환하는지를 밝혀냅니다. \\n\\n결과적으로, 양자역학은 현대 과학 기술의 기반이 되어, 반도체 💻 및 레이저 🌈 기술의 발전에 기여하고 있습니다!\\n\\n#양자역학 #QuantumMechanics #과학 #Science #기술 #Technology #입자 #Particle #에너지 #Energy #우주 #Universe 🌠❤️'"
      ]
     },
     "execution_count": 9,
     "metadata": {},
     "output_type": "execute_result"
    }
   ],
   "source": [
    "@chain\n",
    "def custom_chain2(user):\n",
    "    \n",
    "    # 첫번째 체인\n",
    "    chain1 = prompt1 | llm | StrOutputParser()\n",
    "    output1 = chain1.invoke(user)\n",
    "    \n",
    "    # 두번째 체인\n",
    "    chain2 = prompt2 | llm | StrOutputParser()\n",
    "    output2 = chain2.invoke(output1)\n",
    "    return output2\n",
    "\n",
    "custom_chain2.invoke(\"양자역학\")"
   ]
  }
 ],
 "metadata": {
  "kernelspec": {
   "display_name": "nlp",
   "language": "python",
   "name": "python3"
  },
  "language_info": {
   "codemirror_mode": {
    "name": "ipython",
    "version": 3
   },
   "file_extension": ".py",
   "mimetype": "text/x-python",
   "name": "python",
   "nbconvert_exporter": "python",
   "pygments_lexer": "ipython3",
   "version": "3.11.11"
  }
 },
 "nbformat": 4,
 "nbformat_minor": 2
}
