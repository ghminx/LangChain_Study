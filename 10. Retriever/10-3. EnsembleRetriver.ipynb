{
 "cells": [
  {
   "cell_type": "markdown",
   "metadata": {},
   "source": [
    "### **Ensemble Retriever**\n",
    "\n",
    "`Ensemble Retriever`는 여러 검색기를 결합해서 결과를 제공하는 앙상블 기법을 이용한 Retriever\n",
    "\n",
    "다양한 검색 알고리즘의 장점을 활용하여 단일 알고리즘보다 더 나은 성능 제공 \n",
    "\n",
    "1. 여러 검색기 통합 : 다양한 유형의 검색기를 입력으로 받아 결과 결합\n",
    "2. 결과 재순위화 : `Reciprocal Rank Fusion` 알고리즘을 사용하여 결과 순위 조정\n",
    "3. 하이브리드 검색 : `Sparse retriever` 과 `Dense Retriever`를 결합하여 사용\n",
    "\n",
    "`Sparse retriever` : 키워드 검색 기반 효과적\n",
    "\n",
    "`Dense retriever` : 의미적 유사성 기반 검색 효과적 "
   ]
  },
  {
   "cell_type": "code",
   "execution_count": 4,
   "metadata": {},
   "outputs": [],
   "source": [
    "# 각 검색기(BM25Retreiver, FAISS)를 결합 \n",
    "from langchain.retrievers import BM25Retriever, EnsembleRetriever\n",
    "from langchain.vectorstores import FAISS\n",
    "from langchain_openai import OpenAIEmbeddings\n",
    "\n",
    "# 샘플 문서 리스트\n",
    "doc_list = [\n",
    "    \"I like apples\",\n",
    "    \"I like apple company\",\n",
    "    \"I like apple's iphone\",\n",
    "    \"Apple is my favorite company\",\n",
    "    \"I like apple's ipad\",\n",
    "    \"I like apple's macbook\",\n",
    "]"
   ]
  },
  {
   "cell_type": "code",
   "execution_count": null,
   "metadata": {},
   "outputs": [],
   "source": [
    "# bm25 검색기 생성\n",
    "bm25_retriever = BM25Retriever.from_texts(doc_list)\n",
    "bm25_retriever.k = 1  # 검색 개수 1\n",
    "\n",
    "# 임베딩 정의(FAISS는 임베딩 생성 => 벡터 생성 => 검색기 생성 순으로 가야함)\n",
    "embedding = OpenAIEmbeddings(model = 'text-embedding-3-small')\n",
    "\n",
    "# FAISS 벡터 저장소 생성\n",
    "faiss_store = FAISS.from_texts(doc_list, embedding)\n",
    "\n",
    "# FAISS 검색기 생성\n",
    "faiss_retriever = faiss_store.as_retriever(search_kwargs = {'k': 1})\n",
    "\n",
    "# EnsembleRetriever 생성\n",
    "ensemble_retriever = EnsembleRetriever(\n",
    "    retrievers = [bm25_retriever, faiss_retriever],\n",
    "    weights = [0.7, 0.3]  # 각 검색기의 가중치\n",
    ")"
   ]
  },
  {
   "cell_type": "markdown",
   "metadata": {},
   "source": [
    "`ensemble_retriever` 객체의 `get_relevant_documents()` 메서드를 호출하여 관련성 높은 문서를 검색"
   ]
  },
  {
   "cell_type": "code",
   "execution_count": 19,
   "metadata": {},
   "outputs": [
    {
     "name": "stdout",
     "output_type": "stream",
     "text": [
      "[EnsembleRetriever]\n",
      "검색 결과 : Apple is my favorite company\n",
      "검색 결과 : I like apple company\n",
      "검색 결과 : I like apples\n",
      "[BM25Retriever]\n",
      "검색 결과 : Apple is my favorite company\n",
      "검색 결과 : I like apple company\n",
      "[FAISSRetriever]\n",
      "검색 결과 : I like apples\n",
      "검색 결과 : Apple is my favorite company\n"
     ]
    }
   ],
   "source": [
    "# 검색 결과 문서 반환 \n",
    "query = 'my favorite fruit is apple'\n",
    "ensemble_result = ensemble_retriever.invoke(query)\n",
    "bm25_retriever_result = bm25_retriever.invoke(query)\n",
    "faiss_retriever_result = faiss_retriever.invoke(query)\n",
    "\n",
    "print('[EnsembleRetriever]')\n",
    "for doc in ensemble_result:\n",
    "    print(f'검색 결과 : {doc.page_content}')\n",
    "    \n",
    "print('[BM25Retriever]')\n",
    "for doc in bm25_retriever_result:\n",
    "    print(f'검색 결과 : {doc.page_content}')\n",
    "    \n",
    "print('[FAISSRetriever]')\n",
    "for doc in faiss_retriever_result:\n",
    "    print(f'검색 결과 : {doc.page_content}')"
   ]
  },
  {
   "cell_type": "code",
   "execution_count": null,
   "metadata": {},
   "outputs": [],
   "source": []
  },
  {
   "cell_type": "code",
   "execution_count": null,
   "metadata": {},
   "outputs": [],
   "source": []
  },
  {
   "cell_type": "code",
   "execution_count": null,
   "metadata": {},
   "outputs": [],
   "source": []
  },
  {
   "cell_type": "code",
   "execution_count": null,
   "metadata": {},
   "outputs": [],
   "source": []
  },
  {
   "cell_type": "code",
   "execution_count": null,
   "metadata": {},
   "outputs": [],
   "source": []
  }
 ],
 "metadata": {
  "kernelspec": {
   "display_name": "chain",
   "language": "python",
   "name": "python3"
  },
  "language_info": {
   "codemirror_mode": {
    "name": "ipython",
    "version": 3
   },
   "file_extension": ".py",
   "mimetype": "text/x-python",
   "name": "python",
   "nbconvert_exporter": "python",
   "pygments_lexer": "ipython3",
   "version": "3.12.0"
  }
 },
 "nbformat": 4,
 "nbformat_minor": 2
}
