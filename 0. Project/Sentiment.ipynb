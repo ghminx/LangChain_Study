{
 "cells": [
  {
   "cell_type": "markdown",
   "metadata": {},
   "source": [
    "### **LangChain을 활용한 간단한 감성분석**"
   ]
  },
  {
   "cell_type": "code",
   "execution_count": 19,
   "metadata": {},
   "outputs": [],
   "source": [
    "import pandas as pd\n",
    "from langchain_core.prompts import PromptTemplate\n",
    "from langchain_core.runnables import RunnableLambda, RunnablePassthrough\n",
    "from langchain_groq import ChatGroq\n",
    "from langchain_core.output_parsers import StrOutputParser\n",
    "\n",
    "\n",
    "# ✅ 프롬프트 템플릿 생성\n",
    "prompt = PromptTemplate.from_template(\"{text}를 감성 분석해주세요. 결과는 긍정/부정 두가지 단어중 하나로 나와야 합니다.\")\n",
    "\n",
    "llm = ChatGroq(model = 'gemma2-9b-it',\n",
    "               max_tokens=256)\n",
    "\n",
    "# ✅ LangChain 감성 분석 체인\n",
    "sentiment_chain = (\n",
    "    {\"text\": RunnablePassthrough()}  # 입력값 그대로 전달\n",
    "    | prompt\n",
    "    | llm\n",
    "    # | StrOutputParser()\n",
    ")\n",
    "\n",
    "hotel_reviews = [\n",
    "    \"객실이 넓고 깨끗하며, 침대도 푹신해서 정말 편안한 숙박이었습니다. 조식도 맛있고 직원들이 친절해서 기분 좋았어요!\",\n",
    "    \"뷰가 너무 아름다웠어요! 창문을 열면 바로 바다가 보이는 풍경이 압권이었습니다. 다음에도 꼭 다시 방문하고 싶네요.\",\n",
    "    \"체크인부터 체크아웃까지 직원들이 너무 친절하게 응대해 주셨어요. 서비스가 정말 최고였습니다. 웰컴 드링크도 감동이었어요!\",\n",
    "    \"조용하고 아늑한 분위기가 너무 좋았어요. 방도 깔끔하게 정리되어 있었고, 어메니티도 고급스러웠습니다.\",\n",
    "    \"시설이 노후화되어 있어서 아쉬웠어요. 방음도 잘 안 돼서 복도에서 나는 소리가 계속 들렸어요.\",\n",
    "    \"객실 청소 상태가 별로였어요. 욕실에서 머리카락이 발견되었고, 침구에서 약간의 냄새가 났어요. 위생 관리가 필요해 보입니다.\",\n",
    "    \"프런트 직원의 태도가 불친절했습니다. 질문을 할 때 귀찮아하는 듯한 느낌을 받아서 기분이 나빴어요.\",\n",
    "    \"조식이 기대보다 별로였어요. 음식이 차갑고 종류도 다양하지 않아서 만족스럽지 않았습니다.\",\n",
    "    \"위치는 좋았지만, 주차 공간이 부족해서 불편했어요. 추가 요금을 내고 다른 곳에 주차해야 했습니다.\",\n",
    "    \"가성비는 괜찮았지만, 에어컨 소음이 너무 커서 잠을 제대로 못 잤어요. 수리가 필요해 보입니다.\"\n",
    "]\n",
    "\n",
    "\n",
    "# batch를 사용하여 여러 리뷰를 한번에 처리\n",
    "result = sentiment_chain.batch(hotel_reviews)"
   ]
  },
  {
   "cell_type": "code",
   "execution_count": 18,
   "metadata": {},
   "outputs": [
    {
     "data": {
      "text/plain": [
       "['긍정', '긍정', '긍정', '긍정', '부정', '부정', '부정', '부정', '부정', '부정']"
      ]
     },
     "execution_count": 18,
     "metadata": {},
     "output_type": "execute_result"
    }
   ],
   "source": [
    "[i.strip() for i in result]"
   ]
  }
 ],
 "metadata": {
  "kernelspec": {
   "display_name": "nlp",
   "language": "python",
   "name": "python3"
  },
  "language_info": {
   "codemirror_mode": {
    "name": "ipython",
    "version": 3
   },
   "file_extension": ".py",
   "mimetype": "text/x-python",
   "name": "python",
   "nbconvert_exporter": "python",
   "pygments_lexer": "ipython3",
   "version": "3.11.11"
  }
 },
 "nbformat": 4,
 "nbformat_minor": 2
}
