{
 "cells": [
  {
   "cell_type": "markdown",
   "metadata": {},
   "source": [
    "### **RAG를 이용한 설문지 생성**"
   ]
  },
  {
   "cell_type": "code",
   "execution_count": 28,
   "metadata": {},
   "outputs": [],
   "source": [
    "from langchain_community.document_loaders import PyMuPDFLoader\n",
    "from langchain_text_splitters import RecursiveCharacterTextSplitter\n",
    "from langchain_community.vectorstores import FAISS\n",
    "from langchain_openai import OpenAIEmbeddings, ChatOpenAI\n",
    "from langchain_core.prompts import PromptTemplate\n",
    "from langchain_core.runnables import RunnablePassthrough\n",
    "import re\n",
    "import win32com.client as win32\n",
    "import os"
   ]
  },
  {
   "cell_type": "code",
   "execution_count": 29,
   "metadata": {},
   "outputs": [
    {
     "name": "stdout",
     "output_type": "stream",
     "text": [
      "hwp file 3개 변환 시작\n",
      "c:\\Users\\bigdata\\Dropbox\\개인\\Python\\딥러닝\\Model_implement\\LangChain\\0. Project\\data\\survey\\pdf\\22.pdf\n",
      "22.hwp 변환 완료\n",
      "c:\\Users\\bigdata\\Dropbox\\개인\\Python\\딥러닝\\Model_implement\\LangChain\\0. Project\\data\\survey\\pdf\\33.pdf\n",
      "33.hwp 변환 완료\n",
      "c:\\Users\\bigdata\\Dropbox\\개인\\Python\\딥러닝\\Model_implement\\LangChain\\0. Project\\data\\survey\\pdf\\[STI]_(설문지)_(사)21세기산업연구소_거창군 치유산업 종합계획 수립을 위한 설문조사(관광객 니즈 분석).pdf\n",
      "[STI]_(설문지)_(사)21세기산업연구소_거창군 치유산업 종합계획 수립을 위한 설문조사(관광객 니즈 분석).hwp 변환 완료\n"
     ]
    }
   ],
   "source": [
    "# hwp2pdf\n",
    "def hwp2pdf(folder_path, sav_path):\n",
    "    \n",
    "    # 한글 기본 설정 \n",
    "    hwp = win32.gencache.EnsureDispatch(\"hwpframe.hwpobject\")\n",
    "    hwp.XHwpWindows.Item(0).Visible = False\n",
    "    hwp.RegisterModule(\"FilePathCheckDLL\", \"FilePathCheckerModule\")\n",
    "\n",
    "    #파일 경로\n",
    "    source_folder = os.path.abspath(folder_path)\n",
    "    files = [f for f in os.listdir(source_folder) if re.match('.*[.]hwp', f)]\n",
    "    \n",
    "    print(f'hwp file {len(files)}개 변환 시작')\n",
    "    \n",
    "    for file in files:\n",
    "        hwp.Open(os.path.join(source_folder, file))  # 파일 열기\n",
    "\n",
    "        # 저장 경로\n",
    "        filename = os.path.abspath(os.path.join(sav_path, file).replace('hwp', 'pdf'))\n",
    "        print(filename)\n",
    "        \n",
    "        # PDF 저장 \n",
    "        act = hwp.CreateAction(\"Print\")\n",
    "        pset = act.CreateSet()\n",
    "        act.GetDefault(pset)\n",
    "        pset.SetItem(\"FileName\", filename)  \n",
    "        pset.SetItem(\"PrinterName\", \"Microsoft Print to PDF\") \n",
    "        pset.SetItem(\"PrintMethod\", 0)   \n",
    "        act.Execute(pset)\n",
    "        \n",
    "        hwp.Run(\"FileClose\")  \n",
    "        \n",
    "        print(f'{file} 변환 완료')\n",
    "\n",
    "    hwp.Quit() \n",
    "\n",
    "source_folder = './data/survey/hwp'\n",
    "save_folder = './data/survey/pdf'\n",
    "\n",
    "hwp2pdf(source_folder, save_folder)"
   ]
  },
  {
   "cell_type": "code",
   "execution_count": 30,
   "metadata": {},
   "outputs": [],
   "source": [
    "# 문서 로드 \n",
    "path = r\"C:\\Users\\bigdata\\Desktop\\새 폴더\\[STI]_(설문지)_(사)21세기산업연구소_거창군 치유산업 종합계획 수립을 위한 설문조사(관광객 니즈 분석).pdf\"\n",
    "loader = PyMuPDFLoader(path)\n",
    "\n",
    "docs = loader.load()"
   ]
  },
  {
   "cell_type": "code",
   "execution_count": 31,
   "metadata": {},
   "outputs": [],
   "source": [
    "# 텍스트 분리\n",
    "splitter = RecursiveCharacterTextSplitter(chunk_size = 500, chunk_overlap = 0)\n",
    "split_docs = splitter.split_documents(docs)"
   ]
  },
  {
   "cell_type": "code",
   "execution_count": 32,
   "metadata": {},
   "outputs": [],
   "source": [
    "# 임베딩 모델 생성\n",
    "embedder = OpenAIEmbeddings(model = 'text-embedding-3-small')\n",
    "\n",
    "# vector store 생성\n",
    "vector_store = FAISS.from_documents(documents = split_docs, embedding=embedder)\n",
    "\n",
    "# Retreiver 정의\n",
    "retreiver = vector_store.as_retriever()"
   ]
  },
  {
   "cell_type": "code",
   "execution_count": 33,
   "metadata": {},
   "outputs": [
    {
     "name": "stdout",
     "output_type": "stream",
     "text": [
      "1. 귀하의 여행 스타일은 무엇입니까?\n",
      "   - 국내여행  \n",
      "   - 해외여행  \n",
      "\n",
      "2. 거창군 여행 경험이 있습니까?\n",
      "   - 있다  \n",
      "   - 없다  \n",
      "\n",
      "3. 거창군 관광지에 대해 얼마나 알고 있습니까?\n",
      "   - 잘 알고 있다  \n",
      "   - 알고 있다  \n",
      "   - 조금 알고 있다  \n",
      "   - 들어본 적 있다  \n",
      "   - 들어본 적 없다  \n",
      "\n",
      "4. 아래 항목에 대한 거창군의 인식을 평가해주십시오.  \n",
      "   (1: 매우 좋음, 5: 전혀 좋지 않음)  \n",
      "   - 자연경관  \n",
      "   - 역사적 문화적 자원  \n",
      "   - 관광지 이미지  \n",
      "   - 독특성 및 고유성  \n",
      "   - 숙박시설  \n",
      "   - 관광지 접근성  \n",
      "   - 레저시설  \n",
      "   - 편의시설\n",
      "\n",
      "5. 거창군 치유산업 발전을 위한 관심 있는 시설은 무엇입니까? (복수응답 가능)  \n",
      "   - 체험 프로그램  \n",
      "   - 테마파크  \n",
      "   - 스파 및 온천  \n",
      "   - 삼림욕 및 휴양림  \n",
      "\n",
      "6. 귀하가 선호하는 시설 유형은 무엇입니까? (복수응답 가능)  \n",
      "   - 실내체험시설  \n",
      "   - 실외체험시설  \n",
      "   - 실내체류형시설  \n",
      "   - 실외체류형시설  \n",
      "\n",
      "7. 거창군 방문 시 가장 중요하게 생각하는 요소는 무엇입니까?  \n",
      "   - 가격  \n",
      "   - 편안함  \n",
      "   - 친환경성  \n",
      "   - 시설 현대화  \n",
      "\n",
      "8. 귀하의 연령대는 어떻게 되십니까?\n",
      "   - 10대  \n",
      "   - 20대  \n",
      "   - 30대  \n",
      "   - 40대  \n",
      "   - 50대 이상  \n",
      "\n",
      "9. 거창군의 관광 상품에 대한 만족도를 평가해주십시오.  \n",
      "   - 매우 만족  \n",
      "   - 만족  \n",
      "   - 보통  \n",
      "   - 불만족  \n",
      "   - 매우 불만족  \n",
      "\n",
      "10. 마지막으로 거창군 치유산업 발전을 위한 귀하의 의견을 자유롭게 작성하여 주십시오.  \n",
      "   - [주관식] "
     ]
    }
   ],
   "source": [
    "# 프롬프트를 생성\n",
    "prompt = PromptTemplate.from_template(\n",
    "    \"\"\"You are an assistant for question-answering tasks. \n",
    "Use the following pieces of retrieved context to answer the question. \n",
    "If you don't know the answer, just say that you don't know. \n",
    "Answer in Korean.\n",
    "\n",
    "#Question: \n",
    "\n",
    "#주제:\n",
    "{question} \n",
    "\n",
    "해당 주제에 관해 예시과 같은 포맷으로 설문지를 만들어줘 \n",
    "\n",
    "#조건:\n",
    "1. 설문지는 10문항으로 구성되어야함.\n",
    "2. 만족도, 일반문항, 객관식문항, 객관식문항(복수응답),주관식문항이 포함되어야함.\n",
    "\n",
    "예시) \n",
    "1. 귀하의 여행 스타일은 무엇입니까?\n",
    "\n",
    " 국내여행   \n",
    "② 해외여행\n",
    "\n",
    "#Context: \n",
    "{context} \n",
    "\n",
    "#Answer:\"\"\"\n",
    ")\n",
    "\n",
    "llm = ChatOpenAI(model = 'gpt-4o-mini')\n",
    "\n",
    "chain = (\n",
    "    {'context' : retreiver, 'question' : RunnablePassthrough()}\n",
    "    | prompt\n",
    "    | llm\n",
    ")\n",
    "\n",
    "response = chain.stream('거창군 치유산업 종합계획 수립을 위한 설문지 -관광객 니즈 분석-')\n",
    "\n",
    "for chunk in response:\n",
    "    print(chunk.content, end = '', flush = True)"
   ]
  }
 ],
 "metadata": {
  "kernelspec": {
   "display_name": "chain",
   "language": "python",
   "name": "python3"
  },
  "language_info": {
   "codemirror_mode": {
    "name": "ipython",
    "version": 3
   },
   "file_extension": ".py",
   "mimetype": "text/x-python",
   "name": "python",
   "nbconvert_exporter": "python",
   "pygments_lexer": "ipython3",
   "version": "3.12.0"
  }
 },
 "nbformat": 4,
 "nbformat_minor": 2
}
