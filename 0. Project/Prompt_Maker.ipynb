{
 "cells": [
  {
   "cell_type": "markdown",
   "metadata": {},
   "source": [
    "### **프롬프트 메이커**"
   ]
  },
  {
   "cell_type": "code",
   "execution_count": 1,
   "metadata": {},
   "outputs": [
    {
     "name": "stderr",
     "output_type": "stream",
     "text": [
      "c:\\Users\\bigdata\\anaconda3\\envs\\chain\\Lib\\site-packages\\langsmith\\client.py:253: LangSmithMissingAPIKeyWarning: API key must be provided when using hosted LangSmith API\n",
      "  warnings.warn(\n"
     ]
    },
    {
     "name": "stdout",
     "output_type": "stream",
     "text": [
      "입력된 텍스트를 전문가가 작성한 보고서 수준으로 높이기 위해 필요한 사항을 평가하세요.\n",
      "\n",
      "1. 입력된 텍스트를 세심하게 평가하여 전문가가 작성한 보고서와 유사한 수준으로 높이기 위해 필요한 사항을 파악하세요. 텍스트의 각 부분에서 개선이 필요한 사항을 확인하세요.\n",
      "\n",
      "2. 입력된 텍스트의 어조, 스타일, 언어를 분석하고, 문서의 목적과 문맥을 고려하여 개선된 텍스트가 의도된 대상과 목적에 부합하는지 확인하세요. 또한, 필요한 형식성과 전문성을 평가하세요.\n",
      "\n",
      "3. 전문가가 작성한 보고서의 특징, 즉 명확성, 일관성, 간결성을 파악하고, 텍스트의 구조, 조직, 형식이 표준적인 보고서 규칙과 지침에 부합하는지 확인하세요.\n",
      "\n",
      "4. 텍스트를 개선하기 위해 필요한 기술적 용어, 전문 용어, 조건을 평가하고, 복잡한 개념을 지원하기 위해 정의, 설명, 예시가 필요한지 평가하세요. 또한, 전환 문구, 제목, 부제목을 사용하여 읽기 쉽게 만드는지 평가하세요.\n",
      "\n",
      "5. 명확성과 효과성을 높이기 위해 능동적 문장, 정확한 언어, 간결한 문장을 사용하는지 평가하고, 내러티브를 지원하고 주요 사항을 설명하기 위해 표, 図, 도를 사용하는지 평가하세요.\n",
      "\n",
      "6. 입력된 텍스트의 형식, 구두점, 철자에 대한 일관성을 평가하고, 표준적인 보고서 규칙을 적용하여 개선된 텍스트가 오류 없이 다듬어진지 확인하세요. 또한, 표준적인 글꼴, 여백, 줄 간격을 사용하여 보고서 지침에 부합하는지 확인하세요.\n",
      "\n",
      "7. 입력된 텍스트의 어조를 평가하여 전문적이고, 객관적이고, 편견이 없는지 확인하고, 내러티브를 풍부하게 하고 독자를 끌어들이기 위해 은유, 비유, 암시와 같은修辞적 장치를 사용하는지 평가하세요.\n",
      "\n",
      "8. 보고서의 개요와 맥락을 제공하기 위해 요약, 초록, 또는 도입부가 필요한지 평가하고, 제목, 부제목, 글머리 기호를 사용하여 텍스트를 조직하고 구조화하는지 평가하세요. 또한, 결론, 권고, 또는 미래 방향이 필요한지 평가하세요.\n",
      "\n",
      "9. 내러티브를 지원하고 주장을 뒷받침하기 위해 참고문헌, 인용, 또는 참고문목을 사용하는지 평가하고, 추가 정보나 지원을 제공하기 위해 부록, 용어사전, 또는 색인이 필요한지 평가하세요. 또한, 텍스트의 전체적인 흐름과 일관성을 평가하세요.\n",
      "\n",
      "10. 개선된 텍스트를 검토하여 전문가가 작성한 보고서 수준에 부합하는지 확인하고, 전체적인 품질, 정확성, 효과성을 평가하여 의도된 메시지를 전달하는지 확인하세요. 또한, 텍스트가 다듬어지고, 정리되고, 오류가 없는지 확인하기 위해 필요한 최종 조정을 하세요.\n"
     ]
    }
   ],
   "source": [
    "from langchain import hub\n",
    "from langchain_groq import ChatGroq\n",
    "from langchain_core.runnables import RunnableParallel, RunnableLambda\n",
    "from langchain_core.prompts import PromptTemplate\n",
    "\n",
    "\n",
    "prompt_engineering = hub.pull('ohkgi/superb_system_instruction_prompt')\n",
    "prompt_transfer = PromptTemplate.from_template(\n",
    "    \n",
    "    '''\n",
    "    system instruction\n",
    "    입력된 텍스트를 한국어로 번역해주세요\n",
    "    \n",
    "    text :\n",
    "    {input}\n",
    "    '''\n",
    "    \n",
    ")\n",
    "\n",
    "llm = ChatGroq(model = 'llama-3.3-70b-versatile')\n",
    "\n",
    "chain_engine = prompt_engineering | llm \n",
    "chain_transfer = prompt_transfer | llm\n",
    "\n",
    "\n",
    "full_chain = chain_engine | RunnableLambda(\n",
    "    lambda eng_result: {\n",
    "        'engine': eng_result,\n",
    "        'transfer': chain_transfer.invoke({'input': eng_result.content})\n",
    "    }\n",
    ") | RunnableLambda(\n",
    "    lambda x: x['transfer'].content\n",
    ")\n",
    "\n",
    "# 실행\n",
    "response = full_chain.invoke('입력된 텍스트를 더욱 상위의 문서로 텍스트를 개선해주세요 보고서 전문가가 작성한 것처럼 보이도록 텍스트를 개선해주세요')\n",
    "print(response)"
   ]
  }
 ],
 "metadata": {
  "kernelspec": {
   "display_name": "chain",
   "language": "python",
   "name": "python3"
  },
  "language_info": {
   "codemirror_mode": {
    "name": "ipython",
    "version": 3
   },
   "file_extension": ".py",
   "mimetype": "text/x-python",
   "name": "python",
   "nbconvert_exporter": "python",
   "pygments_lexer": "ipython3",
   "version": "3.12.0"
  }
 },
 "nbformat": 4,
 "nbformat_minor": 2
}
