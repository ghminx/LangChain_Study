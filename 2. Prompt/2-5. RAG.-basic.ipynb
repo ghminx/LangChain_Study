{
 "cells": [
  {
   "cell_type": "markdown",
   "metadata": {},
   "source": [
    "## **RAG 기본 구조 이해하기**\n",
    "\n",
    "### **1. 사전작업(Pre-processing) - 1~4 단계**\n",
    "\n",
    "<img src='https://ifh.cc/g/VK9RJ9.png' width = \"800\">\n",
    "<img src='https://velog.velcdn.com/images/jjlee6496/post/f4443dd4-cdca-4e4c-83e6-8ec515c21db5/image.png' width = \"800\">\n",
    "\n",
    "\n",
    "사전 작업 단계에서는 데이터 소스를 Vector DB (저장소) 에 문서를 로드-분할-임베딩-저장 하는 4단계를 진행\n",
    "\n",
    "- 1단계 : 도큐먼트 로드 (Document Loader): 외부 데이터 소스에서 필요한 문서를 로드하고 초기 처리. \n",
    "    - 이것은 마치 책을 여러 권 챙겨 도서관에서 공부하는 것과 비슷. 학생이 공부하기 전에 필요한 책들을 책장에서 골라오는 과정.\n",
    "\n",
    "- 2단계 : 텍스트 분할 (Text Splitter): 로드된 문서를 처리 가능한 작은 단위로 분할. 큰 책을 챕터별로 나누는 것과 유사.\n",
    "\n",
    "- 3단계 : 임베딩 (Embedding): 각 문서 또는 문서의 일부를 벡터 형태로 변환하여, 문서의 의미를 수치화. 이는 책의 내용을 요약하여 핵심 키워드로 표현하는 것과 비슷.\n",
    "\n",
    "- 4단계 : 벡터스토어(Vector Store) 저장: 임베딩된 벡터들을 데이터베이스에 저장. 이는 요약된 키워드를 색인화하여 나중에 빠르게 찾을 수 있도록 하는 과정."
   ]
  },
  {
   "cell_type": "markdown",
   "metadata": {},
   "source": [
    "\n",
    "### **2. RAG 수행(RunTime) - 5~8 단계**\n",
    "\n",
    "<img src='https://ifh.cc/g/plorDw.png' width = \"800\">\n",
    "\n",
    "<img src='https://velog.velcdn.com/images/jjlee6496/post/15b30fe5-1015-47b4-b837-d692f9a101fd/image.png' width = \"800\">\n",
    "\n",
    "\n",
    "- 5단계 검색기(Retriever): 쿼리(Query) 를 바탕으로 DB에서 검색하여 결과를 가져오기 위하여 Retriever 정의.\n",
    "    - Retriever는 검색 알고리즘\n",
    "    - Dense: 유사도 기반 검색, Sparse: 키워드 기반 검색\n",
    "- 6단계 프롬프트: RAG 를 수행하기 위한 프롬프트를 생성. 프롬프트의 context 에는 문서에서 검색된 내용이 입력됨. \n",
    "    - 프롬프트 엔지니어링을 통하여 답변의 형식을 지정할 수 있음.\n",
    "- 7단계 LLM: 모델을 정의.(GPT-3.5, GPT-4, Claude, etc..)\n",
    "- 8단계 Chain: 프롬프트 - LLM - 출력 에 이르는 체인을 생성."
   ]
  },
  {
   "cell_type": "code",
   "execution_count": 1,
   "metadata": {},
   "outputs": [],
   "source": [
    "# RAG에 필요한 모듈 import \n",
    "from langchain_community.document_loaders import PyMuPDFLoader\n",
    "from langchain_text_splitters import RecursiveCharacterTextSplitter\n",
    "from langchain_openai import OpenAIEmbeddings\n",
    "from langchain_community.vectorstores import FAISS\n",
    "from langchain_groq import ChatGroq\n",
    "from langchain_core.prompts import PromptTemplate\n",
    "from langchain_core.output_parsers import StrOutputParser\n",
    "from langchain_core.runnables import RunnablePassthrough\n",
    "from langchain_community.retrievers import TavilySearchAPIRetriever"
   ]
  },
  {
   "cell_type": "markdown",
   "metadata": {},
   "source": [
    "### **Load Documents**"
   ]
  },
  {
   "cell_type": "code",
   "execution_count": 5,
   "metadata": {},
   "outputs": [
    {
     "name": "stdout",
     "output_type": "stream",
     "text": [
      "2 pages docs\n"
     ]
    }
   ],
   "source": [
    "loader = PyMuPDFLoader(r'files/test.pdf')\n",
    "docs = loader.load()\n",
    "print(f'{len(docs)} pages docs')"
   ]
  },
  {
   "cell_type": "markdown",
   "metadata": {},
   "source": [
    "### **Text Split**"
   ]
  },
  {
   "cell_type": "code",
   "execution_count": 6,
   "metadata": {},
   "outputs": [
    {
     "name": "stdout",
     "output_type": "stream",
     "text": [
      "이영희 \n",
      " 2. \n",
      "(Younghee Lee)\n",
      "직책\n",
      "마케팅 매니저 \n",
      "- \n",
      ": \n",
      "(Marketing Manager)\n",
      "부서\n",
      "마케팅 \n",
      "- \n",
      ": \n",
      "(Marketing)\n",
      "이메일\n",
      "- \n",
      ": yh.lee@company.com\n",
      "전화번호\n",
      "- \n",
      ": 010-2345-6789\n",
      "입사일\n",
      "년 월 \n",
      "일\n",
      "- \n",
      ": 2019\n",
      "7\n",
      "22\n",
      "연봉\n",
      "만 원\n",
      "- \n",
      ": 8,000\n",
      "특징\n",
      "- \n",
      ":\n",
      "창의적인 아이디어를 기반으로 한 마케팅 전략 수립 능력이 뛰어남\n",
      "  - \n",
      "데이터 분석을 통해 마케팅 성과를 측정하고 최적화하는 능력이 있음\n",
      "  - \n",
      "대인관계가 뛰어나고 협력업체 및 고객과의 관계를 잘 유지함\n",
      "  - \n",
      "담당 업무\n",
      "- \n",
      ":\n",
      "디지털 마케팅 캠페인 기획 및 실행\n",
      "  - \n",
      "브랜드 전략 수립 및 시장 조사\n",
      "  - \n",
      "광고 및 프로모션 운영\n",
      "성과 분석\n",
      "  - \n",
      ", \n",
      "박민준 \n",
      " 3.\n"
     ]
    }
   ],
   "source": [
    "# Split text into characters\n",
    "splitter = RecursiveCharacterTextSplitter(chunk_size = 415, chunk_overlap = 0)\n",
    "split_docs = splitter.split_documents(docs)    # chunk_size : 몇 단어씩 자를 것인지, chunk_overlap : 앞 페이지와 겹치는 단어 수\n",
    "\n",
    "print(split_docs[1].page_content)"
   ]
  },
  {
   "cell_type": "markdown",
   "metadata": {},
   "source": [
    "### **Embedding**"
   ]
  },
  {
   "cell_type": "code",
   "execution_count": 7,
   "metadata": {},
   "outputs": [],
   "source": [
    "# 기본 모델 : text-embedding-ada-002\n",
    "embeded = OpenAIEmbeddings(model = 'text-embedding-3-small')"
   ]
  },
  {
   "cell_type": "markdown",
   "metadata": {},
   "source": [
    "### **VectorDB 생성**"
   ]
  },
  {
   "cell_type": "code",
   "execution_count": null,
   "metadata": {},
   "outputs": [],
   "source": [
    "vector_store = FAISS.from_documents(documents=split_docs, embedding=embeded)"
   ]
  },
  {
   "cell_type": "code",
   "execution_count": 9,
   "metadata": {},
   "outputs": [
    {
     "name": "stdout",
     "output_type": "stream",
     "text": [
      "input_text tokens: 1055\n",
      "2e-08\n",
      "input_text cost: 0.00002$\n",
      "input_text cost: 0.03원\n",
      "\n"
     ]
    }
   ],
   "source": [
    "import tiktoken\n",
    "\n",
    "model = 'text-embedding-3-small'\n",
    "\n",
    "def embeded_token_cost(model, docs):\n",
    "    # 토큰 비용 계산기\n",
    "    token_prices = {\n",
    "        \"text-embedding-3-small\": 0.02 / 1_000_000,\n",
    "        'text_embedding-3-large' : 0.13 / 1_000_000,\n",
    "        'text-embedding-ada-002' : 0.1 / 1_000_000,\n",
    "    }\n",
    "\n",
    "    input_token_cost = token_prices[model]\n",
    "    input_text = ''.join([i.page_content for i in docs])\n",
    "\n",
    "\n",
    "    in_out = {'input_text': [input_text, input_token_cost]}\n",
    "    krw = 1451.68\n",
    "\n",
    "    for k, v in in_out.items():\n",
    "\n",
    "        encoding = tiktoken.encoding_for_model(model)\n",
    "        tokens = encoding.encode(v[0])\n",
    "\n",
    "        num_tokens = len(tokens)\n",
    "        print(f\"{k} tokens: {num_tokens}\")\n",
    "        print(v[1])\n",
    "        print(f\"{k} cost: {num_tokens * v[1]:.5f}$\")\n",
    "        print(f\"{k} cost: {num_tokens * v[1]* krw:.2f}원\\n\")\n",
    "    \n",
    "embeded_token_cost(model, docs)"
   ]
  },
  {
   "cell_type": "markdown",
   "metadata": {},
   "source": [
    "### **Retriever 생성**"
   ]
  },
  {
   "cell_type": "markdown",
   "metadata": {},
   "source": [
    "[Tavily 참고](https://velog.io/@woody_ahn/Tavily-LLM%EC%9D%84-%EC%9C%84%ED%95%9C-%EC%B5%9C%EC%A0%81%ED%99%94%EB%90%9C-%EA%B2%80%EC%83%89-API)\n",
    "\n",
    "웹 검색 Retriver"
   ]
  },
  {
   "cell_type": "code",
   "execution_count": 8,
   "metadata": {},
   "outputs": [],
   "source": [
    "import os \n",
    "\n",
    "os.environ['TAVILY_API_KEY'] = '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'"
   ]
  },
  {
   "cell_type": "code",
   "execution_count": 17,
   "metadata": {},
   "outputs": [
    {
     "data": {
      "text/plain": [
       "[Document(metadata={'title': '(주)에스티이노베이션 기업정보 2025년 | NICEbizinfo (NICE기업정보)', 'source': 'https://www.nicebizinfo.com/ep/EP0100M002GE.nice?kiscode=JE2605', 'score': 0.4889428, 'images': []}, page_content='(주)에스티이노베이션 기업정보, 신용정보, 등급정보, 재무정보, 연봉정보, 특허정보, 인사, 부고 모두 NICEbizinfo에서 확인하세요. ... 2023 2022 2021 ... * 최근 매출액은 외감법인 및 상장사에 한해서만 공개됩니다.'),\n",
       " Document(metadata={'title': '2024년 국내 제약회사 순위 매출액 기준 Top 30 : 네이버 블로그', 'source': 'https://m.blog.naver.com/csss3324/223539361402', 'score': 0.37353352, 'images': []}, page_content='2024년 국내 제약회사 순위 매출액 기준 Top 30 : 네이버 블로그 2024년 국내 제약회사 순위 매출액 기준 Top 30 2024년 국내 제약회사 순위 #국내제약회사순위 #제약회사순위 2024년 국내 제약회사 순위가 발표되었습니다. 이 순위는 2023년 매출액을 기준으로 한 것으로, 매출액: 8,596억 2,558만 원 (2023년 기준) 매출액: 8,289억 823만 원 (2023년 기준) 매출액: 7,485억 2,670만 원 (2023년 기준) 매출액: 7,309억 9,359만 원 (2023년 기준) 매출액: 7,263억 9,375만 원 (2023년 기준) 매출액: 6,639억 8,036만 원 (2023년 기준) 매출액: 6,310억 2,643만 원 (2023년 기준) 매출액: 6,007억 5,784만 원 (2023년 기준) 2024년 국내 제약회사 순위는 각 회사의 경제적 성과와 시장에서의 이 정보는 각 기업의 규모와 성과를 이해하는 데 이 순위와 매출액 정보는 취업 전략을 세우는 데 {\"title\":\"2024년 국내 제약회사 순위 매출액 기준 Top 30\",\"source\":\"https://blog.naver.com/csss3324/223539361402\",\"blogName\":\"✍️취업을..\",\"domainIdOrBlogId\":\"csss3324\",\"nicknameOrBlogId\":\"취도남\",\"logNo\":223539361402,\"smartEditorVersion\":4,\"cafeDisplay\":true,\"outsideDisplay\":true,\"lineDisplay\":true,\"blogDisplay\":true,\"meDisplay\":true}'),\n",
       " Document(metadata={'title': '설문조사 | 빅데이터분석 | 에스티이노베이션', 'source': 'http://stinnovation.co.kr/', 'score': 0.24840698, 'images': []}, page_content='제주경제통상진흥원 \"2020년 제주우수제품 품질인증제도 인지도 및 만족도 조사\" 서울특별시 북부병원 \"2021년 이용자 만족도 조사\" 부산광역시청 \"2022년 응급의료 이용실태 및 만족도 조사\" 건강보험심사평가원 \"2022년 통계정보 및 정보공개 서비스 만족도 조사\" 울산과학대학교 \"2023 고등직업교육거점기구(HIVE)사업 수요조사 및 만족도 조사\" 전주시정신건강복지센터 \"2023년 전주시 정신건강 인식도 및 요구도 조사 분석 및 보고서 제작\" 위드바톤 \"2023년 유엔참전용사 재방한 등 초청사업 만족도 조사 분석 및 보고서 제작\" 부산정보산업진흥원 \"2024년 부산 ICT분야 인력채용 및 교육수요 조사 운영 용역\" 국립국악원 \"2023년도 국립국악원 국악박물관 만족도 조사 분석 및 보고서\" 한국산림복지진흥원 \"2024년 산림복지서비스이용권 및 제공자 만족도 조사\" 축산환경관리원 \"2024년 축산환경 교육‧컨설팅 사업 만족도 조사 용역 \" 위드바톤 \"유엔참전용사 등 재방한 프로그램 만족도 조사 분석 및 보고서(7월)\" ㈜한국농식품안전관리원 \"2024년 제8기 GAP 영양(교)사 자발적 학습조직 사전인식도 및 만족도 조사 용역\"')]"
      ]
     },
     "execution_count": 17,
     "metadata": {},
     "output_type": "execute_result"
    }
   ],
   "source": [
    "retriver = TavilySearchAPIRetriever(k=3)\n",
    "result = retriver.invoke('에스티이노베이션이라는 회사의 2023년도 매출액은 얼마인가요?')\n",
    "result"
   ]
  },
  {
   "cell_type": "code",
   "execution_count": 10,
   "metadata": {},
   "outputs": [
    {
     "data": {
      "text/plain": [
       "[Document(id='0926f6b2-f57d-4c24-a782-c934cc396f70', metadata={'producer': 'Microsoft: Print To PDF', 'creator': '', 'creationdate': '2025-03-11T23:37:13+09:00', 'source': 'files/test.pdf', 'file_path': 'files/test.pdf', 'total_pages': 2, 'format': 'PDF 1.7', 'title': 'HWP Document', 'author': '', 'subject': '', 'keywords': '', 'moddate': '2025-03-11T23:37:13+09:00', 'trapped': '', 'modDate': \"D:20250311233713+09'00'\", 'creationDate': \"D:20250311233713+09'00'\", 'page': 0}, page_content='회사 사원 정보\\n김철수 \\n 1. \\n(Chulsoo Kim)\\n직책\\n소프트웨어 엔지니어 \\n- \\n: \\n(Software Engineer)\\n부서\\n엔지니어링 \\n- \\n: \\n(Engineering)\\n이메일\\n- \\n: cs.kim@company.com\\n전화번호\\n- \\n: 010-1234-5678\\n입사일\\n년 월 \\n일\\n- \\n: 2018\\n3\\n15\\n연봉\\n만 원\\n- \\n: 7,000\\n특징\\n- \\n:\\n문제 해결 능력이 뛰어나며\\n복잡한 알고리즘을 설계하는 것을 즐김\\n  - \\n, \\n새로운 기술 습득이 빠르며\\n최신 \\n트렌드에 대한 관심이 높음\\n  - \\n, \\nIT \\n팀원들과의 협업을 중요하게 생각하는 스타일\\n  - \\n담당 업무\\n- \\n:\\n사내 웹 애플리케이션 개발 및 유지보수\\n  - \\n신규 프로젝트의 백엔드 시스템 설계\\n  - \\n코드 리뷰 및 신입 개발자 멘토링\\n  -'),\n",
       " Document(id='61aff751-2130-4ccf-8705-3d7ff1f7b888', metadata={'producer': 'Microsoft: Print To PDF', 'creator': '', 'creationdate': '2025-03-11T23:37:13+09:00', 'source': 'files/test.pdf', 'file_path': 'files/test.pdf', 'total_pages': 2, 'format': 'PDF 1.7', 'title': 'HWP Document', 'author': '', 'subject': '', 'keywords': '', 'moddate': '2025-03-11T23:37:13+09:00', 'trapped': '', 'modDate': \"D:20250311233713+09'00'\", 'creationDate': \"D:20250311233713+09'00'\", 'page': 0}, page_content='이영희 \\n 2. \\n(Younghee Lee)\\n직책\\n마케팅 매니저 \\n- \\n: \\n(Marketing Manager)\\n부서\\n마케팅 \\n- \\n: \\n(Marketing)\\n이메일\\n- \\n: yh.lee@company.com\\n전화번호\\n- \\n: 010-2345-6789\\n입사일\\n년 월 \\n일\\n- \\n: 2019\\n7\\n22\\n연봉\\n만 원\\n- \\n: 8,000\\n특징\\n- \\n:\\n창의적인 아이디어를 기반으로 한 마케팅 전략 수립 능력이 뛰어남\\n  - \\n데이터 분석을 통해 마케팅 성과를 측정하고 최적화하는 능력이 있음\\n  - \\n대인관계가 뛰어나고 협력업체 및 고객과의 관계를 잘 유지함\\n  - \\n담당 업무\\n- \\n:\\n디지털 마케팅 캠페인 기획 및 실행\\n  - \\n브랜드 전략 수립 및 시장 조사\\n  - \\n광고 및 프로모션 운영\\n성과 분석\\n  - \\n, \\n박민준 \\n 3.'),\n",
       " Document(id='1ab15188-1862-400a-a5c7-a929d8c9808f', metadata={'producer': 'Microsoft: Print To PDF', 'creator': '', 'creationdate': '2025-03-11T23:37:13+09:00', 'source': 'files/test.pdf', 'file_path': 'files/test.pdf', 'total_pages': 2, 'format': 'PDF 1.7', 'title': 'HWP Document', 'author': '', 'subject': '', 'keywords': '', 'moddate': '2025-03-11T23:37:13+09:00', 'trapped': '', 'modDate': \"D:20250311233713+09'00'\", 'creationDate': \"D:20250311233713+09'00'\", 'page': 0}, page_content='(Minjun Park)\\n직책\\n세일즈 어소시에이트 \\n- \\n: \\n(Sales Associate)\\n부서\\n영업 \\n- \\n: \\n(Sales)\\n이메일\\n- \\n: mj.park@company.com\\n전화번호\\n- \\n: 010-3456-7890\\n입사일\\n년 \\n월 \\n일\\n- \\n: 2020\\n11\\n30\\n연봉\\n만 원\\n- \\n: 6,000'),\n",
       " Document(id='660aaae7-85b8-4ab4-8f2e-ff8c8023fbbe', metadata={'producer': 'Microsoft: Print To PDF', 'creator': '', 'creationdate': '2025-03-11T23:37:13+09:00', 'source': 'files/test.pdf', 'file_path': 'files/test.pdf', 'total_pages': 2, 'format': 'PDF 1.7', 'title': 'HWP Document', 'author': '', 'subject': '', 'keywords': '', 'moddate': '2025-03-11T23:37:13+09:00', 'trapped': '', 'modDate': \"D:20250311233713+09'00'\", 'creationDate': \"D:20250311233713+09'00'\", 'page': 1}, page_content='특징\\n- \\n:\\n고객의 요구를 빠르게 파악하고 맞춤형 솔루션을 제공하는 능력이 뛰어남\\n  - \\n적극적인 태도로 신규 고객을 발굴하고 기존 고객을 관리\\n  - \\n협상력이 뛰어나며\\n매출 증대에 기여하는 성과를 지속적으로 냄\\n  - \\n, \\n담당 업무\\n- \\n:\\n기업 고객 대상 제품 및 서비스 판매\\n  - \\n고객 관계 관리 및 피드백 수집\\n  - \\n영업 실적 분석 및 전략 개선\\n  -')]"
      ]
     },
     "execution_count": 10,
     "metadata": {},
     "output_type": "execute_result"
    }
   ],
   "source": [
    "retriver = vector_store.as_retriever()\n",
    "\n",
    "# 검색기가 어떤 문서를 참고하는지 확인\n",
    "retriver.invoke('김철수씨의 업무는 어떤게 있습니까?')"
   ]
  },
  {
   "cell_type": "markdown",
   "metadata": {},
   "source": [
    "### **프롬프트 생성(Create Prompt)**\n"
   ]
  },
  {
   "cell_type": "code",
   "execution_count": 10,
   "metadata": {},
   "outputs": [],
   "source": [
    "# 프롬프트를 생성합니다.\n",
    "prompt = PromptTemplate.from_template(\n",
    "    \"\"\"You are an assistant for question-answering tasks. \n",
    "Use the following pieces of retrieved context to answer the question. \n",
    "If you don't know the answer, just say that you don't know. \n",
    "Answer in Korean.\n",
    "\n",
    "#Question: \n",
    "{question} \n",
    "#Context: \n",
    "{context} \n",
    "\n",
    "#Answer:\"\"\"\n",
    ")"
   ]
  },
  {
   "cell_type": "markdown",
   "metadata": {},
   "source": [
    "### **언어모델 생성(Chain)**"
   ]
  },
  {
   "cell_type": "code",
   "execution_count": 11,
   "metadata": {},
   "outputs": [],
   "source": [
    "from langchain_openai import ChatOpenAI\n",
    "llm = ChatGroq(model = 'gemma2-9b-it')\n",
    "\n",
    "chain = (\n",
    "    {'context' : retriver, 'question' : RunnablePassthrough()}\n",
    "    | prompt\n",
    "    | llm\n",
    "    | StrOutputParser()\n",
    ")"
   ]
  },
  {
   "cell_type": "markdown",
   "metadata": {},
   "source": [
    "### **출력**"
   ]
  },
  {
   "cell_type": "code",
   "execution_count": 14,
   "metadata": {},
   "outputs": [
    {
     "name": "stdout",
     "output_type": "stream",
     "text": [
      "제공된 텍스트에는 에스티이노베이션의 2023년 매출액에 대한 정보가 없습니다. \n",
      "\n",
      "\n"
     ]
    }
   ],
   "source": [
    "response = chain.stream('''\n",
    "                        에스티이노베이션이라는 회사의 2023년도 매출액은 얼마인가요?\n",
    "                        ''')\n",
    "\n",
    "for c in response:\n",
    "    print(c, end='', flush=True)"
   ]
  }
 ],
 "metadata": {
  "kernelspec": {
   "display_name": "nlp",
   "language": "python",
   "name": "python3"
  },
  "language_info": {
   "codemirror_mode": {
    "name": "ipython",
    "version": 3
   },
   "file_extension": ".py",
   "mimetype": "text/x-python",
   "name": "python",
   "nbconvert_exporter": "python",
   "pygments_lexer": "ipython3",
   "version": "3.11.11"
  }
 },
 "nbformat": 4,
 "nbformat_minor": 2
}
