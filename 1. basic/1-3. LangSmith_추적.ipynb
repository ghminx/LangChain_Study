{
 "cells": [
  {
   "cell_type": "markdown",
   "metadata": {},
   "source": [
    "## **LangSmith**\n",
    "\n",
    "#### LangSmith 의 추적기능\n",
    "- LangSmith는 LLM 애플리케이션 개발, 모니터링 및 테스트 를 위한 플랫폼\n",
    "\n",
    "\n",
    "#### 프로젝트 단위 추적\n",
    "- 프로젝트 단위로 실행 카운트, Error 발생률, 토큰 사용량, 과금 정보등을 확인할 수 있음 \n",
    "\n",
    "[LangSmith](https://smith.langchain.com/)"
   ]
  },
  {
   "cell_type": "markdown",
   "metadata": {},
   "source": [
    "### **LangSmith 환경설정**"
   ]
  },
  {
   "cell_type": "code",
   "execution_count": null,
   "metadata": {},
   "outputs": [
    {
     "name": "stdout",
     "output_type": "stream",
     "text": [
      "LangSmith 추적을 시작합니다.\n",
      "[프로젝트명]\n",
      "project_test\n"
     ]
    }
   ],
   "source": [
    "# 테디노트 라이브러리 사용\n",
    "from langchain_teddynote import logging \n",
    "\n",
    "logging.langsmith(\"project_test\")"
   ]
  },
  {
   "cell_type": "code",
   "execution_count": null,
   "metadata": {},
   "outputs": [],
   "source": [
    "# 일반 사용법\n",
    "import os\n",
    "\n",
    "os.environ[\"LANGCHAIN_TRACING_V2\"] = \"true\"\n",
    "os.environ[\"LANGCHAIN_ENDPOINT\"] = \"https://api.smith.langchain.com\"\n",
    "os.environ[\"LANGCHAIN_API_KEY\"] = os.getenv(\"LANGSMITH_API_KEY\")\n",
    "os.environ[\"LANGCHAIN_PROJECT\"]= 'TEST_PROJECT'\n",
    "\n",
    "### **삭제**\n",
    "\n",
    "# 환경 변수 삭제\n",
    "os.environ.pop(\"LANGCHAIN_TRACING_V2\", None)  \n",
    "os.environ.pop(\"LANGCHAIN_ENDPOINT\", None)\n",
    "os.environ.pop(\"LANGCHAIN_API_KEY\", None)\n",
    "os.environ.pop(\"LANGCHAIN_PROJECT\", None)"
   ]
  },
  {
   "cell_type": "code",
   "execution_count": 11,
   "metadata": {},
   "outputs": [
    {
     "name": "stdout",
     "output_type": "stream",
     "text": [
      "안녕하세요! 저는 AI 언어 모델인 ChatGPT입니다. 다양한 질문에 답변하고, 정보 제공, 글쓰기, 언어 번역 등 여러 작업을 도와줄 수 있습니다.  여러분과 대화하며 필요한 정보를 제공하는 것이 제 역할입니다. 무엇을 도와드릴까요?\n"
     ]
    }
   ],
   "source": [
    "from langchain_openai import ChatOpenAI\n",
    "\n",
    "llm = ChatOpenAI(model = 'gpt-4o-mini')\n",
    "\n",
    "response = llm.invoke('안녕 너의 소개를 해줄래?')\n",
    "print(response.content)"
   ]
  },
  {
   "cell_type": "code",
   "execution_count": 2,
   "metadata": {},
   "outputs": [
    {
     "name": "stdout",
     "output_type": "stream",
     "text": [
      "지구의 자전 주기는 다음과 같습니다.\n",
      "\n",
      "* **절대 자전 주기:** 약 29,780,000년\n",
      "* **회전 주기:** 약 365.2422일\n",
      "\n",
      "**절대 자전 주기**\n",
      "\n",
      "절대 자전 주기는 지구가 현재의 위치에서 다음번에 동일한 날짜와 시간에 다시 도달하는 데 걸리는 시간입니다. 이 주기는 매우 길고, 지금의 날짜와 시간은 약 23억년 전에는 절대적으로 다른 날짜와 시간이었습니다.\n",
      "\n",
      "**회전 주기**\n",
      "\n",
      "회전 주기는 지구가 자전축을 중심으로 회전하는 데 걸리는 시간입니다. 이 주기는 365.2422일, 1년입니다.\n",
      "\n",
      "**지구의 자전 주기는 다음과 같은 중요한 의미를 가지고 있습니다.**\n",
      "\n",
      "* **기후 변화:** 지구의 자전 주기는 기후 패턴을 변경하고 지구 온도를 변화시키는 요인이 됩니다.\n",
      "* **생물 종:** 지구의 자전 주기는 생물 종의 분포를 변경하고 진화 과정에 영향을 미칠 수 있습니다.\n",
      "* **천문학:** 지구의 자전 주기는 달의 회전 주기와 관련하여 달의 영향력을 결정합니다.\n"
     ]
    }
   ],
   "source": [
    "# Ollama 둘다 사용가능\n",
    "# from langchain_community.chat_models import ChatOllama\n",
    "from langchain_ollama import ChatOllama\n",
    "\n",
    "# model \n",
    "llm = ChatOllama(model = 'gemma')\n",
    "\n",
    "answer = llm.invoke('지구의 자전 주기에 대해 알려주세요')\n",
    "print(answer.content)"
   ]
  },
  {
   "cell_type": "code",
   "execution_count": 4,
   "metadata": {},
   "outputs": [
    {
     "data": {
      "text/plain": [
       "'안녕하세요! 저는 Google에서 훈련된 대규모 언어 모델입니다. \\n\\n다른 사람들처럼 의사를 가지고 있지는 않지만, 다양한 텍스트 데이터를 학습하여 사람과 같은 대화를 나눌 수 있도록 설계되었습니다. \\n\\n도움이 필요한 것이 있으신가요? 질문을 해주세요! 😊\\n'"
      ]
     },
     "execution_count": 4,
     "metadata": {},
     "output_type": "execute_result"
    }
   ],
   "source": [
    "from langchain_groq import ChatGroq\n",
    "\n",
    "llm = ChatGroq(model = 'gemma2-9b-it')\n",
    "\n",
    "response = llm.invoke('안녕 너의 소개를 해줄래?')\n",
    "response.content"
   ]
  }
 ],
 "metadata": {
  "kernelspec": {
   "display_name": "nlp",
   "language": "python",
   "name": "python3"
  },
  "language_info": {
   "codemirror_mode": {
    "name": "ipython",
    "version": 3
   },
   "file_extension": ".py",
   "mimetype": "text/x-python",
   "name": "python",
   "nbconvert_exporter": "python",
   "pygments_lexer": "ipython3",
   "version": "3.11.11"
  }
 },
 "nbformat": 4,
 "nbformat_minor": 2
}
