{
 "cells": [
  {
   "cell_type": "markdown",
   "metadata": {},
   "source": [
    "## **LangSmith**\n",
    "\n",
    "#### LangSmith 의 추적기능\n",
    "- LangSmith는 LLM 애플리케이션 개발, 모니터링 및 테스트 를 위한 플랫폼\n",
    "\n",
    "\n",
    "#### 프로젝트 단위 추적\n",
    "- 프로젝트 단위로 실행 카운트, Error 발생률, 토큰 사용량, 과금 정보등을 확인할 수 있음 \n",
    "\n",
    "[LangSmith](https://smith.langchain.com/)"
   ]
  },
  {
   "cell_type": "markdown",
   "metadata": {},
   "source": [
    "### **LangSmith 환경설정**"
   ]
  },
  {
   "cell_type": "code",
   "execution_count": null,
   "metadata": {},
   "outputs": [
    {
     "name": "stdout",
     "output_type": "stream",
     "text": [
      "LangSmith 추적을 시작합니다.\n",
      "[프로젝트명]\n",
      "project_test\n"
     ]
    }
   ],
   "source": [
    "# 테디노트 라이브러리 사용\n",
    "from langchain_teddynote import logging \n",
    "\n",
    "logging.langsmith(\"project_test\")"
   ]
  },
  {
   "cell_type": "code",
   "execution_count": null,
   "metadata": {},
   "outputs": [],
   "source": [
    "# 일반 사용법\n",
    "import os\n",
    "\n",
    "os.environ[\"LANGCHAIN_TRACING_V2\"] = \"true\"\n",
    "os.environ[\"LANGCHAIN_ENDPOINT\"] = \"https://api.smith.langchain.com\"\n",
    "os.environ[\"LANGCHAIN_API_KEY\"] = os.getenv(\"LANGSMITH_API_KEY\")\n",
    "os.environ[\"LANGCHAIN_PROJECT\"]= 'TEST_PROJECT'\n",
    "\n",
    "### **삭제**\n",
    "\n",
    "# 환경 변수 삭제\n",
    "os.environ.pop(\"LANGCHAIN_TRACING_V2\", None)  \n",
    "os.environ.pop(\"LANGCHAIN_ENDPOINT\", None)\n",
    "os.environ.pop(\"LANGCHAIN_API_KEY\", None)\n",
    "os.environ.pop(\"LANGCHAIN_PROJECT\", None)"
   ]
  },
  {
   "cell_type": "code",
   "execution_count": 11,
   "metadata": {},
   "outputs": [
    {
     "name": "stdout",
     "output_type": "stream",
     "text": [
      "안녕하세요! 저는 AI 언어 모델인 ChatGPT입니다. 다양한 질문에 답변하고, 정보 제공, 글쓰기, 언어 번역 등 여러 작업을 도와줄 수 있습니다.  여러분과 대화하며 필요한 정보를 제공하는 것이 제 역할입니다. 무엇을 도와드릴까요?\n"
     ]
    }
   ],
   "source": [
    "from langchain_openai import ChatOpenAI\n",
    "\n",
    "llm = ChatOpenAI(model = 'gpt-4o-mini')\n",
    "\n",
    "response = llm.invoke('안녕 너의 소개를 해줄래?')\n",
    "print(response.content)"
   ]
  }
 ],
 "metadata": {
  "kernelspec": {
   "display_name": "nlp",
   "language": "python",
   "name": "python3"
  },
  "language_info": {
   "codemirror_mode": {
    "name": "ipython",
    "version": 3
   },
   "file_extension": ".py",
   "mimetype": "text/x-python",
   "name": "python",
   "nbconvert_exporter": "python",
   "pygments_lexer": "ipython3",
   "version": "3.11.11"
  }
 },
 "nbformat": 4,
 "nbformat_minor": 2
}
