{
 "cells": [
  {
   "cell_type": "markdown",
   "metadata": {},
   "source": [
    "## **Chain 생성**\n",
    "\n",
    "### LCEL(LangChain Expression Language)\n",
    "\n",
    "![lcel.png](https://wikidocs.net/images/page/233344/lcel.png)\n",
    "\n",
    "여기서 우리는 LCEL을 사용하여 다양한 구성 요소를 단일 체인으로 결합합니다\n",
    "\n",
    "```\n",
    "chain = prompt | model | output_parser\n",
    "```\n",
    "\n",
    "`|` 기호는 [unix 파이프 연산자](<https://en.wikipedia.org/wiki/Pipeline_(Unix)>)와 유사하며, 서로 다른 구성 요소를 연결하고 한 구성 요소의 출력을 다음 구성 요소의 입력으로 전달합니다.\n",
    "\n",
    "이 체인에서 사용자 입력은 프롬프트 템플릿으로 전달되고, 그런 다음 프롬프트 템플릿 출력은 모델로 전달됩니다. 각 구성 요소를 개별적으로 살펴보면 무슨 일이 일어나고 있는지 이해할 수 있습니다.\n"
   ]
  },
  {
   "cell_type": "markdown",
   "metadata": {},
   "source": [
    "### **기본 체인**\n",
    "\n",
    "#### **ChatPromptTemplate + Model**"
   ]
  },
  {
   "cell_type": "code",
   "execution_count": null,
   "metadata": {},
   "outputs": [
    {
     "data": {
      "text/markdown": [
       "## 인공지능에 대해 알려드릴게요! 🧠🤖\n",
       "\n",
       "인공지능(AI, Artificial Intelligence)은 인간의 지능을 모방하여 학습, 문제 해결, 의사 결정 등을 하는 컴퓨터 시스템을 말합니다. \n",
       "\n",
       "**핵심은 인간처럼 학습하고 생각하는 능력을 컴퓨터에 부여하는 것입니다.**\n",
       "\n",
       "### 인공지능의 종류\n",
       "\n",
       "* **강화학습 (Reinforcement Learning):** \n",
       "\n",
       "  * 에이전트가 환경과 상호 작용하며 보상을 받으면서 행동을 학습하는 방법. 게임 AI 개발이나 자율 주행 시스템에 활용됩니다.\n",
       "\n",
       "* **지도학습 (Supervised Learning):**\n",
       "\n",
       "  * 이미 라벨링된 데이터를 사용하여 모델을 학습하는 방법. 이미지 분류, 텍스트 분류, 예측 모델링 등에 활용됩니다.\n",
       "\n",
       "* **비지도학습 (Unsupervised Learning):**\n",
       "\n",
       "  * 라벨링되지 않은 데이터를 사용하여 패턴을 찾거나 군집화하는 방법. 고객 세분화, 이상 탐지 등에 활용됩니다.\n",
       "\n",
       "* **딥러닝 (Deep Learning):**\n",
       "\n",
       "  * 인간의 뇌 신경망 구조를 모방한 다층 신경망을 사용하는 방법. 이미지 인식, 자연어 처리, 음성 인식 등에 활용됩니다.\n",
       "\n",
       "### 인공지능의 활용 분야\n",
       "\n",
       "* **의료:** 질병 진단, 신약 개발, 의료 영상 분석\n",
       "* **금융:** 사기 탐지, 위험 관리, 투자 분석\n",
       "* **제조:** 공정 자동화, 품질 관리, 예측 유지보수\n",
       "* **교육:** 맞춤형 학습, 자동 채점, 교육 콘텐츠 생성\n",
       "* **기타:** 스마트 홈, 자율 주행, 음성 비서, 번역, 음성 인식\n",
       "\n",
       "### 인공지능의 미래\n",
       "\n",
       "인공지능 기술은 끊임없이 발전하고 있으며, 앞으로 더욱 다양한 분야에서 활용될 것으로 예상됩니다. \n",
       "\n",
       "**긍정적인 측면:**\n",
       "\n",
       "* 생산성 향상, 새로운 기술 발전, 삶의 질 향상\n",
       "\n",
       "**부정적인 측면:**\n",
       "\n",
       "* 일자리 감소, 윤리적 문제, 알고리즘 편향\n",
       "\n",
       "인공지능은 우리 삶에 큰 영향을 미칠 기술입니다. \n",
       "\n",
       "**긍정적인 미래를 만들기 위해 인공지능의 윤리적, 사회적 영향에 대한 깊이 있는 논의와 준비가 필요합니다.**\n",
       "\n",
       "\n"
      ],
      "text/plain": [
       "<IPython.core.display.Markdown object>"
      ]
     },
     "metadata": {},
     "output_type": "display_data"
    },
    {
     "name": "stdout",
     "output_type": "stream",
     "text": [
      "{'token_usage': {'completion_tokens': 605, 'prompt_tokens': 20, 'total_tokens': 625, 'completion_time': 1.1, 'prompt_time': 0.001977595, 'queue_time': 0.090149678, 'total_time': 1.101977595}, 'model_name': 'gemma2-9b-it', 'system_fingerprint': 'fp_10c08bf97d', 'finish_reason': 'stop', 'logprobs': None}\n"
     ]
    }
   ],
   "source": [
    "from langchain_groq import ChatGroq\n",
    "from langchain_core.prompts import PromptTemplate\n",
    "from IPython.display import Markdown\n",
    "\n",
    "# prompt + model + output parser\n",
    "prompt = PromptTemplate.from_template('{input}에 대해서 알려주세요')\n",
    "\n",
    "llm = ChatGroq(model = 'gemma2-9b-it')\n",
    "\n",
    "chain = prompt | llm\n",
    "\n",
    "response = chain.invoke({'input' : '인공지능'})\n",
    "\n",
    "display(Markdown(response.content))\n",
    "print(response.response_metadata)"
   ]
  },
  {
   "cell_type": "markdown",
   "metadata": {},
   "source": [
    "#### **ChatPromptTemplate + Model + StrOutputParser(문자열 출력 파서)**\n",
    "\n",
    "StrOutputParser(문자열 출력 파서) : 문자열파싱을 통해 content 없이 문자열을 출력해줌"
   ]
  },
  {
   "cell_type": "code",
   "execution_count": null,
   "metadata": {},
   "outputs": [
    {
     "data": {
      "text/markdown": [
       "인공지능(AI)은 인간의 지능을 모방하도록 설계된 컴퓨터 프로그램입니다. \n",
       "\n",
       "**주요 특징:**\n",
       "\n",
       "* **학습:** AI는 데이터를 분석하고 패턴을 파악하여 스스로 학습할 수 있습니다. \n",
       "    * **지도 학습:** 주어진 데이터와 함께 정답이 함께 제공되어, AI가 데이터를 분석하고 정답을 예측하는 방식.\n",
       "    * **비지도 학습:** 정답이 없는 데이터만 제공되어, AI가 데이터의 패턴을 찾고 그룹화하는 방식.\n",
       "    * **강화 학습:** AI가 행동을 통해 보상을 받거나 벌을 받으며 학습하는 방식.\n",
       "* **추론:** AI는 학습한 데이터를 바탕으로 새로운 정보를 추론하고 결론을 도출할 수 있습니다.\n",
       "* **문제 해결:** AI는 복잡한 문제를 분석하고 해결책을 제시할 수 있습니다.\n",
       "* **자연어 처리:** AI는 인간의 언어를 이해하고 처리할 수 있습니다. \n",
       "    * 텍스트 분석, 번역, 대화 시스템 등에 사용됩니다.\n",
       "* **컴퓨터 비전:** AI는 이미지와 영상을 분석하고 이해할 수 있습니다.\n",
       "    * 객체 인식, 얼굴 인식, 영상 분석 등에 사용됩니다.\n",
       "\n",
       "**활용 분야:**\n",
       "\n",
       "* **자율 주행:** 자율 주행 자동차의 개발\n",
       "* **의료:** 질병 진단, 신약 개발\n",
       "* **금융:** 사기 탐지, 투자 분석\n",
       "* **제조:** 생산 자동화, 품질 관리\n",
       "* **마케팅:** 고객 분석, 맞춤형 광고\n",
       "* **교육:** 개인 맞춤형 학습, 자동 채점\n",
       "\n",
       "**AI의 미래:**\n",
       "\n",
       "AI 기술은 지속적으로 발전하고 있으며, 다양한 분야에서 더욱 큰 역할을 할 것으로 예상됩니다. \n",
       "\n",
       "하지만 AI의 발전과 함께 윤리적 쟁점, 일자리 변화 등의 문제도 논의되고 있습니다.\n",
       "\n",
       "\n"
      ],
      "text/plain": [
       "<IPython.core.display.Markdown object>"
      ]
     },
     "metadata": {},
     "output_type": "display_data"
    }
   ],
   "source": [
    "from langchain_groq import ChatGroq\n",
    "from langchain_core.prompts import ChatPromptTemplate, PromptTemplate\n",
    "from langchain_core.output_parsers import StrOutputParser\n",
    "\n",
    "# prompt + model + output parser\n",
    "prompt = ChatPromptTemplate.from_messages([\n",
    "  ('system', '사용자의 질문에 대해 상세히 설명해주는 AI 모델로서 사용자의 질문에 성실하게 답변 할 것, 인삿말이나 서두는 필요 없음'),\n",
    "   ('user', '{input}에 대해서 알려줘'),\n",
    "  \n",
    "])\n",
    "\n",
    "\n",
    "llm = ChatGroq(model = 'gemma2-9b-it')\n",
    "output_parser = StrOutputParser()\n",
    "\n",
    "\n",
    "chain = prompt | llm | output_parser\n",
    "\n",
    "answer = chain.invoke({'input' : '인공지능'})\n",
    "\n",
    "display(Markdown(answer))"
   ]
  }
 ],
 "metadata": {
  "kernelspec": {
   "display_name": "nlp",
   "language": "python",
   "name": "python3"
  },
  "language_info": {
   "codemirror_mode": {
    "name": "ipython",
    "version": 3
   },
   "file_extension": ".py",
   "mimetype": "text/x-python",
   "name": "python",
   "nbconvert_exporter": "python",
   "pygments_lexer": "ipython3",
   "version": "3.11.11"
  }
 },
 "nbformat": 4,
 "nbformat_minor": 2
}
